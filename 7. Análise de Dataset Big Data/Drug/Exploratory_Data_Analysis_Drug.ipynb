{
 "cells": [
  {
   "cell_type": "markdown",
   "metadata": {
    "application/vnd.databricks.v1+cell": {
     "cellMetadata": {
      "byteLimit": 2048000,
      "rowLimit": 10000
     },
     "inputWidgets": {},
     "nuid": "657a6571-15c5-44a9-9d87-54ad9b839578",
     "showTitle": false,
     "title": ""
    }
   },
   "source": [
    "# Notebook 2: Exploratory_Data_Analysis_Drug\n",
    "## Introdução\n",
    "Neste notebook, vamos carregar os dados da tabela `Drug` que foram salvos em formato Parquet no notebook anterior e realizar uma análise exploratória dos dados.\n",
    "\n",
    "## Passos\n",
    "\n",
    "1. **Configuração Inicial**\n",
    "    - Importar bibliotecas necessárias.\n",
    "\n",
    "2. **Carregar Dados do Parquet**\n",
    "    - Carregar os dados do arquivo Parquet `drug_raw`.\n",
    "\n",
    "3. **Mostrar o Schema e as Primeiras Linhas dos Dados**\n",
    "    - Verificar o schema dos dados carregados.\n",
    "    - Exibir as primeiras linhas do DataFrame.\n",
    "\n",
    "4. **Análise Exploratória dos Dados**\n",
    "    - Contar o número de linhas no DataFrame.\n",
    "    - Realizar estatísticas para variaveis numericas e nominais.\n",
    "    - Verificar valores nulos.\n",
    "    - Analisar coluna por coluna e testar possíveis alterações \n",
    "\n",
    "5. **Conclusão**\n",
    "    - Resumir as descobertas iniciais e preparar os dados para análises futuras."
   ]
  },
  {
   "cell_type": "code",
   "execution_count": 0,
   "metadata": {
    "application/vnd.databricks.v1+cell": {
     "cellMetadata": {
      "byteLimit": 2048000,
      "rowLimit": 10000
     },
     "inputWidgets": {},
     "nuid": "7465168f-66e1-467d-b0fb-b518e62a10cd",
     "showTitle": false,
     "title": ""
    }
   },
   "outputs": [],
   "source": [
    "# Importar bibliotecas necessárias\n",
    "from pyspark.sql import SparkSession\n",
    "from pyspark.sql.types import StructType, StructField, StringType, IntegerType\n",
    "from pyspark.sql.functions import col, count, when, initcap, lit, concat_ws, array, array_distinct, regexp_extract, coalesce, lower, isnull, regexp_replace, concat, substring\n",
    "\n",
    "\n"
   ]
  },
  {
   "cell_type": "code",
   "execution_count": 0,
   "metadata": {
    "application/vnd.databricks.v1+cell": {
     "cellMetadata": {
      "byteLimit": 2048000,
      "rowLimit": 10000
     },
     "inputWidgets": {},
     "nuid": "bc3a1f0d-4807-4acf-ad7b-83f6428aa1b3",
     "showTitle": false,
     "title": ""
    }
   },
   "outputs": [],
   "source": [
    "# Carregar dados do Parquet\n",
    "df_drug = spark.read.parquet('dbfs:/FileStore/FAERS-grupo-4/drug_raw')"
   ]
  },
  {
   "cell_type": "code",
   "execution_count": 0,
   "metadata": {
    "application/vnd.databricks.v1+cell": {
     "cellMetadata": {
      "byteLimit": 2048000,
      "rowLimit": 10000
     },
     "inputWidgets": {},
     "nuid": "a219fb50-9dc2-444c-97b2-42a52e98ea59",
     "showTitle": false,
     "title": ""
    }
   },
   "outputs": [],
   "source": [
    "# Mostrar o schema dos dados carregados\n",
    "df_drug.printSchema()"
   ]
  },
  {
   "cell_type": "markdown",
   "metadata": {
    "application/vnd.databricks.v1+cell": {
     "cellMetadata": {
      "byteLimit": 2048000,
      "rowLimit": 10000
     },
     "inputWidgets": {},
     "nuid": "723fec61-b8da-45e5-8bd5-7ee707493c6d",
     "showTitle": false,
     "title": ""
    }
   },
   "source": [
    "#####Analisar a tabela drug"
   ]
  },
  {
   "cell_type": "code",
   "execution_count": 0,
   "metadata": {
    "application/vnd.databricks.v1+cell": {
     "cellMetadata": {
      "byteLimit": 2048000,
      "rowLimit": 10000
     },
     "inputWidgets": {},
     "nuid": "993cb326-dadc-4967-9a45-b13a04530286",
     "showTitle": false,
     "title": ""
    }
   },
   "outputs": [],
   "source": [
    "# Exibir DataFrame\n",
    "df_drug.display()"
   ]
  },
  {
   "cell_type": "markdown",
   "metadata": {
    "application/vnd.databricks.v1+cell": {
     "cellMetadata": {
      "byteLimit": 2048000,
      "rowLimit": 10000
     },
     "inputWidgets": {},
     "nuid": "b3336d66-8d78-49e5-8c44-b8418380685d",
     "showTitle": false,
     "title": ""
    }
   },
   "source": [
    "\n",
    "##Metadados\n",
    "\n",
    "**PRIMARYID**\n",
    "- Contem o identificador do relatório FAERS, está bem classificado como 'long', pois é um nº, contudo não pode ser nullable. Todos os registos têm de ter um nº de relatório associado.\n",
    "\n",
    "**CASEID**\n",
    "- Contem o identificador do episódio FAERS, está bem classificado como 'integer', pois é um nº, contudo não pode ser nullable. Todos os registos têm de ter um nº de episódio associado.\n",
    "\n",
    "**DRUG_SEQ**\n",
    "- Número único para identificar um medicamento para um caso específico. Tipo de dados: Integer\n",
    "\n",
    "**ROLE_COD**\n",
    "- Código que indica o papel relatado do medicamento no evento adverso. Tipo de dado: string\n",
    "\n",
    "    Valores Possíveis:\n",
    "      \n",
    "        PS: Primary Suspect Drug\n",
    "        SS: Secondary Suspect Drug\n",
    "        C: Concomitante\n",
    "        I: Interagindo\n",
    "\n",
    "**DRUGNAME**\n",
    "- Nome do produto do medicamento. Tipo de dado: string\n",
    "\n",
    "**PROD_AI**\n",
    "- Ingrediente ativo do produto, quando disponível.Tipo de dado: string \n",
    "\n",
    "**VAL_VBM**\n",
    "- Código para a fonte do nome do medicamento. Tipo de Dado: Integer\n",
    "\n",
    "    Valores Possíveis:\n",
    "        1 - Nome comercial validado\n",
    "        2 - Nome exato usado\n",
    "\n",
    "**ROUTE**\n",
    "- Via de administração do medicamento.Tipo de Dado: String\n",
    "\n",
    "**DOSE_VBM**\n",
    "- Texto exato para dose, frequência e via de administração, conforme registrado no relatório.Tipo de Dado: String\n",
    "\n",
    "**CUM_DOSE_CHR** \n",
    "- Dose cumulativa até a primeira reação. Tipo de Dado: Double\n",
    "\n",
    "**CUM_DOSE_UNIT**\n",
    "- Unidade da dose cumulativa até a primeira reação. Tipo de Dado: String\n",
    "\n",
    "**DECHAL**\n",
    "- Código de dechallenge, indicando se a reação cessou quando a terapia com o medicamento foi interrompida. Tipo de Dado: String\n",
    "\n",
    "    Valores Possíveis:\n",
    "\n",
    "        Y: Dechallenge positivo\n",
    "        N: Dechallenge negativo\n",
    "        U: Desconhecido\n",
    "        D: Não se aplica\n",
    "      \n",
    "**RECHAL**\n",
    "- Código de rechallenge, indicando se a reação recorreu quando a terapia com o medicamento foi reiniciada. Tipo de Dado: String\n",
    "\n",
    "    Valores Possíveis:\n",
    "\n",
    "        Y: Rechallenge positivo\n",
    "        N: Rechallenge negativo\n",
    "        U: Desconhecido\n",
    "        D: Não se aplica\n",
    "\n",
    "\n",
    "**LOT_NUM**\n",
    "- Número do lote do medicamento conforme relatado. Tipo de Dado: String\n",
    "\n",
    "**EXP_DT**\n",
    "- Data de validade do medicamento no formato YYYYMMDD. Tipo de Dado: Integer\n",
    "\n",
    "**NDA_NUM**\n",
    "- Número do NDA (New Drug Application). Tipo de Dado: Long\n",
    "\n",
    "**DOSE_AMT**\n",
    "- Quantidade do medicamento relatada. Tipo de Dado: Double\n",
    "\n",
    "**DOSE_UNIT**\n",
    "- Unidade da dose do medicamento.Tipo de Dado: String\n",
    "\n",
    "**DOSE_FORM**\n",
    "- Forma da dose do medicamento. Tipo de Dado: String\n",
    "\n",
    "**DOSE_FREQ**\n",
    "- Código para a frequência da dose do medicamento. Tipo de Dado: String\n",
    "\n",
    "    Valores Possíveis:\n",
    "    \n",
    "       1X: Uma vez\n",
    "       BID: Duas vezes ao dia\n",
    "       TID: Três vezes ao dia\n",
    "       QD: Diariamente\n",
    "       PRN: Conforme necessário\n",
    "       ...\n"
   ]
  },
  {
   "cell_type": "code",
   "execution_count": 0,
   "metadata": {
    "application/vnd.databricks.v1+cell": {
     "cellMetadata": {
      "byteLimit": 2048000,
      "rowLimit": 10000
     },
     "inputWidgets": {},
     "nuid": "12a09fab-04b2-4153-95bf-762136407ca9",
     "showTitle": false,
     "title": ""
    }
   },
   "outputs": [],
   "source": [
    "df_drug.count()"
   ]
  },
  {
   "cell_type": "markdown",
   "metadata": {
    "application/vnd.databricks.v1+cell": {
     "cellMetadata": {
      "byteLimit": 2048000,
      "rowLimit": 10000
     },
     "inputWidgets": {},
     "nuid": "065c094a-b311-465c-9cbb-72ccf555c238",
     "showTitle": false,
     "title": ""
    }
   },
   "source": [
    "A tabela tem 9480689 registos.\n",
    "A maioria das variaveis sao nominais ou categoricas"
   ]
  },
  {
   "cell_type": "markdown",
   "metadata": {
    "application/vnd.databricks.v1+cell": {
     "cellMetadata": {
      "byteLimit": 2048000,
      "rowLimit": 10000
     },
     "inputWidgets": {},
     "nuid": "b0da0e88-2ed0-4991-add6-8605463835f4",
     "showTitle": false,
     "title": ""
    }
   },
   "source": [
    "## Estatísticas descritivas"
   ]
  },
  {
   "cell_type": "code",
   "execution_count": 0,
   "metadata": {
    "application/vnd.databricks.v1+cell": {
     "cellMetadata": {
      "byteLimit": 2048000,
      "rowLimit": 10000
     },
     "inputWidgets": {},
     "nuid": "0d1f20c9-15cb-4d3b-9534-dece08198601",
     "showTitle": false,
     "title": ""
    }
   },
   "outputs": [],
   "source": [
    "# Selecionar colunas numéricas\n",
    "columns_describe = [\"cum_dose_chr\", \"exp_dt\" , \"drug_seq\", \"dose_amt\"]\n",
    "\n",
    "# Estatísticas descritivas das colunas\n",
    "df_drug.select(columns_describe).describe().display()\n"
   ]
  },
  {
   "cell_type": "markdown",
   "metadata": {
    "application/vnd.databricks.v1+cell": {
     "cellMetadata": {
      "byteLimit": 2048000,
      "rowLimit": 10000
     },
     "inputWidgets": {},
     "nuid": "47e3f79d-490d-41fc-b6b5-cd1a3cb2b519",
     "showTitle": false,
     "title": ""
    }
   },
   "source": [
    "Algumas análises com pouca relevância, é necessário aprofundar...  "
   ]
  },
  {
   "cell_type": "markdown",
   "metadata": {
    "application/vnd.databricks.v1+cell": {
     "cellMetadata": {
      "byteLimit": 2048000,
      "rowLimit": 10000
     },
     "inputWidgets": {},
     "nuid": "a3a062c7-6020-4c18-9789-981119b5df3e",
     "showTitle": false,
     "title": ""
    }
   },
   "source": [
    "## Contagem da percentagem de valores nulos inicial"
   ]
  },
  {
   "cell_type": "code",
   "execution_count": 0,
   "metadata": {
    "application/vnd.databricks.v1+cell": {
     "cellMetadata": {
      "byteLimit": 2048000,
      "rowLimit": 10000
     },
     "inputWidgets": {},
     "nuid": "e6f546fa-de3d-4a75-8bad-b05b2e69ab9c",
     "showTitle": false,
     "title": ""
    }
   },
   "outputs": [],
   "source": [
    "total_rows = df_drug.count()\n",
    "\n",
    "null_percentages = {}\n",
    "\n",
    "# Iterar sobre as colunas e calcular porcentagens de valores nulos\n",
    "for col_name in df_drug.columns:\n",
    "    null_count = df_drug.where(col(col_name).isNull()).count()\n",
    "    null_percentage = (null_count / total_rows) * 100\n",
    "    null_percentages[col_name] = null_percentage\n",
    "\n",
    "# Exibir porcentagens de valores nulos por coluna\n",
    "for col_name, percentage in null_percentages.items():\n",
    "    print(f\"Coluna '{col_name}' possui {percentage:.2f}% de valores nulos.\")"
   ]
  },
  {
   "cell_type": "markdown",
   "metadata": {
    "application/vnd.databricks.v1+cell": {
     "cellMetadata": {
      "byteLimit": 2048000,
      "rowLimit": 10000
     },
     "inputWidgets": {},
     "nuid": "13ad3acf-18f0-4255-99b1-eb6276c2de10",
     "showTitle": false,
     "title": ""
    }
   },
   "source": [
    "\n",
    "### Tabela DRUG\n",
    "\n",
    "- Ao analisar percebo que as colunas primaryid, caseid, drug_seq, role_cod, drugname, val_vbm são essenciais para preenchimento desta tabela, com percentagem de null de 0,00%\n",
    "\n",
    "- Já colunas como a cum_dose_chr, cum_dose_unit e ainda exp_dt tem taxas de null proximas de 100%, nao permitindo inferenciar sobre as mesmas, no enanto, opta-se por manter estas variaveis e colunas uma vez que, podem ser vantajosas para análises especificas.\n",
    "\n",
    "- Sendo as colunas primaryid, caseid, drug_seq, role_cod, drugname e val_vbm essenciais para esta tabela, nao foram realizadas alterações , no entanto, para compreensao dos dados, relizaram-se algumas analises.\n",
    "\n",
    "\n"
   ]
  },
  {
   "cell_type": "markdown",
   "metadata": {
    "application/vnd.databricks.v1+cell": {
     "cellMetadata": {
      "byteLimit": 2048000,
      "rowLimit": 10000
     },
     "inputWidgets": {},
     "nuid": "0a0f862e-98e7-466e-a8a6-5255d9eb9ac2",
     "showTitle": false,
     "title": ""
    }
   },
   "source": [
    "## ROLE_COD"
   ]
  },
  {
   "cell_type": "code",
   "execution_count": 0,
   "metadata": {
    "application/vnd.databricks.v1+cell": {
     "cellMetadata": {
      "byteLimit": 2048000,
      "rowLimit": 10000
     },
     "inputWidgets": {},
     "nuid": "59ef59e7-c126-4486-86bf-f946ea6fdb54",
     "showTitle": false,
     "title": ""
    }
   },
   "outputs": [],
   "source": [
    "df_drug.groupBy('ROLE_COD').count().orderBy('count', ascending=False).display()"
   ]
  },
  {
   "cell_type": "markdown",
   "metadata": {
    "application/vnd.databricks.v1+cell": {
     "cellMetadata": {
      "byteLimit": 2048000,
      "rowLimit": 10000
     },
     "inputWidgets": {},
     "nuid": "7c6daf09-6daf-49f0-b811-24e27bd69f47",
     "showTitle": false,
     "title": ""
    }
   },
   "source": [
    "Na tabela Drugs, o campo Role_Cod deve estar sempre preenchido. Existem 2 valores a null, sendo esta uma variavel categorica, opta-se por substituir os 2 valores a null por a moda desta variavel (SS). "
   ]
  },
  {
   "cell_type": "code",
   "execution_count": 0,
   "metadata": {
    "application/vnd.databricks.v1+cell": {
     "cellMetadata": {
      "byteLimit": 2048000,
      "rowLimit": 10000
     },
     "inputWidgets": {},
     "nuid": "e5f4baf3-a612-4dd0-8999-10b3c366237e",
     "showTitle": false,
     "title": ""
    }
   },
   "outputs": [],
   "source": [
    "df_drug = df_drug.withColumn(\n",
    "    \"Role_Cod\",\n",
    "    when(col(\"Role_Cod\").isNull(), \"SS\").otherwise(col(\"Role_Cod\"))\n",
    ")\n"
   ]
  },
  {
   "cell_type": "code",
   "execution_count": 0,
   "metadata": {
    "application/vnd.databricks.v1+cell": {
     "cellMetadata": {
      "byteLimit": 2048000,
      "rowLimit": 10000
     },
     "inputWidgets": {},
     "nuid": "203bc5b6-98ce-4e0a-a4b8-f3b566a0cb30",
     "showTitle": false,
     "title": ""
    }
   },
   "outputs": [],
   "source": [
    "#Confirmar se já não existem valores null\n",
    "df_drug.groupBy('ROLE_COD').count().orderBy('count', ascending=False).display()"
   ]
  },
  {
   "cell_type": "markdown",
   "metadata": {
    "application/vnd.databricks.v1+cell": {
     "cellMetadata": {
      "byteLimit": 2048000,
      "rowLimit": 10000
     },
     "inputWidgets": {},
     "nuid": "1581e74f-018f-4129-aa13-2711ab9908d3",
     "showTitle": false,
     "title": ""
    }
   },
   "source": [
    "As variaveis apresentam-se em siglas. Para uma melhor perceção e interpretação dos resultados opta-se por substituir as variavies pelo que as mesmas representam."
   ]
  },
  {
   "cell_type": "code",
   "execution_count": 0,
   "metadata": {
    "application/vnd.databricks.v1+cell": {
     "cellMetadata": {
      "byteLimit": 2048000,
      "rowLimit": 10000
     },
     "inputWidgets": {},
     "nuid": "ce7a6346-2c33-46fc-9b5a-512c35555db1",
     "showTitle": false,
     "title": ""
    }
   },
   "outputs": [],
   "source": [
    "df_drug.withColumn(\n",
    "    \"ROLE_COD\",\n",
    "    when(col(\"ROLE_COD\") == \"PS\", \"Primary Suspect Drug\")\n",
    "    .when(col(\"ROLE_COD\") == \"SS\", \"Secondary Suspect Drug\")\n",
    "    .when(col(\"ROLE_COD\") == \"C\", \"Concomitant\")\n",
    "    .when(col(\"ROLE_COD\") == \"I\", \"Interaction\")\n",
    "    .otherwise(\"Unknown\")\n",
    ").display()"
   ]
  },
  {
   "cell_type": "markdown",
   "metadata": {
    "application/vnd.databricks.v1+cell": {
     "cellMetadata": {
      "byteLimit": 2048000,
      "rowLimit": 10000
     },
     "inputWidgets": {},
     "nuid": "9688187e-2752-4806-848a-6fb4eb92bf5f",
     "showTitle": false,
     "title": ""
    }
   },
   "source": [
    "## drugname VS prod_ai VS val_vbm"
   ]
  },
  {
   "cell_type": "markdown",
   "metadata": {
    "application/vnd.databricks.v1+cell": {
     "cellMetadata": {
      "byteLimit": 2048000,
      "rowLimit": 10000
     },
     "inputWidgets": {},
     "nuid": "137970e8-f2a4-4838-b261-1830052f148a",
     "showTitle": false,
     "title": ""
    }
   },
   "source": [
    "O sistema FAERS de fato possui um dicionário formal, mas não está disponível publicamente. A principal fonte do dicionário da FDA é o Structured Product Labeling (SPL), no entanto, o link que daria  nomes de medicamentos do SPL não se encontrava disponíveis durante esta sessão. \n",
    "Também utilizam outras referências que não estão disponíveis publicamente (por exemplo, o Dicionário de Medicamentos da Organização Mundial da Saúde (WHO-DD), RxNorm do NIH, etc.). \n",
    "Nos dados pode-se apresentar uma consistência nos dados de medicamentos e fabricantes, pois agora são menos dependentes de registos textuais para passarem a teer vocabulário controlado do dicionário de dados. \n",
    "\n",
    "\n",
    "\n",
    "\n",
    "\n",
    "\n"
   ]
  },
  {
   "cell_type": "code",
   "execution_count": 0,
   "metadata": {
    "application/vnd.databricks.v1+cell": {
     "cellMetadata": {
      "byteLimit": 2048000,
      "rowLimit": 10000
     },
     "inputWidgets": {},
     "nuid": "c152a811-33b0-4d75-95ad-a211eb5bcdb5",
     "showTitle": false,
     "title": ""
    }
   },
   "outputs": [],
   "source": [
    "# Mostrar os registros filtrados para compreender como são apresentados os dados que tem valores null no prod_ai\n",
    "df_drug.filter(col('prod_ai').isNull()).display()"
   ]
  },
  {
   "cell_type": "markdown",
   "metadata": {
    "application/vnd.databricks.v1+cell": {
     "cellMetadata": {
      "byteLimit": 2048000,
      "rowLimit": 10000
     },
     "inputWidgets": {},
     "nuid": "2638b3b5-53ac-4f27-8ce8-34a45121596b",
     "showTitle": false,
     "title": ""
    }
   },
   "source": [
    "\n",
    "Cmo já analisado anteriormente 100% dos dados apresentam drugname, no entanto, alguns destes nomes não sao validados pelos dicionarios, tal como podemos verificar na colona val_vbm, que indica se o nome é validado ou se encontra-se em verbatim, ou seja, tal como descrito. \n",
    "\n",
    "2,18% dos dados nao apresenta prod_ai, no entanto, este dado considera-se imprescidivel para efetivamente qual a substancia causadora da reaçao."
   ]
  },
  {
   "cell_type": "code",
   "execution_count": 0,
   "metadata": {
    "application/vnd.databricks.v1+cell": {
     "cellMetadata": {
      "byteLimit": 2048000,
      "rowLimit": 10000
     },
     "inputWidgets": {},
     "nuid": "e6992f7e-f77e-433b-9ea6-97851a64f359",
     "showTitle": false,
     "title": ""
    }
   },
   "outputs": [],
   "source": [
    "# Filtrar registros onde 'val_vbm' é igual a 2\n",
    "df_val_vbm_2 = df_drug.filter(col('val_vbm') == 2)\n",
    "\n",
    "# Contar o número de registros filtrados\n",
    "count_val_vbm_2 = df_val_vbm_2.count()\n",
    "\n",
    "print(f\"Número de registros onde 'val_vbm' é 2: {count_val_vbm_2}\")"
   ]
  },
  {
   "cell_type": "code",
   "execution_count": 0,
   "metadata": {
    "application/vnd.databricks.v1+cell": {
     "cellMetadata": {
      "byteLimit": 2048000,
      "rowLimit": 10000
     },
     "inputWidgets": {},
     "nuid": "112a8efc-47f4-446d-a16f-04389a1ed91d",
     "showTitle": false,
     "title": ""
    }
   },
   "outputs": [],
   "source": [
    "\n",
    "# Contar o número total de registros\n",
    "total_count = df_drug.count()\n",
    "\n",
    "# Filtrar os registros onde val_vbm é igual a 2\n",
    "count_val_vbm_2 = df_drug.filter(col('val_vbm') == 2).count()\n",
    "\n",
    "# Calcular a porcentagem\n",
    "percentage_val_vbm_2 = (count_val_vbm_2 / total_count) * 100\n",
    "\n",
    "# Exibir o resultado\n",
    "print(f\"A percentagem de registos com val_vbm igual a 2 é: {percentage_val_vbm_2:.2f}%\")"
   ]
  },
  {
   "cell_type": "code",
   "execution_count": 0,
   "metadata": {
    "application/vnd.databricks.v1+cell": {
     "cellMetadata": {
      "byteLimit": 2048000,
      "rowLimit": 10000
     },
     "inputWidgets": {},
     "nuid": "c99ee384-cbe8-4513-9c20-e7740ac6bb38",
     "showTitle": false,
     "title": ""
    }
   },
   "outputs": [],
   "source": [
    "from pyspark.sql.functions import col, isnull\n",
    "\n",
    "# Filtrar registros onde 'val_vbm' é igual a 2 e 'prod_ai' é NULL\n",
    "df_val_vbm_2_null_prod_ai = df_drug.filter((col('val_vbm') == 2) & (isnull(col('prod_ai'))))\n",
    "\n",
    "# Contar o número de registros filtrados\n",
    "count_val_vbm_2_null_prod_ai = df_val_vbm_2_null_prod_ai.count()\n",
    "\n",
    "print(f\"Número de registros onde 'val_vbm' é 2 e 'prod_ai' é NULL: {count_val_vbm_2_null_prod_ai}\")\n"
   ]
  },
  {
   "cell_type": "code",
   "execution_count": 0,
   "metadata": {
    "application/vnd.databricks.v1+cell": {
     "cellMetadata": {
      "byteLimit": 2048000,
      "rowLimit": 10000
     },
     "inputWidgets": {},
     "nuid": "1edb020a-0bef-43ab-a7a8-3fdd267343d3",
     "showTitle": false,
     "title": ""
    }
   },
   "outputs": [],
   "source": [
    "from pyspark.sql.functions import col, isnull\n",
    "\n",
    "# Filtrar registros onde 'val_vbm' é igual a 2 e 'prod_ai' é NULL\n",
    "df_val_vbm_2_null_prod_ai = df_drug.filter((col('val_vbm') == 2) & (isnull(col('prod_ai'))))\n",
    "\n",
    "# Contar o número de registros filtrados\n",
    "count_val_vbm_2_null_prod_ai = df_val_vbm_2_null_prod_ai.count()\n",
    "\n",
    "print(f\"Número de registros onde 'val_vbm' é 2 e 'prod_ai' é NULL: {count_val_vbm_2_null_prod_ai}\")\n"
   ]
  },
  {
   "cell_type": "code",
   "execution_count": 0,
   "metadata": {
    "application/vnd.databricks.v1+cell": {
     "cellMetadata": {
      "byteLimit": 2048000,
      "rowLimit": 10000
     },
     "inputWidgets": {},
     "nuid": "50f8a2c2-fd99-4768-9653-8f2bf9a143df",
     "showTitle": false,
     "title": ""
    }
   },
   "outputs": [],
   "source": [
    "\n",
    "# Filtrar registros onde 'prod_ai' é nulo e 'val_vbm' é igual a 1\n",
    "df_prod_ai_null_val_vbm_1 = df_drug.filter((col('prod_ai').isNull()) & (col('val_vbm') == 1))\n",
    "\n",
    "# Opcional: Contar o número de registros filtrados\n",
    "count_prod_ai_null_val_vbm_1 = df_prod_ai_null_val_vbm_1.count()\n",
    "print(f\"Número de registros onde 'prod_ai' é nulo e 'val_vbm' é 1: {count_prod_ai_null_val_vbm_1}\")"
   ]
  },
  {
   "cell_type": "code",
   "execution_count": 0,
   "metadata": {
    "application/vnd.databricks.v1+cell": {
     "cellMetadata": {
      "byteLimit": 2048000,
      "rowLimit": 10000
     },
     "inputWidgets": {},
     "nuid": "b4cc7b1c-e87a-430d-abf5-00ba40a0e9ad",
     "showTitle": false,
     "title": ""
    }
   },
   "outputs": [],
   "source": [
    "from pyspark.sql.functions import col, isnull\n",
    "\n",
    "# Contar o número total de registros\n",
    "total_count = df_drug.count()\n",
    "\n",
    "# Filtrar os registros onde val_vbm é igual a 2 ou prod_ai é NULL\n",
    "count_val_vbm_2_or_null_prod_ai = df_drug.filter((col('val_vbm') == 2) | (isnull(col('prod_ai')))).count()\n",
    "\n",
    "# Calcular a porcentagem\n",
    "percentage_val_vbm_2_or_null_prod_ai = (count_val_vbm_2_or_null_prod_ai / total_count) * 100\n",
    "\n",
    "# Exibir o resultado\n",
    "print(f\"A percentagem de registos com val_vbm igual a 2 ou prod_ai é NULL é: {percentage_val_vbm_2_or_null_prod_ai:.2f}%\")\n"
   ]
  },
  {
   "cell_type": "markdown",
   "metadata": {
    "application/vnd.databricks.v1+cell": {
     "cellMetadata": {
      "byteLimit": 2048000,
      "rowLimit": 10000
     },
     "inputWidgets": {},
     "nuid": "fd4b79f5-15e4-4a72-bbb2-369c3ded65af",
     "showTitle": false,
     "title": ""
    }
   },
   "source": [
    "Compreendendo a baixa percentagem de registos de apresentam null na seu prod_ai (2.18%) e a sua alta associaçao com nome do medicamento nao validado pelo dicionario e ainda a dificuldade de aceder publicamente aos dicionarios de medicamentos da FAERS, opta-se por eliminar os registos que apresentem null no prod_ai e val_vbm=2, para, posteriormente, obter analises mais fidedignas e menos enviesadas.\n",
    "\n",
    "Com isto, tambem para uma analise mais objetiva da tabela, uma vez que todos os registos apresentaram o nome validado, opta-se por eliminar esta coluna. "
   ]
  },
  {
   "cell_type": "code",
   "execution_count": 0,
   "metadata": {
    "application/vnd.databricks.v1+cell": {
     "cellMetadata": {
      "byteLimit": 2048000,
      "rowLimit": 10000
     },
     "inputWidgets": {},
     "nuid": "649ef826-b215-4337-9edf-241aec42b2a2",
     "showTitle": false,
     "title": ""
    }
   },
   "outputs": [],
   "source": [
    "\n",
    "# Filtrar os registros onde prod_ai é null e val_vbm é igual a 2 + eliminar coluna val_vbm\n",
    "df_filtered = df_drug.filter((col('prod_ai').isNotNull()) & (col('val_vbm') != 2))\n",
    "\n",
    "df_filtered = df_drug.drop('val_vbm')\n",
    "\n",
    "df_filtered.display()\n",
    "\n"
   ]
  },
  {
   "cell_type": "markdown",
   "metadata": {
    "application/vnd.databricks.v1+cell": {
     "cellMetadata": {
      "byteLimit": 2048000,
      "rowLimit": 10000
     },
     "inputWidgets": {},
     "nuid": "04f6da3f-ea87-490c-bfad-62aa63745146",
     "showTitle": false,
     "title": ""
    }
   },
   "source": [
    "##Route"
   ]
  },
  {
   "cell_type": "code",
   "execution_count": 0,
   "metadata": {
    "application/vnd.databricks.v1+cell": {
     "cellMetadata": {
      "byteLimit": 2048000,
      "rowLimit": 10000
     },
     "inputWidgets": {},
     "nuid": "e462da29-f918-45ed-91a3-ffca6f7c901e",
     "showTitle": false,
     "title": ""
    }
   },
   "outputs": [],
   "source": [
    "df_drug.groupBy('ROUTE').count().orderBy('count', ascending=False).display()"
   ]
  },
  {
   "cell_type": "markdown",
   "metadata": {
    "application/vnd.databricks.v1+cell": {
     "cellMetadata": {
      "byteLimit": 2048000,
      "rowLimit": 10000
     },
     "inputWidgets": {},
     "nuid": "052f95f8-9fae-4a19-8f20-ae1f6c7eb1e6",
     "showTitle": false,
     "title": ""
    }
   },
   "source": [
    "- Percebendo que existe somente um injetion e um injetable e, neste contexto os dados nao fazem sentido, opta-se por colocar estes 2 valores como null\n",
    "-Tambem existe 3 descriçoes para a administraçao via intravenous \"drip\" , \"bolus\" e \"(not otherwise specified)\", pelo que se opta por unfiormizar os dados e colocar uma so descriçao para todos os valores. "
   ]
  },
  {
   "cell_type": "code",
   "execution_count": 0,
   "metadata": {
    "application/vnd.databricks.v1+cell": {
     "cellMetadata": {
      "byteLimit": 2048000,
      "rowLimit": 10000
     },
     "inputWidgets": {},
     "nuid": "0141ed75-882b-40de-9dcd-85b749977121",
     "showTitle": false,
     "title": ""
    }
   },
   "outputs": [],
   "source": [
    "df_drug_newroute = df_drug.withColumn(\n",
    "    \"ROUTE\",\n",
    "    when((col(\"ROUTE\") == \"Unknown\") | (col(\"ROUTE\") == \"INJECTION\")| (col(\"ROUTE\") == \"INJECTABLE\")|(col(\"ROUTE\") == \"Other\"), None)\n",
    "    .when((col(\"ROUTE\") == \"Intravenous drip\") | \n",
    "          (col(\"ROUTE\") == \"Intravenous (not otherwise specified)\") | \n",
    "          (col(\"ROUTE\") == \"Intravenous bolus\"), \"Intravenous\")\n",
    "    .otherwise(col(\"ROUTE\"))\n",
    ")\n",
    "\n",
    "df_drug_newroute.display()"
   ]
  },
  {
   "cell_type": "markdown",
   "metadata": {
    "application/vnd.databricks.v1+cell": {
     "cellMetadata": {
      "byteLimit": 2048000,
      "rowLimit": 10000
     },
     "inputWidgets": {},
     "nuid": "e10d3bfd-66be-45aa-ab64-a760a0dd28ef",
     "showTitle": false,
     "title": ""
    }
   },
   "source": [
    "##Dose_vbm\n",
    "- É uma tabela verbatim text sendo sugerido o formato dose, frequency, and route\n",
    "- Uma vez que esta coluna tem menos percentagem de null e pode-se obter informaçoes importantes para preencher outras colunas, vamos tentar uniformizar alguns dados desta tabela"
   ]
  },
  {
   "cell_type": "code",
   "execution_count": 0,
   "metadata": {
    "application/vnd.databricks.v1+cell": {
     "cellMetadata": {
      "byteLimit": 2048000,
      "rowLimit": 10000
     },
     "inputWidgets": {},
     "nuid": "df437a31-d4a0-494b-a20c-88018b55a2e4",
     "showTitle": false,
     "title": ""
    }
   },
   "outputs": [],
   "source": [
    "distinct_dosevbm = df_drug.select('dose_vbm').distinct()\n",
    "\n",
    "# Mostrar os valores distintos\n",
    "distinct_dosevbm.display()\n",
    "\n",
    "# Opcional: Contar o número de valores distintos\n",
    "count_distinct_dosevbm = distinct_dosevbm.count()"
   ]
  },
  {
   "cell_type": "code",
   "execution_count": 0,
   "metadata": {
    "application/vnd.databricks.v1+cell": {
     "cellMetadata": {
      "byteLimit": 2048000,
      "rowLimit": 10000
     },
     "inputWidgets": {},
     "nuid": "b87b6028-2419-4150-b3d2-3c562fbfe775",
     "showTitle": false,
     "title": ""
    }
   },
   "outputs": [],
   "source": [
    "##Palavras que podem ser implementadas da coluna route \n",
    "\n",
    "# Lista de palavras a serem procuradas\n",
    "words = [\n",
    "    \"Oral\", \"Intravenous\", \"Subcutaneous\", \"Intravenous drip\", \"Intramuscular\", \"Topical\", \"Transplacental\", \n",
    "    \"Respiratory (inhalation)\", \"Ophthalmic\", \"Intra-uterine\", \"Transdermal\", \"Intracardiac\", \"Intravenous bolus\", \n",
    "    \"Nasal\", \"Intrathecal\", \"Rectal\", \"Intraperitoneal\", \"Cutaneous\", \"Endocervical\", \"Vaginal\", \"Intraocular\", \n",
    "    \"Sublingual\", \"Intra-arterial\", \"Buccal\", \"Parenteral\", \"Intra-articular\", \"Intracavernous\", \"Urethral\", \n",
    "    \"Epidural\", \"Transmammary\", \"Intravesical\", \"Subconjunctival\", \"Intradermal\", \"Hemodialysis\", \"Dental\", \n",
    "    \"Intralesional\", \"Periarticular\", \"Intrameningeal\", \"Oropharyngeal\", \"Auricular (otic)\", \"Endosinusial\", \n",
    "    \"Intra-amniotic\", \"Endotracheal\", \"Intradiscal (intraspinal)\", \"Intrapleural\", \"Occlusive dressing technique\", \n",
    "    \"Intratumor\", \"Intracervical\", \"Intracisternal\", \"Intramedullar (bone marrow)\", \"Intra corpus cavernosum\", \n",
    "    \"Intrapericardial\", \"Intrathoracic\", \"Intratracheal\", \"Iontophoresis\", \"Intracoronary\", \"Intrasynovial\", \n",
    "    \"Perineural\", \"Retrobulbar\", \"Intracerebral\", \"Intrahepatic\", \"Intralymphatic\", \"Intracorneal\", \"Extra-amniotic\"\n",
    "]\n",
    "\n",
    "# Criar as colunas temporárias para cada palavra e combiná-las em uma única coluna 'routenew'\n",
    "df_drug = df_drug.withColumn(\n",
    "    'routenew',\n",
    "    coalesce(*[when(col('dose_vbm').rlike(f\"(?i)\\\\b{word}\\\\b\"), initcap(lit(word))) for word in words])\n",
    ")\n",
    "\n",
    "# Criar a coluna 'routenew2' combinando 'routenew' e 'route'\n",
    "df_drug = df_drug.withColumn(\n",
    "    'routenew2',\n",
    "    when(col('route').isNotNull(), col('route')).otherwise(col('routenew'))\n",
    ")\n",
    "\n",
    "# Mostrar o DataFrame atualizado\n",
    "df_drug.select('dose_vbm', 'route', 'routenew', 'routenew2').display()"
   ]
  },
  {
   "cell_type": "markdown",
   "metadata": {
    "application/vnd.databricks.v1+cell": {
     "cellMetadata": {
      "byteLimit": 2048000,
      "rowLimit": 10000
     },
     "inputWidgets": {},
     "nuid": "0f68799f-e32d-434c-843b-cbcb31a196a1",
     "showTitle": false,
     "title": ""
    }
   },
   "source": [
    "- Opta-se por não realizar a mesma sequencia para as dosagens dos medicamentos porque podem exitir erros ao associar as doses uma vez que, em modo verbatim, a pessoa pode estar a referenciar a dose_unit, a cum_dose_unit ou a dosagem do frasco ou solução, entres outras coisas, o que se torna mais dificil inferir nestas unidades de medida\n"
   ]
  },
  {
   "cell_type": "code",
   "execution_count": 0,
   "metadata": {
    "application/vnd.databricks.v1+cell": {
     "cellMetadata": {
      "byteLimit": 2048000,
      "rowLimit": 10000
     },
     "inputWidgets": {},
     "nuid": "96aa0bec-20de-4b23-8404-4fea30a2cb1d",
     "showTitle": false,
     "title": ""
    }
   },
   "outputs": [],
   "source": [
    "\n",
    "# Ajustar a coluna dose_vbm\n",
    "df_drug.withColumn(\n",
    "    \"dose_vbm\",\n",
    "    # Substituir \"unk\" em qualquer posição e em qualquer formato (maiúsculas ou minúsculas)\n",
    "    regexp_replace(col(\"dose_vbm\"), \"(?i)unk\", \"\")\n",
    ").display()\n",
    "\n",
    "# Remover vírgulas ou pontos no início ou fim dos registros\n",
    "df_drug = df_drug.withColumn(\n",
    "    \"dose_vbm\",\n",
    "    # Substituir vírgulas ou pontos no início ou fim dos registros\n",
    "    regexp_replace(col(\"dose_vbm\"), \"^[,\\\\.]+|[,\\\\.]+$\", \"\")\n",
    ")\n"
   ]
  },
  {
   "cell_type": "markdown",
   "metadata": {
    "application/vnd.databricks.v1+cell": {
     "cellMetadata": {
      "byteLimit": 2048000,
      "rowLimit": 10000
     },
     "inputWidgets": {},
     "nuid": "a615335f-a3d0-4cb8-9033-4b9d9ccafc12",
     "showTitle": false,
     "title": ""
    }
   },
   "source": [
    "- Por a quantidade de UNK e unkwon presente, opta-se por eliminar estas expressões desta coluna, uma vez que nao trazem relevancia.\n",
    "- As analises nesta coluna dose_vbm deve ser evitada para a analise porque torna-se dificil opter resultados concretos e objetivos "
   ]
  },
  {
   "cell_type": "markdown",
   "metadata": {
    "application/vnd.databricks.v1+cell": {
     "cellMetadata": {
      "byteLimit": 2048000,
      "rowLimit": 10000
     },
     "inputWidgets": {},
     "nuid": "cb9a2f3c-0e3b-4a7a-9452-bd7bff0935fa",
     "showTitle": false,
     "title": ""
    }
   },
   "source": [
    "As Coluna 'cum_dose_chr' e 'cum_dose_unit'  possuem 97.64% de valores nulos, esta colunas estao aparentemente corretas e não se iram realizar alterações"
   ]
  },
  {
   "cell_type": "markdown",
   "metadata": {
    "application/vnd.databricks.v1+cell": {
     "cellMetadata": {
      "byteLimit": 2048000,
      "rowLimit": 10000
     },
     "inputWidgets": {},
     "nuid": "800d88be-3a29-43ea-8ddb-e90b33e95803",
     "showTitle": false,
     "title": ""
    }
   },
   "source": [
    "##Dechal\n",
    "Pode apresentar os seguintes valores:\n",
    " - Y: Dechallenge positivo\n",
    " - N: Dechallenge negativo\n",
    " - U: Desconhecido\n",
    " - D: Não se aplica"
   ]
  },
  {
   "cell_type": "markdown",
   "metadata": {
    "application/vnd.databricks.v1+cell": {
     "cellMetadata": {
      "byteLimit": 2048000,
      "rowLimit": 10000
     },
     "inputWidgets": {},
     "nuid": "8a05fe78-3d56-4eca-80d5-f97e75a9bf79",
     "showTitle": false,
     "title": ""
    }
   },
   "source": [
    "Para melhor perceção do tabela opta-se por substiuir os valores pelo seu significado e, considerando campo de desconhecido como irrelevante, opta-se por o substituir por null"
   ]
  },
  {
   "cell_type": "code",
   "execution_count": 0,
   "metadata": {
    "application/vnd.databricks.v1+cell": {
     "cellMetadata": {
      "byteLimit": 2048000,
      "rowLimit": 10000
     },
     "inputWidgets": {},
     "nuid": "6b6f0226-0bb3-428f-957a-b8391bf738ec",
     "showTitle": false,
     "title": ""
    }
   },
   "outputs": [],
   "source": [
    "\n",
    "df_drug_dechal = df_drug.withColumn(\n",
    "    \"dechal\",\n",
    "    when(col(\"dechal\") == \"Y\", \"Positive\")\n",
    "    .when(col(\"dechal\") == \"N\", \"Negative\")\n",
    "    .when(col(\"dechal\") == \"U\", None)\n",
    "    .when(col(\"dechal\") == \"D\", \"Does not apply\")\n",
    "    .otherwise(col(\"dechal\"))\n",
    ")\n",
    "\n",
    "df_drug_dechal.select(\"dechal\").distinct().display()"
   ]
  },
  {
   "cell_type": "markdown",
   "metadata": {
    "application/vnd.databricks.v1+cell": {
     "cellMetadata": {
      "byteLimit": 2048000,
      "rowLimit": 10000
     },
     "inputWidgets": {},
     "nuid": "d43b1422-bfb1-4684-ac98-df876a23c810",
     "showTitle": false,
     "title": ""
    }
   },
   "source": [
    "##Rechal\n",
    "Pode apresentar os seguintes valores:\n",
    " - Y: Rechallenge positivo\n",
    " - N: Rechallenge negativo\n",
    " - U: Desconhecido\n",
    " - D: Não se aplica"
   ]
  },
  {
   "cell_type": "markdown",
   "metadata": {
    "application/vnd.databricks.v1+cell": {
     "cellMetadata": {
      "byteLimit": 2048000,
      "rowLimit": 10000
     },
     "inputWidgets": {},
     "nuid": "97009ef0-a7b6-4227-9c75-7fcf4de708df",
     "showTitle": false,
     "title": ""
    }
   },
   "source": [
    "Para melhor perceção do tabela opta-se por substiuir os valores pelo seu significado e, considerando campo de desconhecido como irrelevante, opta-se por o substituir por null"
   ]
  },
  {
   "cell_type": "code",
   "execution_count": 0,
   "metadata": {
    "application/vnd.databricks.v1+cell": {
     "cellMetadata": {
      "byteLimit": 2048000,
      "rowLimit": 10000
     },
     "inputWidgets": {},
     "nuid": "f79a348d-4e07-498c-9bb0-0a623ba06601",
     "showTitle": false,
     "title": ""
    }
   },
   "outputs": [],
   "source": [
    "df_drug_rechal = df_drug.withColumn(\n",
    "    \"rechal\",\n",
    "    when(col(\"rechal\") == \"Y\", \"Positive\")\n",
    "    .when(col(\"rechal\") == \"N\", \"Negative\")\n",
    "    .when(col(\"rechal\") == \"U\", None)\n",
    "    .when(col(\"rechal\") == \"D\", \"Does not apply\")\n",
    "    .otherwise(col(\"rechal\"))\n",
    ")\n",
    "\n",
    "df_drug_rechal.select(\"rechal\").distinct().display()"
   ]
  },
  {
   "cell_type": "markdown",
   "metadata": {
    "application/vnd.databricks.v1+cell": {
     "cellMetadata": {
      "byteLimit": 2048000,
      "rowLimit": 10000
     },
     "inputWidgets": {},
     "nuid": "29d83ef4-efed-41fd-822e-b8315cca20aa",
     "showTitle": false,
     "title": ""
    }
   },
   "source": [
    "#LOT_NUM"
   ]
  },
  {
   "cell_type": "code",
   "execution_count": 0,
   "metadata": {
    "application/vnd.databricks.v1+cell": {
     "cellMetadata": {
      "byteLimit": 2048000,
      "rowLimit": 10000
     },
     "inputWidgets": {},
     "nuid": "058275f8-d785-4d86-8357-5d20138ee2a8",
     "showTitle": false,
     "title": ""
    }
   },
   "outputs": [],
   "source": [
    "df_drug.groupBy('LOT_NUM').count().orderBy('count', ascending=False).display()\n"
   ]
  },
  {
   "cell_type": "markdown",
   "metadata": {
    "application/vnd.databricks.v1+cell": {
     "cellMetadata": {
      "byteLimit": 2048000,
      "rowLimit": 10000
     },
     "inputWidgets": {},
     "nuid": "9f590bc4-80b6-43ea-8de9-fd90f4fc8d6c",
     "showTitle": false,
     "title": ""
    }
   },
   "source": [
    "- As analisar as expressoes e percetivel que existem valores incorretos ou mal escritos. Vamos uniformizar os dados e, para tal, considera-se imporante eliminar dados se encontrem depois de , ou ; ou | ou / naao sendo esta a representaçao padrao do num_ lote . Opta-se por se deixar os . e - \n",
    "- Eliminam-se os espaços\n",
    "- Tenta-se tambem limpar algumas expressoes indesejadas expressoes_indesejadas como UNK|unknown|NA|Not|Available|ASKED|BUT|reported|time|at|this|asku|N/A , que se encontram presentes em diversas celulas"
   ]
  },
  {
   "cell_type": "code",
   "execution_count": 0,
   "metadata": {
    "application/vnd.databricks.v1+cell": {
     "cellMetadata": {
      "byteLimit": 2048000,
      "rowLimit": 10000
     },
     "inputWidgets": {},
     "nuid": "404db817-ed58-4a00-90bd-62eeeb3b1e24",
     "showTitle": false,
     "title": ""
    }
   },
   "outputs": [],
   "source": [
    "\n",
    "# Limpar a coluna LOT_NUM\n",
    "df_drug = df_drug.withColumn(\n",
    "    \"LOT_NUM\",\n",
    "    # Remover tudo após ,;|/\n",
    "    regexp_replace(\"LOT_NUM\", r\"[,;|/].*$\", \"\")\n",
    ")\n",
    "\n",
    "#Remover os espaços em branco\n",
    "df_drug = df_drug.withColumn(\"LOT_NUM\", regexp_replace(\"LOT_NUM\", r\"\\s+\", \"\"))\n",
    "\n",
    "\n",
    "# Remover expressões indesejadas \n",
    "expressoes_indesejadas = [\n",
    "    r\"(?i)\\b(UNK|unknown|NA|Not|Available|ASKED|BUT|reported|time|at|this|asku|N/A)\\b\"\n",
    "]\n",
    "\n",
    "for expressao in expressoes_indesejadas:\n",
    "    df_drug = df_drug.withColumn(\"LOT_NUM\", regexp_replace(\"LOT_NUM\", expressao, \"\"))\n"
   ]
  },
  {
   "cell_type": "code",
   "execution_count": 0,
   "metadata": {
    "application/vnd.databricks.v1+cell": {
     "cellMetadata": {
      "byteLimit": 2048000,
      "rowLimit": 10000
     },
     "inputWidgets": {},
     "nuid": "7da820d3-a57f-476a-ba61-5759231534e9",
     "showTitle": false,
     "title": ""
    }
   },
   "outputs": [],
   "source": [
    "# Mostrar DataFrame atualizado\n",
    "df_drug.select(\"LOT_NUM\").distinct().display()"
   ]
  },
  {
   "cell_type": "markdown",
   "metadata": {
    "application/vnd.databricks.v1+cell": {
     "cellMetadata": {
      "byteLimit": 2048000,
      "rowLimit": 10000
     },
     "inputWidgets": {},
     "nuid": "25eb7a3e-e5a6-41b1-8fe7-f3c2846c000c",
     "showTitle": false,
     "title": ""
    }
   },
   "source": [
    "##EXP_DT\n",
    "- Está em formato YYYYMMDD, opta-se por colocar em formato yyyy-mm-dd para se tornar mais percetivel \n",
    "- A coluna 'exp_dt' possui 99.83% de valores nulos pelo que torna-se dificil tira conclusoes a partir desta variavel posteriormente, no entanto, em casos especifos, pode ser util, pelo que opto por mante-la na tabela final \n"
   ]
  },
  {
   "cell_type": "code",
   "execution_count": 0,
   "metadata": {
    "application/vnd.databricks.v1+cell": {
     "cellMetadata": {
      "byteLimit": 2048000,
      "rowLimit": 10000
     },
     "inputWidgets": {},
     "nuid": "33f28ce3-35f9-49db-a69d-061a64d27578",
     "showTitle": false,
     "title": ""
    }
   },
   "outputs": [],
   "source": [
    "\n",
    "# Verificar e formatar a coluna EXP_DT\n",
    "df_drug = df_drug.withColumn(\n",
    "    \"EXP_DT\",\n",
    "    when(\n",
    "        col(\"EXP_DT\").rlike(r\"^\\d{8}$\"),\n",
    "        concat(\n",
    "            substring(col(\"EXP_DT\"), 1, 4), lit(\"-\"),\n",
    "            substring(col(\"EXP_DT\"), 5, 2), lit(\"-\"),\n",
    "            substring(col(\"EXP_DT\"), 7, 2)\n",
    "        )\n",
    "    ).otherwise(col(\"EXP_DT\"))\n",
    ")\n",
    "\n",
    "df_drug.select(\"EXP_DT\").display()"
   ]
  },
  {
   "cell_type": "markdown",
   "metadata": {
    "application/vnd.databricks.v1+cell": {
     "cellMetadata": {
      "byteLimit": 2048000,
      "rowLimit": 10000
     },
     "inputWidgets": {},
     "nuid": "e1400b98-0fcf-4203-abb0-9e585426f56d",
     "showTitle": false,
     "title": ""
    }
   },
   "source": [
    "## NDA_NUM\n",
    "Representa o número da New Drug Application, sendo este um identificador composto por números, nao se realizam alteraçoes nesta coluna"
   ]
  },
  {
   "cell_type": "markdown",
   "metadata": {
    "application/vnd.databricks.v1+cell": {
     "cellMetadata": {
      "byteLimit": 2048000,
      "rowLimit": 10000
     },
     "inputWidgets": {},
     "nuid": "f2323266-d7c0-43e0-9f58-b6cf262751d4",
     "showTitle": false,
     "title": ""
    }
   },
   "source": [
    "## DOSE_AMT\n",
    "Representa a quantidade de medicamento por dose. Não se irão realizar alterções nesta coluna. \n",
    "\n",
    "##DOSE_UNIT\n",
    "Unidade da dose do medicamento.\n"
   ]
  },
  {
   "cell_type": "code",
   "execution_count": 0,
   "metadata": {
    "application/vnd.databricks.v1+cell": {
     "cellMetadata": {
      "byteLimit": 2048000,
      "rowLimit": 10000
     },
     "inputWidgets": {},
     "nuid": "8cf62b2c-1f4c-4a8b-9d77-5609635df86b",
     "showTitle": false,
     "title": ""
    }
   },
   "outputs": [],
   "source": [
    "df_drug.groupBy('DOSE_UNIT').count().orderBy('count', ascending=False).display()\n"
   ]
  },
  {
   "cell_type": "markdown",
   "metadata": {
    "application/vnd.databricks.v1+cell": {
     "cellMetadata": {
      "byteLimit": 2048000,
      "rowLimit": 10000
     },
     "inputWidgets": {},
     "nuid": "1e743f07-31e1-4c74-a553-6c22e099382c",
     "showTitle": false,
     "title": ""
    }
   },
   "source": [
    "##Dose_form\n",
    "\n",
    "Variavel em verbatim... que pretende indicar a forma da substancia causadora da reaçao"
   ]
  },
  {
   "cell_type": "code",
   "execution_count": 0,
   "metadata": {
    "application/vnd.databricks.v1+cell": {
     "cellMetadata": {
      "byteLimit": 2048000,
      "rowLimit": 10000
     },
     "inputWidgets": {},
     "nuid": "abbc55db-4e48-4dc7-9725-572ed10b1e70",
     "showTitle": false,
     "title": ""
    }
   },
   "outputs": [],
   "source": [
    "df_drug.groupBy('DOSE_FORM').count().orderBy('count', ascending=False).display()\n"
   ]
  },
  {
   "cell_type": "markdown",
   "metadata": {
    "application/vnd.databricks.v1+cell": {
     "cellMetadata": {
      "byteLimit": 2048000,
      "rowLimit": 10000
     },
     "inputWidgets": {},
     "nuid": "ea3e0151-c1a7-41e5-b447-ee84951988cc",
     "showTitle": false,
     "title": ""
    }
   },
   "source": [
    "Sendo vias de administraçao, nao pode haver números, pelo que vamos eliminar os números existentes"
   ]
  },
  {
   "cell_type": "code",
   "execution_count": 0,
   "metadata": {
    "application/vnd.databricks.v1+cell": {
     "cellMetadata": {
      "byteLimit": 2048000,
      "rowLimit": 10000
     },
     "inputWidgets": {},
     "nuid": "2db8a093-8139-4b47-adc7-1295b8df6e7d",
     "showTitle": false,
     "title": ""
    }
   },
   "outputs": [],
   "source": [
    "\n",
    "\n",
    "\n",
    "df_drug = df_drug.withColumn(\n",
    "    \"DOSE_FORM\",\n",
    "    when(\n",
    "        col(\"DOSE_FORM\").isin(\"Unknown\", \"UNK\", \"NOT SPECIFIED\", \"Formulation Unknown\", \n",
    "                              \"Unknown Formulation\", \"Not Provided\", \"Not Specified\", \n",
    "                              \"Unknown (other/unspecified)\", \"***\", \"No Drug\", \"Xxx\", \"Unknown,unknown\", \" ()\"  ),\n",
    "        None\n",
    "    ).otherwise(\n",
    "        initcap(\n",
    "            regexp_replace(col(\"DOSE_FORM\"), r\"\\d+\", \"\")\n",
    "        )\n",
    "    )\n",
    ")\n"
   ]
  },
  {
   "cell_type": "markdown",
   "metadata": {
    "application/vnd.databricks.v1+cell": {
     "cellMetadata": {
      "byteLimit": 2048000,
      "rowLimit": 10000
     },
     "inputWidgets": {},
     "nuid": "59d53339-41e1-4165-a283-5d264192510d",
     "showTitle": false,
     "title": ""
    }
   },
   "source": [
    "vamos mapear os dados considerando os formatos de solucões mais frequentes"
   ]
  },
  {
   "cell_type": "code",
   "execution_count": 0,
   "metadata": {
    "application/vnd.databricks.v1+cell": {
     "cellMetadata": {
      "byteLimit": 2048000,
      "rowLimit": 10000
     },
     "inputWidgets": {},
     "nuid": "560276dd-229f-4f2b-beed-d3fe4cdc0f91",
     "showTitle": false,
     "title": ""
    }
   },
   "outputs": [],
   "source": [
    "# Colocar em minusculas\n",
    "df_drug = df_drug.withColumn(\n",
    "    \"DOSE_FORM\",\n",
    "    lower(col(\"DOSE_FORM\"))\n",
    ")\n",
    "\n",
    "\n",
    "df_drug = df_drug.withColumn(\n",
    "    \"DOSE_FORM\",\n",
    "    when(col(\"DOSE_FORM\").rlike(\".*tablets?\"), \"Tablet\")\n",
    "    .when(col(\"DOSE_FORM\").rlike(\".*solutions?\"), \"Solution\")\n",
    "    .when(col(\"DOSE_FORM\").rlike(\".*injections?\"), \"Injection\")\n",
    "    .when(col(\"DOSE_FORM\").rlike(\".*capsules?\"), \"Capsule\")\n",
    "    .when(col(\"DOSE_FORM\").rlike(\".*powders?\"), \"Powder\")\n",
    "    .when(col(\"DOSE_FORM\").rlike(\".*infusions?\"), \"Infusion\")\n",
    "    .when(col(\"DOSE_FORM\").rlike(\".*orals?\"), \"Oral\")\n",
    "    .when(col(\"DOSE_FORM\").rlike(\".*creams?\"), \"Cream\")\n",
    "    .when(col(\"DOSE_FORM\").rlike(\".*gels?\"), \"Gel\")\n",
    "    .when(col(\"DOSE_FORM\").rlike(\".*ointments?\"), \"Ointment\")\n",
    "    .when(col(\"DOSE_FORM\").rlike(\".*suspensions?\"), \"Suspension\")\n",
    "    .when(col(\"DOSE_FORM\").rlike(\".*drops?\"), \"Drops\")\n",
    "    .when(col(\"DOSE_FORM\").rlike(\".*nasal sprays?\"), \"Nasal Spray\")\n",
    "    .when(col(\"DOSE_FORM\").rlike(\".*patches?\"), \"Transdermal Patch\")\n",
    "    .when(col(\"DOSE_FORM\").rlike(\".*dry powders?\"), \"Dry Powder\")\n",
    "    .when(col(\"DOSE_FORM\").rlike(\".*pens?\"), \"Pen\")\n",
    "    .when(col(\"DOSE_FORM\").rlike(\".*aerosols?\"), \"Aerosol\")\n",
    "    .when(col(\"DOSE_FORM\").rlike(\".*drinks?\"), \"Drink\")\n",
    "    .when(col(\"DOSE_FORM\").rlike(\".*pumps?\"), \"Pump\")\n",
    "    .when(col(\"DOSE_FORM\").rlike(\".*injects?\"), \"Injection\")\n",
    "    .when(col(\"DOSE_FORM\").rlike(\".*liquid topicals?\"), \"Liquid Topical\")\n",
    "    .when(col(\"DOSE_FORM\").rlike(\".*rectals?\"), \"Rectal\")\n",
    "    .when(col(\"DOSE_FORM\").rlike(\".*emulsions?\"), \"Emulsion\")\n",
    "    .when(col(\"DOSE_FORM\").rlike(\".*solvents?\"), \"Solvent\")\n",
    "    .when(col(\"DOSE_FORM\").rlike(\".*liquid\"), \"Liquid\")\n",
    "    .when(col(\"DOSE_FORM\").rlike(\".*topicals?\"), \"Topical\")\n",
    "    .when(col(\"DOSE_FORM\").rlike(\".*capsulas?\"), \"Capsulas\")\n",
    "    .when(col(\"DOSE_FORM\").rlike(\".*implantations?\"), \"Implantation\")\n",
    "    .when(col(\"DOSE_FORM\").rlike(\".*«syringes?\"), \"Injection\")\n",
    "    .when(col(\"DOSE_FORM\").rlike(\".*iv\"), \"Injection\")\n",
    "    .when(col(\"DOSE_FORM\").rlike(\".*emulsions?\"), \"Emulsion\")\n",
    "    .when(col(\"DOSE_FORM\").rlike(\".*lotions?\"), \"Lotion\")\n",
    "    .when(col(\"DOSE_FORM\").rlike(\".*vapours?\"), \"Vapour\")\n",
    "    .when(col(\"DOSE_FORM\").rlike(\".*dispersions?\"), \"Dispersion\")\n",
    "    .when(col(\"DOSE_FORM\").rlike(\".*granules?\"), \"Granule\")\n",
    "    .when(col(\"DOSE_FORM\").rlike(\".*sprays?\"), \"Spray\")\n",
    "    .otherwise(initcap(col(\"DOSE_FORM\")))\n",
    ")\n",
    "\n",
    "# Mostrar DataFrame atualizado para verificar as alterações\n",
    "df_drug.select(\"DOSE_FORM\").distinct().display()\n",
    "\n"
   ]
  },
  {
   "cell_type": "code",
   "execution_count": 0,
   "metadata": {
    "application/vnd.databricks.v1+cell": {
     "cellMetadata": {
      "byteLimit": 2048000,
      "rowLimit": 10000
     },
     "inputWidgets": {},
     "nuid": "2bfb1e5a-b532-4774-90f0-09c8bf77c4fb",
     "showTitle": false,
     "title": ""
    }
   },
   "outputs": [],
   "source": [
    "df_drug.groupBy('DOSE_FORM').count().orderBy('count', ascending=False).display()"
   ]
  },
  {
   "cell_type": "markdown",
   "metadata": {
    "application/vnd.databricks.v1+cell": {
     "cellMetadata": {
      "byteLimit": 2048000,
      "rowLimit": 10000
     },
     "inputWidgets": {},
     "nuid": "4ddbdd23-159e-421e-b834-058f3769a976",
     "showTitle": false,
     "title": ""
    }
   },
   "source": [
    "Considerando que a grande maioria dos dados ja apresenta nomenclatura mais uniforme e objetiva,opta-se por colocaros restantes valores a null para o pipeline"
   ]
  },
  {
   "cell_type": "markdown",
   "metadata": {
    "application/vnd.databricks.v1+cell": {
     "cellMetadata": {
      "byteLimit": 2048000,
      "rowLimit": 10000
     },
     "inputWidgets": {},
     "nuid": "b1fdf533-4f57-4ca9-9816-8a4a23e2c6e5",
     "showTitle": false,
     "title": ""
    }
   },
   "source": [
    "##Dose_freq\n",
    "\n",
    "- A frequencia com que o medicamento é tomado "
   ]
  },
  {
   "cell_type": "code",
   "execution_count": 0,
   "metadata": {
    "application/vnd.databricks.v1+cell": {
     "cellMetadata": {
      "byteLimit": 2048000,
      "rowLimit": 10000
     },
     "inputWidgets": {},
     "nuid": "54dca67a-617f-4f65-8a0e-61937f5e86e6",
     "showTitle": false,
     "title": ""
    }
   },
   "outputs": [],
   "source": [
    "df_drug.groupBy('DOSE_FREQ').count().orderBy('count', ascending=False).display()\n"
   ]
  },
  {
   "cell_type": "markdown",
   "metadata": {
    "application/vnd.databricks.v1+cell": {
     "cellMetadata": {
      "byteLimit": 2048000,
      "rowLimit": 10000
     },
     "inputWidgets": {},
     "nuid": "9bb0001e-72c7-42eb-ad3b-19756f4aad5c",
     "showTitle": false,
     "title": ""
    }
   },
   "source": [
    "Há valores que nao fazem parte do dicionario... vamos adaptar as siglas para o nome pos extenso para ficar percetivel ... vamos ajustar os valores que sao possiveis de corrigir e eliminar os que nao se adaptam e consideramos errados."
   ]
  },
  {
   "cell_type": "code",
   "execution_count": 0,
   "metadata": {
    "application/vnd.databricks.v1+cell": {
     "cellMetadata": {
      "byteLimit": 2048000,
      "rowLimit": 10000
     },
     "inputWidgets": {},
     "nuid": "044df93f-5843-4e41-b60b-9a1ffca5acff",
     "showTitle": false,
     "title": ""
    }
   },
   "outputs": [],
   "source": [
    "\n",
    "\n",
    "# Substituir as siglas pela descrição completa\n",
    "df_drug = df_drug.withColumn(\n",
    "    \"DOSE_FREQ\",\n",
    "    when(col(\"DOSE_FREQ\") == \"1X\", \"Once or one time\")\n",
    "    .when(col(\"DOSE_FREQ\") == \"BID\", \"Twice a day\")\n",
    "    .when(col(\"DOSE_FREQ\") == \"BIW\", \"Twice a week\")\n",
    "    .when(col(\"DOSE_FREQ\") == \"HS\", \"At bedtime\")\n",
    "    .when(col(\"DOSE_FREQ\") == \"PRN\", \"As needed\")\n",
    "    .when(col(\"DOSE_FREQ\") == \"Q12H\", \"Every 12 hours\")\n",
    "    .when(col(\"DOSE_FREQ\") == \"Q2H\", \"Every 2 hours\")\n",
    "    .when(col(\"DOSE_FREQ\") == \"Q3H\", \"Every 3 hours\")\n",
    "    .when(col(\"DOSE_FREQ\") == \"Q3W\", \"Every 3 weeks\")\n",
    "    .when(col(\"DOSE_FREQ\") == \"Q4H\", \"Every 4 hours\")\n",
    "    .when(col(\"DOSE_FREQ\") == \"Q5H\", \"Every 5 hours\")\n",
    "    .when(col(\"DOSE_FREQ\") == \"Q6H\", \"Every 6 hours\")\n",
    "    .when(col(\"DOSE_FREQ\") == \"Q8H\", \"Every 8 hours\")\n",
    "    .when(col(\"DOSE_FREQ\") == \"QD\", \"Daily\")\n",
    "    .when(col(\"DOSE_FREQ\") == \"QH\", \"Every hour\")\n",
    "    .when(col(\"DOSE_FREQ\") == \"QID\", \"4 times a day\")\n",
    "    .when(col(\"DOSE_FREQ\") == \"QM\", \"Monthly\")\n",
    "    .when(col(\"DOSE_FREQ\") == \"QOD\", \"Every other day\")\n",
    "    .when(col(\"DOSE_FREQ\") == \"QOW\", \"Every other week\")\n",
    "    .when(col(\"DOSE_FREQ\") == \"QW\", \"Every week\")\n",
    "    .when(col(\"DOSE_FREQ\") == \"TID\", \"3 times a day\")\n",
    "    .when(col(\"DOSE_FREQ\") == \"TIW\", \"3 times a week\")\n",
    "    .when(col(\"DOSE_FREQ\") == \"UNK\", None)  # Substituir \"UNK\" por null\n",
    "    .when(col(\"DOSE_FREQ\").like(\"%/WK\"), \"Every week\")  # Quando termina com /WK\n",
    "    .when(col(\"DOSE_FREQ\").like(\"%/MONTH\"), \"Monthly\")  # Quando termina com /MONTH\n",
    "    .when(col(\"DOSE_FREQ\").like(\"%/HR\"), \"Every hour\")\n",
    "    .when(col(\"DOSE_FREQ\").like(\"%/MIN\"), \"Every minute\")  # Quando termina com /HR\n",
    "    .when(col(\"DOSE_FREQ\") == \"/CYCLE\", \"Every cicle\")\n",
    "    .when(col(\"DOSE_FREQ\") == \"/YR\", \"Every year\")\n",
    "    .when(col(\"DOSE_FREQ\") == \"TRIMESTER\", \"Every 3 months\")\n",
    "    .when(col(\"DOSE_FREQ\") == \"/SEC\", \"Ever\")\n",
    "    .when(col(\"DOSE_FREQ\") == \"999\", None)  # Substituir \"999\" por null\n",
    "    .when(col(\"DOSE_FREQ\").isin(\"PC\", \"ONCE\", \"Q4-6H\", \"QAM\", \"TOTAL\", \"AC\", \"UD\"), None)  # Substituir \"PC\", \"ONCE\", \"Q4-6H\" por null\n",
    "    .otherwise(col(\"DOSE_FREQ\"))  # Manter outros valores sem alteração\n",
    ")\n",
    "\n",
    "\n",
    "df_drug.groupBy('DOSE_FREQ').count().orderBy('count', ascending=False).display()\n",
    "\n",
    "\n"
   ]
  },
  {
   "cell_type": "markdown",
   "metadata": {
    "application/vnd.databricks.v1+cell": {
     "cellMetadata": {
      "byteLimit": 2048000,
      "rowLimit": 10000
     },
     "inputWidgets": {},
     "nuid": "9a78db5b-8272-41d9-b652-3cac39ece40a",
     "showTitle": false,
     "title": ""
    }
   },
   "source": [
    "Conseguimos adaptar para ter todos os registos uniformes... Transformando /WK em \"Every week\" , /MONTH em \"Monthly\" , /HR em \"Every hour\", \n",
    " /MIN em \"Every minute\", /CYCLE em \"Every cicle\", /YR em \"Every year\", TRIMESTER em \"Every 3 months\", /SEC em \"Ever\" e ainda eliminar valores sem sentido transformando-os em nul como 999, TOTAL\", \"AC\", \"UD\"... "
   ]
  },
  {
   "cell_type": "markdown",
   "metadata": {
    "application/vnd.databricks.v1+cell": {
     "cellMetadata": {
      "byteLimit": 2048000,
      "rowLimit": 10000
     },
     "inputWidgets": {},
     "nuid": "6341aec0-709c-4f7f-b8b2-1ba9bace84dc",
     "showTitle": false,
     "title": ""
    }
   },
   "source": [
    "#Conclusões\n",
    "\n",
    "###Notas Importantes\n",
    "- Quando val_vbm = 2 encontra-se em verbatim pelo que nao se consegue ligaçao ao dicionario e torna-se dificil chegar a conclusoes, motivo pelo qual vao ser eliminados os registos os este valor \n",
    "- Colunas com alta percetagens de null como cum_ e exp_dt, são dificies de tirar inferencia, no entanto nao são eliminados porque podem ser úteis para conclusoes especificas\n",
    "\n",
    "\n",
    "#Correções\n",
    "- Susbtituir nulls da coluna Role_cod pela moda e substituir as siglas pela sua interpretaçao.\n",
    "- Eliminar registos onde o prod_ai is null ou val_vbm=2 , perdendo cerca de 2,18% dos dados em prol de uma analise mais objetiva e fidedigna \n",
    "- Considerando que todos os registos da coluna val_vbm serão = 1, opta-se por eliminar esta coluna. \n",
    "- Na coluna Route substuiu-se o Unknow, injection e injectable por null e uniformizar as expressóes intravenous\n",
    "- Na coluna dose_vbm retirar as expressões UNK e unkwon para melhor perceção\n",
    "- Utilizar expressoes da coluna dose_vbm para preencher espaço da coluna route que se encontrem a null\n",
    "- Eliminar tabelas route antiga (com menos informação)\n",
    "- Na coluna Dechal dar significado aos campos e colocar a null os campos desconhecidos (com a letra U)\n",
    "- Na coluna Rechal dar significado aos campos e colocar a null os campos desconhecidos (com a letra U)\n",
    "- No coluna Lot_NUm  deve-se eliminar dados se encontrem depois de , ou ; ou | ou / , Eliminam-se os espaço e limpar algumas expressoes indesejadas expressoes_indesejadas como UNK|unknown|NA|Not|Available|ASKED|BUT|reported|time|at|this|asku|N/A \n",
    "- Na coluna LOT_NUM passar a null valores vazios\n",
    "- Na coluna EXP_DT passar as datas para formato yyyy-mm-dd\n",
    "- Passar coluna EXP_DT para formato data\n",
    "- Na coluna Dose_form limpar e uniformizar os dados \n",
    "- Na coluna Dose_freq ajusta-se os horarios de acordo com os dicionarios e adaptar os registos possiveis. De seguida, eliminar os desconhecidos ou sem sentido (passando-os a valores null)\n",
    "- Renomear as colunas \n",
    "\n"
   ]
  }
 ],
 "metadata": {
  "application/vnd.databricks.v1+notebook": {
   "dashboards": [],
   "environmentMetadata": null,
   "language": "python",
   "notebookMetadata": {
    "pythonIndentUnit": 4
   },
   "notebookName": "Exploratory_Data_Analysis_Drug",
   "widgets": {}
  }
 },
 "nbformat": 4,
 "nbformat_minor": 0
}
