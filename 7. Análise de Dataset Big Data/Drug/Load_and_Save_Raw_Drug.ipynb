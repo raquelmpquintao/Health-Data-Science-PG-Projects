{
 "cells": [
  {
   "cell_type": "markdown",
   "metadata": {
    "application/vnd.databricks.v1+cell": {
     "cellMetadata": {
      "byteLimit": 2048000,
      "rowLimit": 10000
     },
     "inputWidgets": {},
     "nuid": "6d271285-f56d-41a2-bcc9-2a035f29435a",
     "showTitle": false,
     "title": ""
    }
   },
   "source": [
    "# Notebook 1: Load_and_Save_Raw_Drugs\n",
    "\n",
    "## Objetivo\n",
    "Carregar os dados de todos os 5 trimestres da tabela `Drugs` e salvar em formato Parquet.\n",
    "\n",
    "## Passos\n",
    "\n",
    "1. **Carregar dados de todos os trimestres**\n",
    "    - Vamos carregar os dados de `Drugs` para os trimestres 2022Q4, 2023Q1, 2023Q2, 2023Q3 e 2023Q4. \n",
    "    - Spark vai inferir automaticamente o header e o schema, mas somente no próximo notebook será definido manualmente. \n",
    "    \n",
    "2. **Criar DataFrames**\n",
    "    - Cada trimestre será carregado num DataFrame separado.\n",
    "    \n",
    "3. **Concatenar DataFrames**\n",
    "    - Todos os DataFrames serão concatenados num único DataFrame.\n",
    "    \n",
    "4. **Salvar em formato Parquet**\n",
    "    - O DataFrame concatenado será salvo em formato Parquet para uso eficiente em análises futuras. (parquet raw)\n",
    "\n"
   ]
  },
  {
   "cell_type": "code",
   "execution_count": 0,
   "metadata": {
    "application/vnd.databricks.v1+cell": {
     "cellMetadata": {
      "byteLimit": 2048000,
      "rowLimit": 10000
     },
     "inputWidgets": {},
     "nuid": "19f45b23-7dd4-4993-96fa-6e4a5898711e",
     "showTitle": false,
     "title": ""
    }
   },
   "outputs": [],
   "source": [
    "%run \"../Funcoes_auxiliares\" "
   ]
  },
  {
   "cell_type": "code",
   "execution_count": 0,
   "metadata": {
    "application/vnd.databricks.v1+cell": {
     "cellMetadata": {
      "byteLimit": 2048000,
      "rowLimit": 10000
     },
     "inputWidgets": {},
     "nuid": "000ac3b4-2116-4d71-9b00-14a0845b92e8",
     "showTitle": false,
     "title": ""
    }
   },
   "outputs": [],
   "source": [
    "trimestres = ['2022Q4', '2023q1', '2023q2', '2023Q3', '2023Q4']\n",
    "tabela = 'DRUG'"
   ]
  },
  {
   "cell_type": "code",
   "execution_count": 0,
   "metadata": {
    "application/vnd.databricks.v1+cell": {
     "cellMetadata": {
      "byteLimit": 2048000,
      "rowLimit": 10000
     },
     "inputWidgets": {},
     "nuid": "600051e2-4cdf-4372-88f8-f9754a7a07ca",
     "showTitle": false,
     "title": ""
    }
   },
   "outputs": [
    {
     "output_type": "stream",
     "name": "stdout",
     "output_type": "stream",
     "text": [
      "Arquivo carregado com sucesso: /FileStore/faers-downloaded/faers_ascii_2022Q4/ASCII/DRUG22Q4.txt\nArquivo carregado com sucesso: /FileStore/faers-downloaded/faers_ascii_2023q1/ASCII/DRUG23Q1.txt\nArquivo carregado com sucesso: /FileStore/faers-downloaded/faers_ascii_2023q2/ASCII/DRUG23Q2.txt\nArquivo carregado com sucesso: /FileStore/faers-downloaded/faers_ascii_2023Q3/ASCII/DRUG23Q3.txt\nArquivo carregado com sucesso: /FileStore/faers-downloaded/faers_ascii_2023Q4/ASCII/DRUG23Q4.txt\nTodos os dataframes foram unidos com sucesso.\nNúmero total de linhas: 9480689\n"
     ]
    }
   ],
   "source": [
    "df_drug=obter_tabela(tabela,trimestres)"
   ]
  },
  {
   "cell_type": "code",
   "execution_count": 0,
   "metadata": {
    "application/vnd.databricks.v1+cell": {
     "cellMetadata": {
      "byteLimit": 2048000,
      "rowLimit": 10000
     },
     "inputWidgets": {},
     "nuid": "d1bf12aa-0961-461d-9475-0bb5f9b538bb",
     "showTitle": false,
     "title": ""
    }
   },
   "outputs": [],
   "source": [
    "# modo overwrite \n",
    "df_drug.write.mode('overwrite').parquet(\"dbfs:/FileStore/FAERS-grupo-4/drug_raw\")"
   ]
  }
 ],
 "metadata": {
  "application/vnd.databricks.v1+notebook": {
   "dashboards": [],
   "environmentMetadata": null,
   "language": "python",
   "notebookMetadata": {
    "pythonIndentUnit": 4
   },
   "notebookName": "Load_and_Save_Raw_Drug",
   "widgets": {}
  }
 },
 "nbformat": 4,
 "nbformat_minor": 0
}
