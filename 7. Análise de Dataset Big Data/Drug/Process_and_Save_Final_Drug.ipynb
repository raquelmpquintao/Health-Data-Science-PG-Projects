{
 "cells": [
  {
   "cell_type": "markdown",
   "metadata": {
    "application/vnd.databricks.v1+cell": {
     "cellMetadata": {
      "byteLimit": 2048000,
      "rowLimit": 10000
     },
     "inputWidgets": {},
     "nuid": "133e6871-d9d9-45c6-8f4f-787dea135648",
     "showTitle": false,
     "title": ""
    }
   },
   "source": [
    "# Notebook 3: Funções de Transformação e Limpeza de Dados\n",
    "\n",
    "## Introdução\n",
    "Neste notebook, iremos implementar as transformações e limpar os dados da tabela 'Drug' do conjunto de dados FAERS, com base na análise exploratória realizada no notebook anterior (Exploratory_Data_Analysis_Drug). \n",
    "\n",
    "## Estrutura do notebook\n",
    "- Importação de Bibliotecas\n",
    "- Carregamento dos Dados (Parquet Raw) usando o Schema definido \n",
    "- Aplicar apenas as Transformações necessárias\n",
    "- Salvar **Parquet Final** com os Dados Limpos\n"
   ]
  },
  {
   "cell_type": "code",
   "execution_count": 0,
   "metadata": {
    "application/vnd.databricks.v1+cell": {
     "cellMetadata": {
      "byteLimit": 2048000,
      "rowLimit": 10000
     },
     "inputWidgets": {},
     "nuid": "0a315e17-7ec3-4746-a930-859565a25ccc",
     "showTitle": false,
     "title": ""
    }
   },
   "outputs": [],
   "source": [
    "# Importar bibliotecas necessárias\n",
    "from pyspark.sql import SparkSession\n",
    "from pyspark.sql.types import StructType, StructField, StringType, IntegerType, LongType, DoubleType, DataType\n",
    "from pyspark.sql.functions import col, count, when, regexp_replace, concat, substring, lit, coalesce, initcap, lower, to_date, date_format\n"
   ]
  },
  {
   "cell_type": "code",
   "execution_count": 0,
   "metadata": {
    "application/vnd.databricks.v1+cell": {
     "cellMetadata": {
      "byteLimit": 2048000,
      "rowLimit": 10000
     },
     "inputWidgets": {},
     "nuid": "ecfc129d-5ac2-4247-8d02-cd917ae51df0",
     "showTitle": false,
     "title": ""
    }
   },
   "outputs": [],
   "source": [
    "%run \"../Funcoes_auxiliares\" "
   ]
  },
  {
   "cell_type": "code",
   "execution_count": 0,
   "metadata": {
    "application/vnd.databricks.v1+cell": {
     "cellMetadata": {
      "byteLimit": 2048000,
      "rowLimit": 10000
     },
     "inputWidgets": {},
     "nuid": "64f107c1-f8e4-4748-927b-72025400548d",
     "showTitle": false,
     "title": ""
    }
   },
   "outputs": [],
   "source": [
    "from pyspark.sql.types import *\n",
    "\n",
    "# Carregar dados do Parquet raw\n",
    "schema_drug = StructType([\n",
    "    StructField('primaryid', LongType(), False, {'description': 'Unique number for identifying a FAERS report'}),\n",
    "    StructField('caseid', IntegerType(), False, {'description': 'Number for identifying a FAERS case.'}),\n",
    "    StructField('drug_seq', IntegerType(), True, {'description': 'Unique number for identifying a drug for a Case.'}),\n",
    "    StructField('role_cod', StringType(), True, {'description': 'Code for drugs reported role in event.'}),\n",
    "    StructField('drugname', StringType(), True, {'description': 'Name of medicinal product.'}),\n",
    "    StructField('prod_ai', StringType(), True, {'description': 'Product Active Ingredient.'}),\n",
    "    StructField('val_vbm', IntegerType(), True, {'description': 'Code for source of drugname. 1- validated, 2- verbatim text'}),\n",
    "    StructField('route', StringType(), True, {'description': 'The route of drug administration.'}),\n",
    "    StructField('dose_vbm', StringType(), True, {'description': 'Verbatim text for dose, frequency, and route, exactly as entered on report.'}), \n",
    "    StructField('cum_dose_chr', StringType(), True, {'description': 'Cumulative dose to first reaction.'}),\n",
    "    StructField('cum_dose_unit', StringType(), True, {'description': 'Cumulative dose to first reaction unit.'}),\n",
    "    StructField('dechal', StringType(), True, {'description': 'Dechallenge code.'}),\n",
    "    StructField('rechal', StringType(), True, {'description': 'Rechallenge code.'}),\n",
    "    StructField('lot_num', StringType(), True, {'description': 'Lot number of the drug.'}),\n",
    "    StructField('exp_dt', DataType(), True, {'description': 'Expiration date of the drug.'}),\n",
    "    StructField('nda_num', LongType(), True, {'description': 'NDA number.'}),\n",
    "    StructField('dose_amt', DoubleType(), True, {'description': 'Amount of drug reported.'}),\n",
    "    StructField('dose_unit', StringType(), True, {'description': 'Unit of drug dose.'}),\n",
    "    StructField('dose_form', StringType(), True, {'description': 'Form of dose reported.'}),\n",
    "    StructField('dose_freq', StringType(), True, {'description': 'Frequency.'})\n",
    "])\n",
    "\n",
    "df_drug = spark.read.parquet('dbfs:/FileStore/FAERS-grupo-4/drug_raw', schema=schema_drug)\n"
   ]
  },
  {
   "cell_type": "code",
   "execution_count": 0,
   "metadata": {
    "application/vnd.databricks.v1+cell": {
     "cellMetadata": {
      "byteLimit": 2048000,
      "rowLimit": 10000
     },
     "inputWidgets": {},
     "nuid": "093e33ea-add9-4cca-93ca-e508b177726e",
     "showTitle": false,
     "title": ""
    }
   },
   "outputs": [],
   "source": [
    "#Na coluna Role_Cod substituir valores a null por SS (moda da variavel)\n",
    "df_drug = df_drug.withColumn(\n",
    "    \"Role_Cod\",\n",
    "    when(col(\"Role_Cod\").isNull(), \"SS\").otherwise(col(\"Role_Cod\"))\n",
    ")"
   ]
  },
  {
   "cell_type": "code",
   "execution_count": 0,
   "metadata": {
    "application/vnd.databricks.v1+cell": {
     "cellMetadata": {
      "byteLimit": 2048000,
      "rowLimit": 10000
     },
     "inputWidgets": {},
     "nuid": "daca6c05-55cc-49d2-b63b-b1b53fe2a01e",
     "showTitle": false,
     "title": ""
    }
   },
   "outputs": [],
   "source": [
    "\n",
    "# Modificar os valores na coluna ROLE_COD\n",
    "df_drug = df_drug.withColumn(\n",
    "    \"ROLE_COD\",\n",
    "    when(col(\"ROLE_COD\") == \"PS\", \"Primary Suspect Drug\")\n",
    "    .when(col(\"ROLE_COD\") == \"SS\", \"Secondary Suspect Drug\")\n",
    "    .when(col(\"ROLE_COD\") == \"C\", \"Concomitant\")\n",
    "    .when(col(\"ROLE_COD\") == \"I\", \"Interaction\")\n",
    "    .otherwise(\"Unknown\")\n",
    ")\n"
   ]
  },
  {
   "cell_type": "code",
   "execution_count": 0,
   "metadata": {
    "application/vnd.databricks.v1+cell": {
     "cellMetadata": {
      "byteLimit": 2048000,
      "rowLimit": 10000
     },
     "inputWidgets": {},
     "nuid": "129451d8-f77d-41d0-8d9a-56c167264bd0",
     "showTitle": false,
     "title": ""
    }
   },
   "outputs": [],
   "source": [
    "#Eliminar valores a null na coluna prod_ai e também valores em que a coluna val_vbm = 2 \n",
    "df_drug = df_drug.filter((col('prod_ai').isNotNull()) & (col('val_vbm') != 2)) # codigo utiliza raciocinio contrario"
   ]
  },
  {
   "cell_type": "code",
   "execution_count": 0,
   "metadata": {
    "application/vnd.databricks.v1+cell": {
     "cellMetadata": {
      "byteLimit": 2048000,
      "rowLimit": 10000
     },
     "inputWidgets": {},
     "nuid": "66183205-00f1-44d3-a951-07af9c1363ac",
     "showTitle": false,
     "title": ""
    }
   },
   "outputs": [],
   "source": [
    "# Eliminar a coluna 'val_vbm' do DataFrame df_drug\n",
    "df_drug = df_drug.drop('val_vbm')"
   ]
  },
  {
   "cell_type": "code",
   "execution_count": 0,
   "metadata": {
    "application/vnd.databricks.v1+cell": {
     "cellMetadata": {
      "byteLimit": 2048000,
      "rowLimit": 10000
     },
     "inputWidgets": {},
     "nuid": "4a4169e3-0592-4a6c-9c4d-b8b2e3979a15",
     "showTitle": false,
     "title": ""
    }
   },
   "outputs": [],
   "source": [
    "#Colocar a null valores como Unknow, injection e injectable por nao ser percetivel a via de admistração e uniformizar as expressóes intravenous\n",
    "df_drug = df_drug.withColumn(\n",
    "    \"ROUTE\",\n",
    "    when((col(\"ROUTE\") == \"Unknown\") | (col(\"ROUTE\") == \"INJECTION\")| (col(\"ROUTE\") == \"INJECTABLE\"), None)\n",
    "    .when((col(\"ROUTE\") == \"Intravenous drip\") | \n",
    "          (col(\"ROUTE\") == \"Intravenous (not otherwise specified)\") | \n",
    "          (col(\"ROUTE\") == \"Intravenous bolus\"), \"Intravenous\")\n",
    "    .otherwise(col(\"ROUTE\"))\n",
    ")\n"
   ]
  },
  {
   "cell_type": "code",
   "execution_count": 0,
   "metadata": {
    "application/vnd.databricks.v1+cell": {
     "cellMetadata": {
      "byteLimit": 2048000,
      "rowLimit": 10000
     },
     "inputWidgets": {},
     "nuid": "33f05ab6-ce7b-4850-a331-9f945b5b3777",
     "showTitle": false,
     "title": ""
    }
   },
   "outputs": [],
   "source": [
    "##Palavras que podem ser implementadas da coluna route \n",
    "\n",
    "# Lista de palavras a serem procuradas\n",
    "words = [\n",
    "    \"Oral\", \"Intravenous\", \"Subcutaneous\", \"Intravenous drip\", \"Intramuscular\", \"Topical\", \"Transplacental\", \n",
    "    \"Respiratory (inhalation)\", \"Ophthalmic\", \"Intra-uterine\", \"Transdermal\", \"Intracardiac\", \"Intravenous bolus\", \n",
    "    \"Nasal\", \"Intrathecal\", \"Rectal\", \"Intraperitoneal\", \"Cutaneous\", \"Endocervical\", \"Vaginal\", \"Intraocular\", \n",
    "    \"Sublingual\", \"Intra-arterial\", \"Buccal\", \"Parenteral\", \"Intra-articular\", \"Intracavernous\", \"Urethral\", \n",
    "    \"Epidural\", \"Transmammary\", \"Intravesical\", \"Subconjunctival\", \"Intradermal\", \"Hemodialysis\", \"Dental\", \n",
    "    \"Intralesional\", \"Periarticular\", \"Intrameningeal\", \"Oropharyngeal\", \"Auricular (otic)\", \"Endosinusial\", \n",
    "    \"Intra-amniotic\", \"Endotracheal\", \"Intradiscal (intraspinal)\", \"Intrapleural\", \"Occlusive dressing technique\", \n",
    "    \"Intratumor\", \"Intracervical\", \"Intracisternal\", \"Intramedullar (bone marrow)\", \"Intra corpus cavernosum\", \n",
    "    \"Intrapericardial\", \"Intrathoracic\", \"Intratracheal\", \"Iontophoresis\", \"Intracoronary\", \"Intrasynovial\", \n",
    "    \"Perineural\", \"Retrobulbar\", \"Intracerebral\", \"Intrahepatic\", \"Intralymphatic\", \"Intracorneal\", \"Extra-amniotic\"\n",
    "]\n",
    "\n",
    "df_drug = df_drug.withColumn(\n",
    "    'routenew',\n",
    "    coalesce(*[when(col('dose_vbm').rlike(f\"(?i)\\\\b{word}\\\\b\"), initcap(lit(word))) for word in words])\n",
    ")\n",
    "\n",
    "df_drug = df_drug.withColumn(\n",
    "    'routenew2',\n",
    "    when(col('route').isNotNull(), col('route')).otherwise(col('routenew'))\n",
    ")\n"
   ]
  },
  {
   "cell_type": "code",
   "execution_count": 0,
   "metadata": {
    "application/vnd.databricks.v1+cell": {
     "cellMetadata": {
      "byteLimit": 2048000,
      "rowLimit": 10000
     },
     "inputWidgets": {},
     "nuid": "71c9ea0e-2f4f-4e4f-9ae0-92266d9cbe60",
     "showTitle": false,
     "title": ""
    }
   },
   "outputs": [],
   "source": [
    "\n",
    "# Ajustar a coluna dose_vbm sem Unkwon ou UNK\n",
    "df_drug = df_drug.withColumn(\n",
    "    \"dose_vbm\",\n",
    "    regexp_replace(col(\"dose_vbm\"), \"(?i)unk\", \"\")\n",
    ")\n",
    "\n",
    "# Remover vírgulas ou pontos no início ou fim dos registros\n",
    "df_drug = df_drug.withColumn(\n",
    "    \"dose_vbm\",\n",
    "    # Substituir vírgulas ou pontos no início ou fim dos registros\n",
    "    regexp_replace(col(\"dose_vbm\"), \"^[,\\\\.]+|[,\\\\.]+$\", \"\")\n",
    ")\n",
    "\n"
   ]
  },
  {
   "cell_type": "code",
   "execution_count": 0,
   "metadata": {
    "application/vnd.databricks.v1+cell": {
     "cellMetadata": {
      "byteLimit": 2048000,
      "rowLimit": 10000
     },
     "inputWidgets": {},
     "nuid": "26e65048-83ee-4dce-9c81-391e080fa0aa",
     "showTitle": false,
     "title": ""
    }
   },
   "outputs": [],
   "source": [
    "#Substituir dados da coluna dechal\n",
    "df_drug = df_drug.withColumn(\n",
    "    \"dechal\",\n",
    "    when(col(\"dechal\") == \"Y\", \"Positive\")\n",
    "    .when(col(\"dechal\") == \"N\", \"Negative\")\n",
    "    .when(col(\"dechal\") == \"U\", None)\n",
    "    .when(col(\"dechal\") == \"D\", \"Does not apply\")\n",
    "    .otherwise(col(\"dechal\"))\n",
    ")\n"
   ]
  },
  {
   "cell_type": "code",
   "execution_count": 0,
   "metadata": {
    "application/vnd.databricks.v1+cell": {
     "cellMetadata": {
      "byteLimit": 2048000,
      "rowLimit": 10000
     },
     "inputWidgets": {},
     "nuid": "595f3258-4998-4d33-a33f-41ae4afc2545",
     "showTitle": false,
     "title": ""
    }
   },
   "outputs": [],
   "source": [
    "#Substituir dados da coluna rechal\n",
    "df_drug = df_drug.withColumn(\n",
    "    \"rechal\",\n",
    "    when(col(\"rechal\") == \"Y\", \"Positive\")\n",
    "    .when(col(\"rechal\") == \"N\", \"Negative\")\n",
    "    .when(col(\"rechal\") == \"U\", None)\n",
    "    .when(col(\"rechal\") == \"D\", \"Does not apply\")\n",
    "    .otherwise(col(\"rechal\"))\n",
    ")"
   ]
  },
  {
   "cell_type": "code",
   "execution_count": 0,
   "metadata": {
    "application/vnd.databricks.v1+cell": {
     "cellMetadata": {
      "byteLimit": 2048000,
      "rowLimit": 10000
     },
     "inputWidgets": {},
     "nuid": "0625015b-d7c6-41b3-a1b9-a1da1ea03f83",
     "showTitle": false,
     "title": ""
    }
   },
   "outputs": [],
   "source": [
    "# Limpar a coluna LOT_NUM\n",
    "df_drug = df_drug.withColumn(\n",
    "    \"LOT_NUM\",\n",
    "    regexp_replace(\"LOT_NUM\", r\"[,;|/].*$\", \"\")\n",
    ")\n",
    "\n",
    "expressoes_indesejadas = [\n",
    "    r\"(?i)\\b(UNK|unknown|NA|Not|Available|ASKED|BUT|reported|time|at|this|asku|N/A)\\b\"\n",
    "]\n",
    "\n",
    "for expressao in expressoes_indesejadas:\n",
    "    df_drug = df_drug.withColumn(\"LOT_NUM\", regexp_replace(\"LOT_NUM\", expressao, \"\"))\n",
    "\n",
    "\n",
    "df_drug = df_drug.withColumn(\"LOT_NUM\", when(col(\"LOT_NUM\") == \"\", None).otherwise(col(\"LOT_NUM\")))"
   ]
  },
  {
   "cell_type": "code",
   "execution_count": 0,
   "metadata": {
    "application/vnd.databricks.v1+cell": {
     "cellMetadata": {
      "byteLimit": 2048000,
      "rowLimit": 10000
     },
     "inputWidgets": {},
     "nuid": "1a56a689-9e08-48c7-a38a-f7ef51ca0729",
     "showTitle": false,
     "title": ""
    }
   },
   "outputs": [],
   "source": [
    "#Formatar exp_dt para formato yyyy-mm-dd\n",
    "df_drug = df_drug.withColumn(\n",
    "    \"EXP_DT\",\n",
    "    when(\n",
    "        col(\"EXP_DT\").rlike(r\"^\\d{8}$\"),\n",
    "        concat(\n",
    "            substring(col(\"EXP_DT\"), 1, 4), lit(\"-\"),\n",
    "            substring(col(\"EXP_DT\"), 5, 2), lit(\"-\"),\n",
    "            substring(col(\"EXP_DT\"), 7, 2)\n",
    "        )\n",
    "    ).otherwise(col(\"EXP_DT\"))\n",
    ")"
   ]
  },
  {
   "cell_type": "code",
   "execution_count": 0,
   "metadata": {
    "application/vnd.databricks.v1+cell": {
     "cellMetadata": {
      "byteLimit": 2048000,
      "rowLimit": 10000
     },
     "inputWidgets": {},
     "nuid": "7194469e-dd2f-4f69-b2a8-aab0ed603125",
     "showTitle": false,
     "title": ""
    }
   },
   "outputs": [],
   "source": [
    "#forçar exp_dt a formato data\n",
    "df_drug = df_drug.withColumn(\"EXP_DT\", to_date(\"EXP_DT\", \"yyyy-MM-dd\"))\n"
   ]
  },
  {
   "cell_type": "code",
   "execution_count": 0,
   "metadata": {
    "application/vnd.databricks.v1+cell": {
     "cellMetadata": {
      "byteLimit": 2048000,
      "rowLimit": 10000
     },
     "inputWidgets": {},
     "nuid": "5e99da92-cf4b-475e-b98a-13de556e43d9",
     "showTitle": false,
     "title": ""
    }
   },
   "outputs": [],
   "source": [
    "#Limpar a coluna Dose_form e uniformizar os dados\n",
    "df_drug = df_drug.withColumn(\n",
    "    \"DOSE_FORM\",\n",
    "    when(\n",
    "        col(\"DOSE_FORM\").isin(\"Unknown\", \"UNK\", \"NOT SPECIFIED\", \"Formulation Unknown\", \n",
    "                              \"Unknown Formulation\", \"Not Provided\", \"Not Specified\", \n",
    "                              \"Unknown (other/unspecified)\", \"***\", \"No Drug\", \"Xxx\", \"Unknown,unknown\", \" ()\"  ),\n",
    "        None\n",
    "    ).otherwise(\n",
    "        initcap(\n",
    "            regexp_replace(col(\"DOSE_FORM\"), r\"\\d+\", \"\")\n",
    "        )\n",
    "    )\n",
    ")\n"
   ]
  },
  {
   "cell_type": "code",
   "execution_count": 0,
   "metadata": {
    "application/vnd.databricks.v1+cell": {
     "cellMetadata": {
      "byteLimit": 2048000,
      "rowLimit": 10000
     },
     "inputWidgets": {},
     "nuid": "4bde4f44-6aaf-4865-ae76-2848654bdf4b",
     "showTitle": false,
     "title": ""
    }
   },
   "outputs": [],
   "source": [
    "#Uniformizar os dados da coluna Dose_Form\n",
    "df_drug = df_drug.withColumn(\"DOSE_FORM_ORIGINAL\", col(\"DOSE_FORM\"))\n",
    "\n",
    "df_drug = df_drug.withColumn(\"DOSE_FORM\", lower(col(\"DOSE_FORM\")))\n",
    "\n",
    "df_drug = df_drug.withColumn(\n",
    "    \"DOSE_FORM\",\n",
    "    when(col(\"DOSE_FORM\").rlike(\".*tablets?\"), \"Tablet\")\n",
    "    .when(col(\"DOSE_FORM\").rlike(\".*solutions?\"), \"Solution\")\n",
    "    .when(col(\"DOSE_FORM\").rlike(\".*injections?\"), \"Injection\")\n",
    "    .when(col(\"DOSE_FORM\").rlike(\".*capsules?\"), \"Capsule\")\n",
    "    .when(col(\"DOSE_FORM\").rlike(\".*powders?\"), \"Powder\")\n",
    "    .when(col(\"DOSE_FORM\").rlike(\".*infusions?\"), \"Infusion\")\n",
    "    .when(col(\"DOSE_FORM\").rlike(\".*orals?\"), \"Oral\")\n",
    "    .when(col(\"DOSE_FORM\").rlike(\".*creams?\"), \"Cream\")\n",
    "    .when(col(\"DOSE_FORM\").rlike(\".*gels?\"), \"Gel\")\n",
    "    .when(col(\"DOSE_FORM\").rlike(\".*ointments?\"), \"Ointment\")\n",
    "    .when(col(\"DOSE_FORM\").rlike(\".*suspensions?\"), \"Suspension\")\n",
    "    .when(col(\"DOSE_FORM\").rlike(\".*drops?\"), \"Drops\")\n",
    "    .when(col(\"DOSE_FORM\").rlike(\".*nasal sprays?\"), \"Nasal Spray\")\n",
    "    .when(col(\"DOSE_FORM\").rlike(\".*patches?\"), \"Transdermal Patch\")\n",
    "    .when(col(\"DOSE_FORM\").rlike(\".*dry powders?\"), \"Dry Powder\")\n",
    "    .when(col(\"DOSE_FORM\").rlike(\".*pens?\"), \"Pen\")\n",
    "    .when(col(\"DOSE_FORM\").rlike(\".*aerosols?\"), \"Aerosol\")\n",
    "    .when(col(\"DOSE_FORM\").rlike(\".*drinks?\"), \"Drink\")\n",
    "    .when(col(\"DOSE_FORM\").rlike(\".*pumps?\"), \"Pump\")\n",
    "    .when(col(\"DOSE_FORM\").rlike(\".*injects?\"), \"Injection\")\n",
    "    .when(col(\"DOSE_FORM\").rlike(\".*liquid topicals?\"), \"Liquid Topical\")\n",
    "    .when(col(\"DOSE_FORM\").rlike(\".*rectals?\"), \"Rectal\")\n",
    "    .when(col(\"DOSE_FORM\").rlike(\".*emulsions?\"), \"Emulsion\")\n",
    "    .when(col(\"DOSE_FORM\").rlike(\".*solvents?\"), \"Solvent\")\n",
    "    .when(col(\"DOSE_FORM\").rlike(\".*liquid\"), \"Liquid\")\n",
    "    .when(col(\"DOSE_FORM\").rlike(\".*topicals?\"), \"Topical\")\n",
    "    .when(col(\"DOSE_FORM\").rlike(\".*capsulas?\"), \"Capsulas\")\n",
    "    .when(col(\"DOSE_FORM\").rlike(\".*implantations?\"), \"Implantation\")\n",
    "    .when(col(\"DOSE_FORM\").rlike(\".*«syringes?\"), \"Injection\")\n",
    "    .when(col(\"DOSE_FORM\").rlike(\".*iv\"), \"Injection\")\n",
    "    .when(col(\"DOSE_FORM\").rlike(\".*lotions?\"), \"Lotion\")\n",
    "    .when(col(\"DOSE_FORM\").rlike(\".*vapours?\"), \"Vapour\")\n",
    "    .when(col(\"DOSE_FORM\").rlike(\".*dispersions?\"), \"Dispersion\")\n",
    "    .when(col(\"DOSE_FORM\").rlike(\".*granules?\"), \"Granule\")\n",
    "    .when(col(\"DOSE_FORM\").rlike(\".*sprays?\"), \"Spray\")\n",
    "    .otherwise(initcap(col(\"DOSE_FORM\")))\n",
    ")\n",
    "\n",
    "df_drug = df_drug.withColumn(\n",
    "    \"DOSE_FORM\",\n",
    "    when(col(\"DOSE_FORM\") == lower(col(\"DOSE_FORM_ORIGINAL\")), None).otherwise(col(\"DOSE_FORM\"))\n",
    ")\n",
    "\n"
   ]
  },
  {
   "cell_type": "code",
   "execution_count": 0,
   "metadata": {
    "application/vnd.databricks.v1+cell": {
     "cellMetadata": {
      "byteLimit": 2048000,
      "rowLimit": 10000
     },
     "inputWidgets": {},
     "nuid": "271ce304-aa70-4c3c-a3d0-cdbe5283cacf",
     "showTitle": false,
     "title": ""
    }
   },
   "outputs": [],
   "source": [
    "#Corrigir coluna Dose_frq para uniformizar os dados \n",
    "df_drug = df_drug.withColumn(\n",
    "    \"DOSE_FREQ\",\n",
    "    when(col(\"DOSE_FREQ\") == \"1X\", \"Once or one time\")\n",
    "    .when(col(\"DOSE_FREQ\") == \"BID\", \"Twice a day\")\n",
    "    .when(col(\"DOSE_FREQ\") == \"BIW\", \"Twice a week\")\n",
    "    .when(col(\"DOSE_FREQ\") == \"HS\", \"At bedtime\")\n",
    "    .when(col(\"DOSE_FREQ\") == \"PRN\", \"As needed\")\n",
    "    .when(col(\"DOSE_FREQ\") == \"Q12H\", \"Every 12 hours\")\n",
    "    .when(col(\"DOSE_FREQ\") == \"Q2H\", \"Every 2 hours\")\n",
    "    .when(col(\"DOSE_FREQ\") == \"Q3H\", \"Every 3 hours\")\n",
    "    .when(col(\"DOSE_FREQ\") == \"Q3W\", \"Every 3 weeks\")\n",
    "    .when(col(\"DOSE_FREQ\") == \"Q4H\", \"Every 4 hours\")\n",
    "    .when(col(\"DOSE_FREQ\") == \"Q5H\", \"Every 5 hours\")\n",
    "    .when(col(\"DOSE_FREQ\") == \"Q6H\", \"Every 6 hours\")\n",
    "    .when(col(\"DOSE_FREQ\") == \"Q8H\", \"Every 8 hours\")\n",
    "    .when(col(\"DOSE_FREQ\") == \"QD\", \"Daily\")\n",
    "    .when(col(\"DOSE_FREQ\") == \"QH\", \"Every hour\")\n",
    "    .when(col(\"DOSE_FREQ\") == \"QID\", \"4 times a day\")\n",
    "    .when(col(\"DOSE_FREQ\") == \"QM\", \"Monthly\")\n",
    "    .when(col(\"DOSE_FREQ\") == \"QOD\", \"Every other day\")\n",
    "    .when(col(\"DOSE_FREQ\") == \"QOW\", \"Every other week\")\n",
    "    .when(col(\"DOSE_FREQ\") == \"QW\", \"Every week\")\n",
    "    .when(col(\"DOSE_FREQ\") == \"TID\", \"3 times a day\")\n",
    "    .when(col(\"DOSE_FREQ\") == \"TIW\", \"3 times a week\")\n",
    "    .when(col(\"DOSE_FREQ\") == \"UNK\", None)  # Substituir \"UNK\" por null\n",
    "    .when(col(\"DOSE_FREQ\").like(\"%/WK\"), \"Every week\")  # Quando termina com /WK\n",
    "    .when(col(\"DOSE_FREQ\").like(\"%/MONTH\"), \"Monthly\")  # Quando termina com /MONTH\n",
    "    .when(col(\"DOSE_FREQ\").like(\"%/HR\"), \"Every hour\")\n",
    "    .when(col(\"DOSE_FREQ\").like(\"%/MIN\"), \"Every minute\")  # Quando termina com /HR\n",
    "    .when(col(\"DOSE_FREQ\") == \"/CYCLE\", \"Every cicle\")\n",
    "    .when(col(\"DOSE_FREQ\") == \"/YR\", \"Every year\")\n",
    "    .when(col(\"DOSE_FREQ\") == \"TRIMESTER\", \"Every 3 months\")\n",
    "    .when(col(\"DOSE_FREQ\") == \"/SEC\", \"Ever\")\n",
    "    .when(col(\"DOSE_FREQ\") == \"999\", None)  # Substituir \"999\" por null\n",
    "    .when(col(\"DOSE_FREQ\").isin(\"PC\", \"ONCE\", \"Q4-6H\", \"QAM\", \"TOTAL\", \"AC\", \"UD\"), None)  # Substituir \"PC\", \"ONCE\", \"Q4-6H\" por null\n",
    "    .otherwise(col(\"DOSE_FREQ\"))  # Manter outros valores sem alteração\n",
    ")"
   ]
  },
  {
   "cell_type": "code",
   "execution_count": 0,
   "metadata": {
    "application/vnd.databricks.v1+cell": {
     "cellMetadata": {
      "byteLimit": 2048000,
      "rowLimit": 10000
     },
     "inputWidgets": {},
     "nuid": "693e2dc8-5fd1-496e-962c-0653e106d560",
     "showTitle": false,
     "title": ""
    }
   },
   "outputs": [],
   "source": [
    "#Eliminar colunas desnecessáiras para a pipeline\n",
    "columns_to_drop = ['route', 'routenew', 'dose_form_original']\n",
    "\n",
    "# Remover as colunas\n",
    "df_drug = df_drug.drop(*columns_to_drop)"
   ]
  },
  {
   "cell_type": "code",
   "execution_count": 0,
   "metadata": {
    "application/vnd.databricks.v1+cell": {
     "cellMetadata": {
      "byteLimit": 2048000,
      "rowLimit": 10000
     },
     "inputWidgets": {},
     "nuid": "64a50d45-7983-4101-b985-de70ec9a20ca",
     "showTitle": false,
     "title": ""
    }
   },
   "outputs": [],
   "source": [
    "#renomear colunas\n",
    "df_drug = df_drug \\\n",
    "    .withColumnRenamed(\"ROLE_COD\", \"role_cod\") \\\n",
    "    .withColumnRenamed(\"routenew2\", \"route\") \\\n",
    "    .withColumnRenamed(\"LOT_NUM\", \"lot_num\") \\\n",
    "    .withColumnRenamed(\"EXP_DT\", \"exp_dt\") \\\n",
    "    .withColumnRenamed(\"LOT_NUM\", \"lot_num\") \\\n",
    "    .withColumnRenamed(\"DOSE_FORM\", \"dose_form\") \\\n",
    "    .withColumnRenamed(\"DOSE_FREQ\", \"dose_freq\") \\\n",
    "    .withColumnRenamed(\"prod_ai\", \"active ingredient\")"
   ]
  },
  {
   "cell_type": "code",
   "execution_count": 0,
   "metadata": {
    "application/vnd.databricks.v1+cell": {
     "cellMetadata": {
      "byteLimit": 2048000,
      "rowLimit": 10000
     },
     "inputWidgets": {},
     "nuid": "acf9a68a-f0ee-4553-9497-a66b24eea4fa",
     "showTitle": false,
     "title": ""
    }
   },
   "outputs": [],
   "source": [
    "#Ordenar colunas\n",
    "df_drug = df_drug.select(\n",
    "    \"primaryid\", \"caseid\", \"drug_seq\", \"role_cod\", \"active ingredient\", \"dose_vbm\", \"route\", \n",
    "    \"cum_dose_chr\", \"cum_dose_unit\", \"dechal\", \"rechal\", \n",
    "    \"lot_num\", \"exp_dt\", \"nda_num\", \"dose_amt\", \"dose_unit\", \"dose_form\", \"dose_freq\"\n",
    ")"
   ]
  },
  {
   "cell_type": "code",
   "execution_count": 0,
   "metadata": {
    "application/vnd.databricks.v1+cell": {
     "cellMetadata": {
      "byteLimit": 2048000,
      "rowLimit": 10000
     },
     "inputWidgets": {},
     "nuid": "c9a12f52-2d49-4a67-93e2-6b8ca78f62f6",
     "showTitle": false,
     "title": ""
    }
   },
   "outputs": [],
   "source": [
    "#Restaurar metadados\n",
    "df_drug = restore_metadata(schema_drug,df_drug)"
   ]
  },
  {
   "cell_type": "code",
   "execution_count": 0,
   "metadata": {
    "application/vnd.databricks.v1+cell": {
     "cellMetadata": {
      "byteLimit": 2048000,
      "rowLimit": 10000
     },
     "inputWidgets": {},
     "nuid": "a1ef1c74-14b1-4209-a13b-9a886099cf3c",
     "showTitle": false,
     "title": ""
    }
   },
   "outputs": [],
   "source": [
    "# salvar parquet final\n",
    "df_drug.write.mode('overwrite').parquet(\"dbfs:/FileStore/FAERS-grupo-4/drug_final\")"
   ]
  }
 ],
 "metadata": {
  "application/vnd.databricks.v1+notebook": {
   "dashboards": [],
   "environmentMetadata": null,
   "language": "python",
   "notebookMetadata": {
    "pythonIndentUnit": 4
   },
   "notebookName": "Process_and_Save_Final_Drug",
   "widgets": {}
  }
 },
 "nbformat": 4,
 "nbformat_minor": 0
}
