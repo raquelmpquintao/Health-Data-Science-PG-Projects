{
 "cells": [
  {
   "cell_type": "markdown",
   "metadata": {
    "application/vnd.databricks.v1+cell": {
     "cellMetadata": {
      "byteLimit": 2048000,
      "rowLimit": 10000
     },
     "inputWidgets": {},
     "nuid": "eabe83e4-58b7-47be-815b-25741bc38be8",
     "showTitle": false,
     "title": ""
    }
   },
   "source": [
    "# Notebook 3: Transformação e Limpeza de Dados da Tabela Indication\n",
    "\n",
    "## Introdução\n",
    "Neste notebook, iremos implementar funções para transformar e limpar os dados da tabela Indication do conjunto de dados FAERS. Com base na análise exploratória realizada no notebook anterior, identificámos várias áreas que requerem atenção, incluindo reclassificação de indicações desconhecidas e tratamento de valores nulos.\n",
    "\n",
    "## Objetivos\n",
    "- Criar funções reutilizáveis para limpeza e transformação de dados.\n",
    "- Reclassificar indicações desconhecidas.\n",
    "- Preparar os dados para análises futuras.\n",
    "\n",
    "## Estrutura do Notebook\n",
    "1. Importação de Bibliotecas\n",
    "2. Carregamento dos Dados\n",
    "3. Definição Manual do Schema e Renomeação das Colunas\n",
    "4. Transformações e Limpeza\n",
    "   - Tratamento de Valores Nulos\n",
    "   - Reclassificação das Indicações\n",
    "5. Função Principal de Transformação\n",
    "6. Validação dos Dados Transformados\n",
    "7. Guardar os Dados Transformados\n"
   ]
  },
  {
   "cell_type": "code",
   "execution_count": 0,
   "metadata": {
    "application/vnd.databricks.v1+cell": {
     "cellMetadata": {
      "byteLimit": 2048000,
      "rowLimit": 10000
     },
     "inputWidgets": {},
     "nuid": "abe813db-abec-47e7-8524-2867726bf814",
     "showTitle": false,
     "title": ""
    }
   },
   "outputs": [],
   "source": [
    "from pyspark.sql import SparkSession\n",
    "from pyspark.sql import functions as F\n",
    "from pyspark.sql.window import Window\n",
    "from pyspark.sql.types import StringType\n",
    "from pyspark.sql.functions import col, when, to_date"
   ]
  },
  {
   "cell_type": "code",
   "execution_count": 0,
   "metadata": {
    "application/vnd.databricks.v1+cell": {
     "cellMetadata": {
      "byteLimit": 2048000,
      "rowLimit": 10000
     },
     "inputWidgets": {},
     "nuid": "24db1a8e-639f-44fd-8b9f-1f9dcc31cc8d",
     "showTitle": false,
     "title": ""
    }
   },
   "outputs": [],
   "source": [
    "# Carregar dados do Parquet\n",
    "df_indication = spark.read.parquet('dbfs:/FileStore/FAERS-grupo-4/indication_raw')"
   ]
  },
  {
   "cell_type": "code",
   "execution_count": 0,
   "metadata": {
    "application/vnd.databricks.v1+cell": {
     "cellMetadata": {
      "byteLimit": 2048000,
      "rowLimit": 10000
     },
     "inputWidgets": {},
     "nuid": "b3eeff94-e70e-4854-9eeb-37cd115dbee4",
     "showTitle": false,
     "title": ""
    }
   },
   "outputs": [
    {
     "output_type": "stream",
     "name": "stdout",
     "output_type": "stream",
     "text": [
      "root\n |-- primary_id: long (nullable = true)\n |-- caseid: integer (nullable = true)\n |-- indi_drug_seq: integer (nullable = true)\n |-- indi_pt: string (nullable = true)\n\n"
     ]
    }
   ],
   "source": [
    "# Definir metadados atualizados\n",
    "meta_data_indication = {\n",
    "    \"primaryid\": \"Unique number for identifying a FAERS report.\",\n",
    "    \"caseid\": \"Number for identifying a FAERS case.\",\n",
    "    \"indi_drug_seq\": \"Drug sequence number for identifying a drug for a Case.\",\n",
    "    \"indi_pt\": \"Preferred Term-level medical terminology describing the Indication for use using the Medical Dictionary for Regulatory Activities (MedDRA).\",\n",
    "    \"indication_type\": \"Type of indication, either 'Unknown' or 'Known'.\"\n",
    "}\n",
    "\n",
    "# Renomear colunas para corresponder aos metadados\n",
    "df_indication = df_indication.withColumnRenamed(\"primaryid\", \"primary_id\") \\\n",
    "                             .withColumnRenamed(\"caseid\", \"caseid\") \\\n",
    "                             .withColumnRenamed(\"indi_drug_seq\", \"indi_drug_seq\") \\\n",
    "                             .withColumnRenamed(\"indi_pt\", \"indi_pt\")\n",
    "\n",
    "# Exibir o schema atualizado\n",
    "df_indication.printSchema()"
   ]
  },
  {
   "cell_type": "markdown",
   "metadata": {
    "application/vnd.databricks.v1+cell": {
     "cellMetadata": {
      "byteLimit": 2048000,
      "rowLimit": 10000
     },
     "inputWidgets": {},
     "nuid": "7dc1296a-117c-4994-aae2-9de852df953b",
     "showTitle": false,
     "title": ""
    }
   },
   "source": [
    "## Funções de transformação dos dados"
   ]
  },
  {
   "cell_type": "code",
   "execution_count": 0,
   "metadata": {
    "application/vnd.databricks.v1+cell": {
     "cellMetadata": {
      "byteLimit": 2048000,
      "rowLimit": 10000
     },
     "inputWidgets": {},
     "nuid": "8b66c389-6e06-4689-af71-df8e0301f479",
     "showTitle": false,
     "title": ""
    }
   },
   "outputs": [],
   "source": [
    "# Função para preencher valores nulos\n",
    "def preencher_valores_nulos(df):\n",
    "    return df.fillna({\n",
    "        \"indi_drug_seq\": -1,  # Usar -1 para indicar valores nulos originalmente\n",
    "        \"indi_pt\": \"N/A\"  # Usar \"N/A\" se \"Unknown\" tiver um significado específico\n",
    "    })\n",
    "\n",
    "# Função para identificar tipos de indicações\n",
    "def identificar_tipo_indicacao(df):\n",
    "    return df.withColumn(\n",
    "        \"indication_type\",\n",
    "        when(col(\"indi_pt\") == \"Product used for unknown indication\", \"Unknown\")\n",
    "         .otherwise(\"Known\")\n",
    "    )"
   ]
  },
  {
   "cell_type": "code",
   "execution_count": 0,
   "metadata": {
    "application/vnd.databricks.v1+cell": {
     "cellMetadata": {
      "byteLimit": 2048000,
      "rowLimit": 10000
     },
     "inputWidgets": {},
     "nuid": "9721c801-c47f-4451-93e9-79ae26c8af27",
     "showTitle": false,
     "title": ""
    }
   },
   "outputs": [
    {
     "output_type": "stream",
     "name": "stdout",
     "output_type": "stream",
     "text": [
      "Número total de registos após as alterações: 5843230\nroot\n |-- primary_id: long (nullable = true)\n |-- caseid: integer (nullable = true)\n |-- indi_drug_seq: integer (nullable = false)\n |-- indi_pt: string (nullable = false)\n |-- indication_type: string (nullable = false)\n\n+----------+--------+-------------+--------------------+---------------+\n|primary_id|  caseid|indi_drug_seq|             indi_pt|indication_type|\n+----------+--------+-------------+--------------------+---------------+\n| 216766471|21676647|            4|Product used for ...|        Unknown|\n| 216766481|21676648|            1|Product used for ...|        Unknown|\n| 216766491|21676649|            1|Product used for ...|        Unknown|\n| 216766501|21676650|            1|  Colitis ulcerative|          Known|\n| 216766511|21676651|            1|Rheumatoid arthritis|          Known|\n+----------+--------+-------------+--------------------+---------------+\nonly showing top 5 rows\n\nMetadados da tabela indication:\n- primaryid: Unique number for identifying a FAERS report.\n- caseid: Number for identifying a FAERS case.\n- indi_drug_seq: Drug sequence number for identifying a drug for a Case.\n- indi_pt: Preferred Term-level medical terminology describing the Indication for use using the Medical Dictionary for Regulatory Activities (MedDRA).\n- indication_type: Type of indication, either 'Unknown' or 'Known'.\n"
     ]
    }
   ],
   "source": [
    "# Função principal de transformação\n",
    "def transformar_dados_indication(df):\n",
    "    df = preencher_valores_nulos(df)\n",
    "    df = identificar_tipo_indicacao(df)\n",
    "    return df\n",
    "\n",
    "# Aplicar a função de transformação\n",
    "df_indication_transformada = transformar_dados_indication(df_indication)\n",
    "\n",
    "# Função para validar os dados transformados\n",
    "def validar_dados_transformados(df):\n",
    "    total_registos = df.count()\n",
    "    print(f\"Número total de registos após as alterações: {total_registos}\")\n",
    "    df.printSchema()\n",
    "    df.show(5)\n",
    "\n",
    "# Validar os dados transformados\n",
    "validar_dados_transformados(df_indication_transformada)\n",
    "\n",
    "# Função para gravar dados\n",
    "def gravar_dados(df, caminho):\n",
    "    df.write.mode(\"overwrite\").parquet(caminho)\n",
    "\n",
    "# Aplicar os metadados\n",
    "print(\"Metadados da tabela indication:\")\n",
    "for column, description in meta_data_indication.items():\n",
    "    if column in df_indication_transformada.columns:\n",
    "            df_indication_transformada = df_indication_transformada.withMetadata(column, {'description':description})\n",
    "    print(f\"- {column}: {description}\")\n",
    "\n",
    "# Especificar o caminho para salvar o DataFrame transformado\n",
    "save_path = \"dbfs:/FileStore/FAERS-grupo-4/indication_final\"\n",
    "\n",
    "# Gravar o DataFrame transformado\n",
    "gravar_dados(df_indication_transformada, save_path)\n",
    "\n"
   ]
  }
 ],
 "metadata": {
  "application/vnd.databricks.v1+notebook": {
   "dashboards": [],
   "environmentMetadata": null,
   "language": "python",
   "notebookMetadata": {
    "pythonIndentUnit": 4
   },
   "notebookName": "Process_and_Save_Final_Indication",
   "widgets": {}
  }
 },
 "nbformat": 4,
 "nbformat_minor": 0
}
