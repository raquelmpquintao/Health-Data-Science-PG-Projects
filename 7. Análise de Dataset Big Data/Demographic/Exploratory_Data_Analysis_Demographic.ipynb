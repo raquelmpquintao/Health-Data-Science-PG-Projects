{
 "cells": [
  {
   "cell_type": "markdown",
   "metadata": {
    "application/vnd.databricks.v1+cell": {
     "cellMetadata": {
      "byteLimit": 2048000,
      "rowLimit": 10000
     },
     "inputWidgets": {},
     "nuid": "e38f8bcb-8b1d-423e-b215-9e6cf78177a0",
     "showTitle": false,
     "title": ""
    }
   },
   "source": [
    "# Notebook 2: Exploratory_Data_Analysis_Demographic\n",
    "## Introdução\n",
    "Neste notebook, vamos carregar os dados da tabela `Demographic` que foram salvos em formato Parquet no notebook anterior e realizar uma análise exploratória dos dados, com o objectivo de melhor compreender os dados e testar as transformações a realizar ao parquet_raw.\n",
    "\n",
    "## Passos\n",
    "\n",
    "1. **Carregar Dados do Parquet**\n",
    "    - Carregar os dados do arquivo Parquet `demo_raw`.\n",
    "\n",
    "2. **Mostrar o Schema e as Primeiras Linhas dos Dados**\n",
    "    - Verificar o schema dos dados carregados.\n",
    "    - Exibir as primeiras linhas do DataFrame.\n",
    "\n",
    "3. **Análise Exploratória dos Dados**\n",
    "    - Contar o número de linhas no DataFrame.\n",
    "    - Realizar estatísticas descritivas.\n",
    "    - Verificar valores nulos.\n",
    "    - Validar colunas.\n",
    "    - Elaborar Schema\n",
    "\n",
    "5. **Conclusão**\n",
    "    - Resumir as descobertas iniciais e preparar os dados para análises futuras.\n"
   ]
  },
  {
   "cell_type": "markdown",
   "metadata": {
    "application/vnd.databricks.v1+cell": {
     "cellMetadata": {
      "byteLimit": 2048000,
      "rowLimit": 10000
     },
     "inputWidgets": {},
     "nuid": "1a6d8a90-e6fb-4a32-ae5e-470167de1b08",
     "showTitle": false,
     "title": ""
    }
   },
   "source": [
    "# 1. Carregar Dados do Parquet"
   ]
  },
  {
   "cell_type": "code",
   "execution_count": 0,
   "metadata": {
    "application/vnd.databricks.v1+cell": {
     "cellMetadata": {
      "byteLimit": 2048000,
      "rowLimit": 10000
     },
     "inputWidgets": {},
     "nuid": "c7eb8be8-9caf-4ca4-b61e-8645e52bc027",
     "showTitle": false,
     "title": ""
    }
   },
   "outputs": [],
   "source": [
    "# Carregar dados do Parquet\n",
    "df_demo = spark.read.parquet('dbfs:/FileStore/FAERS-grupo-4/demo_raw')"
   ]
  },
  {
   "cell_type": "markdown",
   "metadata": {
    "application/vnd.databricks.v1+cell": {
     "cellMetadata": {
      "byteLimit": 2048000,
      "rowLimit": 10000
     },
     "inputWidgets": {},
     "nuid": "4d4eafc2-0872-4774-bc91-358a44191a94",
     "showTitle": false,
     "title": ""
    }
   },
   "source": [
    "# 2. Mostrar o Schema e as Primeiras Linhas dos Dados"
   ]
  },
  {
   "cell_type": "code",
   "execution_count": 0,
   "metadata": {
    "application/vnd.databricks.v1+cell": {
     "cellMetadata": {
      "byteLimit": 2048000,
      "rowLimit": 10000
     },
     "inputWidgets": {},
     "nuid": "caf78f53-0a3d-420e-b502-fb7eee6f238c",
     "showTitle": false,
     "title": ""
    }
   },
   "outputs": [],
   "source": [
    "df_demo.printSchema()"
   ]
  },
  {
   "cell_type": "code",
   "execution_count": 0,
   "metadata": {
    "application/vnd.databricks.v1+cell": {
     "cellMetadata": {
      "byteLimit": 2048000,
      "rowLimit": 10000
     },
     "inputWidgets": {},
     "nuid": "9100673c-85a8-438c-876a-db7a12920179",
     "showTitle": false,
     "title": ""
    }
   },
   "outputs": [],
   "source": [
    "df_demo.limit(50).display()"
   ]
  },
  {
   "cell_type": "markdown",
   "metadata": {
    "application/vnd.databricks.v1+cell": {
     "cellMetadata": {
      "byteLimit": 2048000,
      "rowLimit": 10000
     },
     "inputWidgets": {},
     "nuid": "b8f32788-4880-4317-99bb-888e00c499f2",
     "showTitle": false,
     "title": ""
    }
   },
   "source": [
    "# 3. Análise Exploratória dos Dados"
   ]
  },
  {
   "cell_type": "markdown",
   "metadata": {
    "application/vnd.databricks.v1+cell": {
     "cellMetadata": {
      "byteLimit": 2048000,
      "rowLimit": 10000
     },
     "inputWidgets": {},
     "nuid": "09bb2b83-54b8-4104-bd7a-f94bb4a96571",
     "showTitle": false,
     "title": ""
    }
   },
   "source": [
    "## 1. Analise de Numero de Registos e Verificação de Colunas com Valores Null"
   ]
  },
  {
   "cell_type": "code",
   "execution_count": 0,
   "metadata": {
    "application/vnd.databricks.v1+cell": {
     "cellMetadata": {
      "byteLimit": 2048000,
      "rowLimit": 10000
     },
     "inputWidgets": {},
     "nuid": "d26620ea-aea9-41c9-82a4-0e4469406262",
     "showTitle": false,
     "title": ""
    }
   },
   "outputs": [],
   "source": [
    "df_demo.count()"
   ]
  },
  {
   "cell_type": "code",
   "execution_count": 0,
   "metadata": {
    "application/vnd.databricks.v1+cell": {
     "cellMetadata": {
      "byteLimit": 2048000,
      "rowLimit": 10000
     },
     "inputWidgets": {},
     "nuid": "a6073d53-a87f-4d09-9abf-d39e5f366ac2",
     "showTitle": false,
     "title": ""
    }
   },
   "outputs": [],
   "source": [
    "df_demo.describe().display()"
   ]
  },
  {
   "cell_type": "markdown",
   "metadata": {
    "application/vnd.databricks.v1+cell": {
     "cellMetadata": {
      "byteLimit": 2048000,
      "rowLimit": 10000
     },
     "inputWidgets": {},
     "nuid": "2970878b-112e-4581-b1d5-901e8d55b14a",
     "showTitle": false,
     "title": ""
    }
   },
   "source": [
    "Primeiras impressões sobre a tabela e o seu schema"
   ]
  },
  {
   "cell_type": "markdown",
   "metadata": {
    "application/vnd.databricks.v1+cell": {
     "cellMetadata": {
      "byteLimit": 2048000,
      "rowLimit": 10000
     },
     "inputWidgets": {},
     "nuid": "76f23dd5-5148-441f-a11e-6b6a946ab5d6",
     "showTitle": false,
     "title": ""
    }
   },
   "source": [
    "|-- primaryid: long (nullable = true) - identificador do relatório não pode ser null.  \n",
    " |-- caseid: integer (nullable = true) - identificador do caso não pode ser null.  \n",
    " |-- caseversion: integer (nullable = true) - identificador da versão do caso não pode ser null.  \n",
    " |-- i_f_code: string (nullable = true) - Codigo que representa se o registo é um follow-up ou o primeiro.  \n",
    " |-- event_dt: integer (nullable = true) - Data do inicio da reação adversa, nem todos os relatorios tem essa info (Pode ser null).  \n",
    " |-- mfr_dt: integer (nullable = true) - Data em que o fabricante foi notificado pela primeira vez.  \n",
    " |-- init_fda_dt: integer (nullable = true) - Data em que a FDA recebeu a primeira versão deste caso.  \n",
    " |-- fda_dt: integer (nullable = true) - Data em que recebeu o caso, nos follow-ups aparece com mfr_dt, não pode ser null.  \n",
    " |-- rept_cod: string (nullable = true) - Codigo para o tipo reporte representa o tempo que demorou a ser enviado e pode-se tirar info de quem enviou o relatorio aqui. Não tem nulls.  \n",
    " |-- auth_num: string (nullable = true) - Numero do caso da entidade regulatoria quando disponível. Pode ter nulls.  \n",
    " |-- mfr_num: string (nullable = true) - Codigo do relatório para o fabricante. Pode ter nulls.  \n",
    " |-- mfr_sndr: string (nullable = true) - Codigo do fabricante que enviou o relatorio, quando não encontrado tem o nome(verbatim) da organização que enviou. Não pode ter nulls.  \n",
    " |-- lit_ref: string (nullable = true) - Referencia literária quando disponível, tem os ultimos 500 caracteres quando excede 500 caracters. Pode ter nulls.  \n",
    " |-- age: integer (nullable = true) - Idade em numero. Pode ter nulls.  \n",
    " |-- age_cod: string (nullable = true) - Codigo da unidade usada para idade. Pode ser null.   \n",
    " |-- age_grp: string (nullable = true) - Codigo para o grupo de etario. Pode ser null.  \n",
    " |-- sex: string (nullable = true) - Codigo para o sexo. Pode ser null.  \n",
    " |-- e_sub: string (nullable = true) - Y/N para se foi submetido electronicamente. Deveria ser booleano. Não pode ser null.  \n",
    " |-- wt: double (nullable = true) - valor do peso. Pode ser null  \n",
    " |-- wt_cod: string (nullable = true) - Codigo para a unidade de peso. Pode ser null mas deverá ter o mesmo numero de registos que o wt.  \n",
    " |-- rept_dt: integer (nullable = true) - Data de quando o relatorio foi enviado. Não pode ter nulls.  \n",
    " |-- to_mfr: string (nullable = true) - Y/N caso seja um relatorio voluntario. Pode ter nulls.  \n",
    " |-- occp_cod: string (nullable = true) - Codigo da ocupação (relativa a este contexto) de quem reportou.  \n",
    " |-- reporter_country: string (nullable = true) - Codigo do pais que reportou o caso.  \n",
    " |-- occr_country: string (nullable = true) - Codigo do pais onde ocorreu o caso.  \n"
   ]
  },
  {
   "cell_type": "markdown",
   "metadata": {
    "application/vnd.databricks.v1+cell": {
     "cellMetadata": {
      "byteLimit": 2048000,
      "rowLimit": 10000
     },
     "inputWidgets": {},
     "nuid": "027a1b49-ba4a-4122-9ac8-27041b349740",
     "showTitle": false,
     "title": ""
    }
   },
   "source": []
  },
  {
   "cell_type": "markdown",
   "metadata": {
    "application/vnd.databricks.v1+cell": {
     "cellMetadata": {
      "byteLimit": 2048000,
      "rowLimit": 10000
     },
     "inputWidgets": {},
     "nuid": "e1dbe753-03d6-4424-b572-58a827317558",
     "showTitle": false,
     "title": ""
    }
   },
   "source": [
    "## 2. Analise por colunas"
   ]
  },
  {
   "cell_type": "markdown",
   "metadata": {
    "application/vnd.databricks.v1+cell": {
     "cellMetadata": {
      "byteLimit": 2048000,
      "rowLimit": 10000
     },
     "inputWidgets": {},
     "nuid": "31068a22-35c3-4182-bfa1-db3f58c0c038",
     "showTitle": false,
     "title": ""
    }
   },
   "source": [
    "### 1. Coluna i_f_cod"
   ]
  },
  {
   "cell_type": "markdown",
   "metadata": {
    "application/vnd.databricks.v1+cell": {
     "cellMetadata": {
      "byteLimit": 2048000,
      "rowLimit": 10000
     },
     "inputWidgets": {},
     "nuid": "262df5d8-bab6-48f6-9cc4-28e93f952569",
     "showTitle": false,
     "title": ""
    }
   },
   "source": [
    "Vamos manter as colunas primaryid, caseid e caseversion. Vamos avançar para perceber se a coluna i_f_cod segue as regras definidas."
   ]
  },
  {
   "cell_type": "code",
   "execution_count": 0,
   "metadata": {
    "application/vnd.databricks.v1+cell": {
     "cellMetadata": {
      "byteLimit": 2048000,
      "rowLimit": 10000
     },
     "inputWidgets": {},
     "nuid": "eee333b5-12c5-44f2-a25e-6eb11b2a834b",
     "showTitle": false,
     "title": ""
    }
   },
   "outputs": [],
   "source": [
    "df_demo.groupBy(df_demo['i_f_code']).count().display()"
   ]
  },
  {
   "cell_type": "markdown",
   "metadata": {
    "application/vnd.databricks.v1+cell": {
     "cellMetadata": {
      "byteLimit": 2048000,
      "rowLimit": 10000
     },
     "inputWidgets": {},
     "nuid": "c5fc6402-91b8-4276-975e-9ffa7a51a657",
     "showTitle": false,
     "title": ""
    }
   },
   "source": [
    "Confirma-se não há dados que fujam ao definido. Vamos alterar esta coluna para boleano em que true é quando é follow-up."
   ]
  },
  {
   "cell_type": "code",
   "execution_count": 0,
   "metadata": {
    "application/vnd.databricks.v1+cell": {
     "cellMetadata": {
      "byteLimit": 2048000,
      "rowLimit": 10000
     },
     "inputWidgets": {},
     "nuid": "93c11579-72a6-4a30-a100-3c2e734b5cc1",
     "showTitle": false,
     "title": ""
    }
   },
   "outputs": [],
   "source": [
    "from pyspark.sql.functions import when\n",
    "df_demo = df_demo.withColumn(\"folup_rpt\", when(df_demo['i_f_code'] == 'F', True).otherwise(False))"
   ]
  },
  {
   "cell_type": "markdown",
   "metadata": {
    "application/vnd.databricks.v1+cell": {
     "cellMetadata": {
      "byteLimit": 2048000,
      "rowLimit": 10000
     },
     "inputWidgets": {},
     "nuid": "0e69334e-a374-4be6-b887-b4ad43c7f14e",
     "showTitle": false,
     "title": ""
    }
   },
   "source": [
    "Validar se a conversão foi bem feita"
   ]
  },
  {
   "cell_type": "code",
   "execution_count": 0,
   "metadata": {
    "application/vnd.databricks.v1+cell": {
     "cellMetadata": {
      "byteLimit": 2048000,
      "rowLimit": 10000
     },
     "inputWidgets": {},
     "nuid": "0b5656df-8257-4352-b39c-eb20d9930077",
     "showTitle": false,
     "title": ""
    }
   },
   "outputs": [],
   "source": [
    "df_demo.where(df_demo['i_f_code']=='F').display()"
   ]
  },
  {
   "cell_type": "code",
   "execution_count": 0,
   "metadata": {
    "application/vnd.databricks.v1+cell": {
     "cellMetadata": {
      "byteLimit": 2048000,
      "rowLimit": 10000
     },
     "inputWidgets": {},
     "nuid": "31093b05-48ed-488a-a6eb-8f0bbb2e716b",
     "showTitle": false,
     "title": ""
    }
   },
   "outputs": [],
   "source": [
    "df_demo.where(df_demo['i_f_code']=='I').display()"
   ]
  },
  {
   "cell_type": "markdown",
   "metadata": {
    "application/vnd.databricks.v1+cell": {
     "cellMetadata": {
      "byteLimit": 2048000,
      "rowLimit": 10000
     },
     "inputWidgets": {},
     "nuid": "f652989a-0b6f-4469-9b30-993ad42f88cc",
     "showTitle": false,
     "title": ""
    }
   },
   "source": [
    "Conversão bem realizada. Vamos eliminar a coluna original"
   ]
  },
  {
   "cell_type": "code",
   "execution_count": 0,
   "metadata": {
    "application/vnd.databricks.v1+cell": {
     "cellMetadata": {
      "byteLimit": 2048000,
      "rowLimit": 10000
     },
     "inputWidgets": {},
     "nuid": "0528b55f-8e14-40c4-9a8c-dabd5a1a8c98",
     "showTitle": false,
     "title": ""
    }
   },
   "outputs": [],
   "source": [
    "df_demo=df_demo.drop(df_demo['i_f_code'])"
   ]
  },
  {
   "cell_type": "code",
   "execution_count": 0,
   "metadata": {
    "application/vnd.databricks.v1+cell": {
     "cellMetadata": {
      "byteLimit": 2048000,
      "rowLimit": 10000
     },
     "inputWidgets": {},
     "nuid": "78de4995-49e5-4624-97b5-f0d72a35859d",
     "showTitle": false,
     "title": ""
    }
   },
   "outputs": [],
   "source": [
    "df_demo.limit(1000).display()"
   ]
  },
  {
   "cell_type": "markdown",
   "metadata": {
    "application/vnd.databricks.v1+cell": {
     "cellMetadata": {
      "byteLimit": 2048000,
      "rowLimit": 10000
     },
     "inputWidgets": {},
     "nuid": "8eb9a393-841e-4cd5-bff4-153fffac40b8",
     "showTitle": false,
     "title": ""
    }
   },
   "source": [
    "### 2. Colunas do tipo data (event_dt, mfr_dt, init_fda_dt, fda_dt, rept_dt)"
   ]
  },
  {
   "cell_type": "markdown",
   "metadata": {
    "application/vnd.databricks.v1+cell": {
     "cellMetadata": {
      "byteLimit": 2048000,
      "rowLimit": 10000
     },
     "inputWidgets": {},
     "nuid": "143f73de-a3eb-4e1a-87b6-31b23f86f919",
     "showTitle": false,
     "title": ""
    }
   },
   "source": [
    "Vamos agora avançar para tratar as colunas com datas, começando com event_dt."
   ]
  },
  {
   "cell_type": "markdown",
   "metadata": {
    "application/vnd.databricks.v1+cell": {
     "cellMetadata": {
      "byteLimit": 2048000,
      "rowLimit": 10000
     },
     "inputWidgets": {},
     "nuid": "5a9bb644-a7e5-45a2-b75b-859def3ed899",
     "showTitle": false,
     "title": ""
    }
   },
   "source": [
    "Sabemos através das notas da documentação:  \n",
    "- As datas podem estar no formato YYYYMMDD ou YYYYMM ou YYYY.  \n",
    "- YYYYMM é igual a YYYYMM01.  \n",
    "- YYYY é igual a YYYY0101. "
   ]
  },
  {
   "cell_type": "code",
   "execution_count": 0,
   "metadata": {
    "application/vnd.databricks.v1+cell": {
     "cellMetadata": {
      "byteLimit": 2048000,
      "rowLimit": 10000
     },
     "inputWidgets": {},
     "nuid": "1268d683-dd11-410e-800e-c4604d4708b2",
     "showTitle": false,
     "title": ""
    }
   },
   "outputs": [],
   "source": [
    "from pyspark.sql.functions import to_date, when, length, col, expr\n",
    "def convert_date(df,date_col,dest_col):\n",
    "  # Suponha que o nome da sua coluna seja 'data_numero'\n",
    "  df = df.withColumn(\"data_string\", col(date_col).cast(\"string\"))\n",
    "\n",
    "  df = df.withColumn(dest_col, \n",
    "      when(length(col(\"data_string\")) == 8, to_date(col(\"data_string\"), \"yyyyMMdd\"))\n",
    "      .when(length(col(\"data_string\")) == 6, to_date(expr(\"concat(data_string, '01')\"), \"yyyyMMdd\"))\n",
    "      .when(length(col(\"data_string\")) == 4, to_date(expr(\"concat(data_string, '0101')\"), \"yyyyMMdd\"))\n",
    "  )\n",
    "  return df.drop(col(\"data_string\"))"
   ]
  },
  {
   "cell_type": "code",
   "execution_count": 0,
   "metadata": {
    "application/vnd.databricks.v1+cell": {
     "cellMetadata": {
      "byteLimit": 2048000,
      "rowLimit": 10000
     },
     "inputWidgets": {},
     "nuid": "25f0901a-9b6f-4b64-91ca-69476de0aa5d",
     "showTitle": false,
     "title": ""
    }
   },
   "outputs": [],
   "source": [
    "convert_date(df_demo,'event_dt','event_date').select('event_dt','event_date').limit(1000).display()"
   ]
  },
  {
   "cell_type": "code",
   "execution_count": 0,
   "metadata": {
    "application/vnd.databricks.v1+cell": {
     "cellMetadata": {
      "byteLimit": 2048000,
      "rowLimit": 10000
     },
     "inputWidgets": {},
     "nuid": "e83526c6-101e-4cf4-84bf-539662dbd6b9",
     "showTitle": false,
     "title": ""
    }
   },
   "outputs": [],
   "source": [
    "#Validar a não perda de registos:\n",
    "convert_date(df_demo,'event_dt','event_date').select('event_date').where(col('event_date').isNotNull()).count()"
   ]
  },
  {
   "cell_type": "code",
   "execution_count": 0,
   "metadata": {
    "application/vnd.databricks.v1+cell": {
     "cellMetadata": {
      "byteLimit": 2048000,
      "rowLimit": 10000
     },
     "inputWidgets": {},
     "nuid": "f454221a-9fb6-4c09-b328-303aaacb59a0",
     "showTitle": false,
     "title": ""
    }
   },
   "outputs": [],
   "source": [
    "df_demo.select('event_dt').where(col('event_dt').isNotNull()).count()"
   ]
  },
  {
   "cell_type": "markdown",
   "metadata": {
    "application/vnd.databricks.v1+cell": {
     "cellMetadata": {
      "byteLimit": 2048000,
      "rowLimit": 10000
     },
     "inputWidgets": {},
     "nuid": "4c4e639d-3b6e-4c2e-ad3d-761a2c857356",
     "showTitle": false,
     "title": ""
    }
   },
   "source": [
    "Verifica-se a perda de dois registos em relação ao count do describe 964780. Vamos validar..."
   ]
  },
  {
   "cell_type": "markdown",
   "metadata": {
    "application/vnd.databricks.v1+cell": {
     "cellMetadata": {
      "byteLimit": 2048000,
      "rowLimit": 10000
     },
     "inputWidgets": {},
     "nuid": "1845324a-bff4-4d77-9904-f684ce57a348",
     "showTitle": false,
     "title": ""
    }
   },
   "source": [
    "Vamos tentar validar se algum registo não segue o padrão que definimos na função"
   ]
  },
  {
   "cell_type": "code",
   "execution_count": 0,
   "metadata": {
    "application/vnd.databricks.v1+cell": {
     "cellMetadata": {
      "byteLimit": 2048000,
      "rowLimit": 10000
     },
     "inputWidgets": {},
     "nuid": "1cadbcdb-3782-49b8-9738-46b1977f2a27",
     "showTitle": false,
     "title": ""
    }
   },
   "outputs": [],
   "source": [
    "df_test = df_demo.withColumn(\"data_string\", col('event_dt').cast(\"string\"))\n",
    "df_test.select('data_string').where( (length(col(\"data_string\")) != 6)).where( (length(col(\"data_string\")) != 4)).where( (length(col(\"data_string\")) != 8)).display()"
   ]
  },
  {
   "cell_type": "markdown",
   "metadata": {
    "application/vnd.databricks.v1+cell": {
     "cellMetadata": {
      "byteLimit": 2048000,
      "rowLimit": 10000
     },
     "inputWidgets": {},
     "nuid": "21be36dd-8775-49a5-8482-eb69d1ac6696",
     "showTitle": false,
     "title": ""
    }
   },
   "source": [
    "Como não é encontrado nenhum significado nestes valores vamos optar por ignorar e aplicar a transformação.\n",
    "Verificou-se que efectivamente esta solução funciona e que pode ser aplicada às restantes colunas"
   ]
  },
  {
   "cell_type": "code",
   "execution_count": 0,
   "metadata": {
    "application/vnd.databricks.v1+cell": {
     "cellMetadata": {
      "byteLimit": 2048000,
      "rowLimit": 10000
     },
     "inputWidgets": {},
     "nuid": "9add5f41-21c9-4906-b8c3-d6e29c1ddcec",
     "showTitle": false,
     "title": ""
    }
   },
   "outputs": [],
   "source": [
    "df_demo = convert_date(df_demo,'event_dt','event_dt')\n",
    "df_demo.display()"
   ]
  },
  {
   "cell_type": "markdown",
   "metadata": {
    "application/vnd.databricks.v1+cell": {
     "cellMetadata": {
      "byteLimit": 2048000,
      "rowLimit": 10000
     },
     "inputWidgets": {},
     "nuid": "74a077b9-16cb-4336-83bf-8c0b05c25a8c",
     "showTitle": false,
     "title": ""
    }
   },
   "source": [
    "Vamos agora validar a existencia de valores que não correspondem aos padrões nas outras colunas"
   ]
  },
  {
   "cell_type": "code",
   "execution_count": 0,
   "metadata": {
    "application/vnd.databricks.v1+cell": {
     "cellMetadata": {
      "byteLimit": 2048000,
      "rowLimit": 10000
     },
     "inputWidgets": {},
     "nuid": "1f82de94-d4b8-4352-ac7a-62b8e9071e6a",
     "showTitle": false,
     "title": ""
    }
   },
   "outputs": [],
   "source": [
    "# colunas com date:\n",
    "colunas_dt = [x for x in df_demo.columns if x.endswith('_dt')]\n",
    "colunas_dt"
   ]
  },
  {
   "cell_type": "code",
   "execution_count": 0,
   "metadata": {
    "application/vnd.databricks.v1+cell": {
     "cellMetadata": {
      "byteLimit": 2048000,
      "rowLimit": 10000
     },
     "inputWidgets": {},
     "nuid": "1b56d27d-4188-4533-b510-dacb35470015",
     "showTitle": false,
     "title": ""
    }
   },
   "outputs": [],
   "source": [
    "# event_dt já está tratado por isso\n",
    "colunas_dt = colunas_dt[1:]\n",
    "colunas_dt"
   ]
  },
  {
   "cell_type": "code",
   "execution_count": 0,
   "metadata": {
    "application/vnd.databricks.v1+cell": {
     "cellMetadata": {
      "byteLimit": 2048000,
      "rowLimit": 10000
     },
     "inputWidgets": {},
     "nuid": "2836c7ac-71c0-4a1a-b947-8ee78fec2845",
     "showTitle": false,
     "title": ""
    }
   },
   "outputs": [],
   "source": [
    "for coluna in colunas_dt:\n",
    "    df_test = df_demo.withColumn(\"data_string\", col(coluna).cast(\"string\"))\n",
    "    df_test.select('data_string').where( (length(col(\"data_string\")) != 6)).where( (length(col(\"data_string\")) != 4)).where( (length(col(\"data_string\")) != 8)).display()"
   ]
  },
  {
   "cell_type": "code",
   "execution_count": 0,
   "metadata": {
    "application/vnd.databricks.v1+cell": {
     "cellMetadata": {
      "byteLimit": 2048000,
      "rowLimit": 10000
     },
     "inputWidgets": {},
     "nuid": "ab406349-2415-4759-8304-8ac66f849b63",
     "showTitle": false,
     "title": ""
    }
   },
   "outputs": [],
   "source": [
    "df_demo.select(colunas_dt).limit(10).display()"
   ]
  },
  {
   "cell_type": "markdown",
   "metadata": {
    "application/vnd.databricks.v1+cell": {
     "cellMetadata": {
      "byteLimit": 2048000,
      "rowLimit": 10000
     },
     "inputWidgets": {},
     "nuid": "5b47ad7e-ca37-4791-a836-6e5acfa86ecc",
     "showTitle": false,
     "title": ""
    }
   },
   "source": [
    "Verfica-se que só é um problema da event_dt e que se pode aplicar nas restantes colunas"
   ]
  },
  {
   "cell_type": "code",
   "execution_count": 0,
   "metadata": {
    "application/vnd.databricks.v1+cell": {
     "cellMetadata": {
      "byteLimit": 2048000,
      "rowLimit": 10000
     },
     "inputWidgets": {},
     "nuid": "9fde52d9-03e2-4f67-8878-1745041f0877",
     "showTitle": false,
     "title": ""
    }
   },
   "outputs": [],
   "source": [
    "for coluna in colunas_dt:\n",
    "    df_demo = convert_date(df_demo,coluna,coluna)\n",
    "df_demo.display()"
   ]
  },
  {
   "cell_type": "markdown",
   "metadata": {
    "application/vnd.databricks.v1+cell": {
     "cellMetadata": {
      "byteLimit": 2048000,
      "rowLimit": 10000
     },
     "inputWidgets": {},
     "nuid": "0b61977a-5598-4326-a6ce-f992f18a8f0c",
     "showTitle": false,
     "title": ""
    }
   },
   "source": [
    "### 3. Coluna rept_cod"
   ]
  },
  {
   "cell_type": "code",
   "execution_count": 0,
   "metadata": {
    "application/vnd.databricks.v1+cell": {
     "cellMetadata": {
      "byteLimit": 2048000,
      "rowLimit": 10000
     },
     "inputWidgets": {},
     "nuid": "62881d47-1f33-4904-bbdd-e24c176b3a3b",
     "showTitle": false,
     "title": ""
    }
   },
   "outputs": [],
   "source": [
    "# Criar DataFrame de mapeamento de códigos para descrição das fontes\n",
    "mapping_data = [\n",
    "    (\"EXP\", \"Expedited (15-Day)\"),\n",
    "    (\"PER\", \"Periodic (Non-Expedited)\"),\n",
    "    (\"DIR\", \"Direct\"),\n",
    "    (\"5DAY\", \"5-Day\"),\n",
    "    (\"30DAY\", \"30-Day\")\n",
    "]\n",
    "mapping_columns = [\"rept_cod\", \"rept_typ_txt\"]\n",
    "df_mapping = spark.createDataFrame(mapping_data, mapping_columns)\n",
    "\n",
    "# Join entre df_rept_cod e o DataFrame de mapeamento\n",
    "df_demo_test = df_demo.join(df_mapping, on=\"rept_cod\", how=\"left\")\n",
    "\n",
    "# Mostre o DataFrame resultante\n",
    "df_demo_test.select('rept_cod','rept_typ_txt').display()"
   ]
  },
  {
   "cell_type": "markdown",
   "metadata": {
    "application/vnd.databricks.v1+cell": {
     "cellMetadata": {
      "byteLimit": 2048000,
      "rowLimit": 10000
     },
     "inputWidgets": {},
     "nuid": "a87cfbaa-a76e-4b37-87b8-130a8a82b938",
     "showTitle": false,
     "title": ""
    }
   },
   "source": [
    "Parece estar a funcionar vamos ver se existem nulls na coluna criada"
   ]
  },
  {
   "cell_type": "code",
   "execution_count": 0,
   "metadata": {
    "application/vnd.databricks.v1+cell": {
     "cellMetadata": {
      "byteLimit": 2048000,
      "rowLimit": 10000
     },
     "inputWidgets": {},
     "nuid": "9d89135c-a75d-40b3-90f6-19eac5ee96f5",
     "showTitle": false,
     "title": ""
    }
   },
   "outputs": [],
   "source": [
    "df_demo_test.select('rept_cod','rept_typ_txt').where(col('rept_typ_txt').isNull()).where(col('rept_cod').isNotNull()).display()"
   ]
  },
  {
   "cell_type": "markdown",
   "metadata": {
    "application/vnd.databricks.v1+cell": {
     "cellMetadata": {
      "byteLimit": 2048000,
      "rowLimit": 10000
     },
     "inputWidgets": {},
     "nuid": "4c014feb-bf05-4282-a8d5-799061657baf",
     "showTitle": false,
     "title": ""
    }
   },
   "source": [
    "Confirma-se que o mapeamento do 'rept_cod' foi bem executado, resultando na ausência nulls. \n"
   ]
  },
  {
   "cell_type": "code",
   "execution_count": 0,
   "metadata": {
    "application/vnd.databricks.v1+cell": {
     "cellMetadata": {
      "byteLimit": 2048000,
      "rowLimit": 10000
     },
     "inputWidgets": {},
     "nuid": "c1518c97-5a83-4d77-b3ed-6fed4b28bb4a",
     "showTitle": false,
     "title": ""
    }
   },
   "outputs": [],
   "source": [
    "# Criar DataFrame de mapeamento de códigos para descrição das fontes\n",
    "mapping_data = [\n",
    "    (\"EXP\", \"Expedited (15-Day)\"),\n",
    "    (\"PER\", \"Periodic (Non-Expedited)\"),\n",
    "    (\"DIR\", \"Direct\"),\n",
    "    (\"5DAY\", \"5-Day\"),\n",
    "    (\"30DAY\", \"30-Day\")\n",
    "]\n",
    "mapping_columns = [\"rept_cod\", \"rept_typ_txt\"]\n",
    "df_mapping = spark.createDataFrame(mapping_data, mapping_columns)\n",
    "\n",
    "# Join entre df_rept_cod e o DataFrame de mapeamento\n",
    "df_demo= df_demo.join(df_mapping, on=\"rept_cod\", how=\"left\")\n",
    "\n",
    "# Mostre o DataFrame resultante\n",
    "df_demo.select('rept_cod','rept_typ_txt').display()"
   ]
  },
  {
   "cell_type": "markdown",
   "metadata": {
    "application/vnd.databricks.v1+cell": {
     "cellMetadata": {
      "byteLimit": 2048000,
      "rowLimit": 10000
     },
     "inputWidgets": {},
     "nuid": "b0abd583-3b33-4e37-9bac-e086898a4cfa",
     "showTitle": false,
     "title": ""
    }
   },
   "source": [
    "### 4. Coluna auth_num"
   ]
  },
  {
   "cell_type": "markdown",
   "metadata": {
    "application/vnd.databricks.v1+cell": {
     "cellMetadata": {
      "byteLimit": 2048000,
      "rowLimit": 10000
     },
     "inputWidgets": {},
     "nuid": "c168196d-cc03-4696-b23f-dcb909abc835",
     "showTitle": false,
     "title": ""
    }
   },
   "source": [
    "Avançamos no estudo da coluna 'auth_num':"
   ]
  },
  {
   "cell_type": "code",
   "execution_count": 0,
   "metadata": {
    "application/vnd.databricks.v1+cell": {
     "cellMetadata": {
      "byteLimit": 2048000,
      "rowLimit": 10000
     },
     "inputWidgets": {},
     "nuid": "6afc1cbd-5317-41e3-be1f-d790d8460902",
     "showTitle": false,
     "title": ""
    }
   },
   "outputs": [],
   "source": [
    "df_demo.select('auth_num').distinct().limit(1000).display()"
   ]
  },
  {
   "cell_type": "code",
   "execution_count": 0,
   "metadata": {
    "application/vnd.databricks.v1+cell": {
     "cellMetadata": {
      "byteLimit": 2048000,
      "rowLimit": 10000
     },
     "inputWidgets": {},
     "nuid": "7d5ccac4-ec81-4bc4-bc98-26d8f3eadbad",
     "showTitle": false,
     "title": ""
    }
   },
   "outputs": [],
   "source": [
    "df_demo.select('auth_num').where(col('auth_num').isNull()).count()"
   ]
  },
  {
   "cell_type": "markdown",
   "metadata": {
    "application/vnd.databricks.v1+cell": {
     "cellMetadata": {
      "byteLimit": 2048000,
      "rowLimit": 10000
     },
     "inputWidgets": {},
     "nuid": "684c1f67-aee5-4f42-a002-63eb8534a0cd",
     "showTitle": false,
     "title": ""
    }
   },
   "source": [
    "Numa rápida análise concluimos que existem vários formatos de 'auth_num' não havendo na documentação referência de uma nomenclatura especifica, nesse sentido não vamos aplicar nenhuma transformação nesta coluna. Nem sempre fará sentido estar esta coluna preenchida uma vez que nem sempre foi reportado por uma autoridade reguladora. "
   ]
  },
  {
   "cell_type": "markdown",
   "metadata": {
    "application/vnd.databricks.v1+cell": {
     "cellMetadata": {
      "byteLimit": 2048000,
      "rowLimit": 10000
     },
     "inputWidgets": {},
     "nuid": "6235bdf7-1f45-4efc-b640-da80b4b38245",
     "showTitle": false,
     "title": ""
    }
   },
   "source": [
    "### 5. Coluna mfr_num"
   ]
  },
  {
   "cell_type": "markdown",
   "metadata": {
    "application/vnd.databricks.v1+cell": {
     "cellMetadata": {
      "byteLimit": 2048000,
      "rowLimit": 10000
     },
     "inputWidgets": {},
     "nuid": "9dc364f5-e8d4-4948-b09d-3be97464cfc7",
     "showTitle": false,
     "title": ""
    }
   },
   "source": [
    "Agora procedemos a validação da coluna 'mfr_num'\n"
   ]
  },
  {
   "cell_type": "code",
   "execution_count": 0,
   "metadata": {
    "application/vnd.databricks.v1+cell": {
     "cellMetadata": {
      "byteLimit": 2048000,
      "rowLimit": 10000
     },
     "inputWidgets": {},
     "nuid": "6b8bb817-c57d-4aa6-9ae8-14d512574026",
     "showTitle": false,
     "title": ""
    }
   },
   "outputs": [],
   "source": [
    "df_demo.select('mfr_num').display()"
   ]
  },
  {
   "cell_type": "code",
   "execution_count": 0,
   "metadata": {
    "application/vnd.databricks.v1+cell": {
     "cellMetadata": {
      "byteLimit": 2048000,
      "rowLimit": 10000
     },
     "inputWidgets": {},
     "nuid": "fe2ace44-bcd6-4fe1-9275-432fe672949d",
     "showTitle": false,
     "title": ""
    }
   },
   "outputs": [],
   "source": [
    "df_demo.select('mfr_num').where(col('mfr_num').isNull()).count()"
   ]
  },
  {
   "cell_type": "code",
   "execution_count": 0,
   "metadata": {
    "application/vnd.databricks.v1+cell": {
     "cellMetadata": {
      "byteLimit": 2048000,
      "rowLimit": 10000
     },
     "inputWidgets": {},
     "nuid": "3d2f4944-8c79-454e-b291-80511edf7adc",
     "showTitle": false,
     "title": ""
    }
   },
   "outputs": [],
   "source": [
    "#proporção percentual nulls 'mfr_cod'\n",
    "87382/2157280 * 100"
   ]
  },
  {
   "cell_type": "markdown",
   "metadata": {
    "application/vnd.databricks.v1+cell": {
     "cellMetadata": {
      "byteLimit": 2048000,
      "rowLimit": 10000
     },
     "inputWidgets": {},
     "nuid": "eb33ced4-562b-40f6-8dbf-5c740a13a9d2",
     "showTitle": false,
     "title": ""
    }
   },
   "source": [
    "Nem sempre está disponivel o identificador do relatório interno do fabricante, mas concluimos que esta coluna não necessita de tranformação. "
   ]
  },
  {
   "cell_type": "markdown",
   "metadata": {
    "application/vnd.databricks.v1+cell": {
     "cellMetadata": {
      "byteLimit": 2048000,
      "rowLimit": 10000
     },
     "inputWidgets": {},
     "nuid": "7de8f0d0-b28a-4ce4-a86b-5d2edad2c4b3",
     "showTitle": false,
     "title": ""
    }
   },
   "source": [
    "### 6. Coluna mfr_sndr"
   ]
  },
  {
   "cell_type": "code",
   "execution_count": 0,
   "metadata": {
    "application/vnd.databricks.v1+cell": {
     "cellMetadata": {
      "byteLimit": 2048000,
      "rowLimit": 10000
     },
     "inputWidgets": {},
     "nuid": "f9aa750c-a656-49d9-9744-012e9e01366c",
     "showTitle": false,
     "title": ""
    }
   },
   "outputs": [],
   "source": [
    "df_demo.select('mfr_sndr').distinct().display()"
   ]
  },
  {
   "cell_type": "code",
   "execution_count": 0,
   "metadata": {
    "application/vnd.databricks.v1+cell": {
     "cellMetadata": {
      "byteLimit": 2048000,
      "rowLimit": 10000
     },
     "inputWidgets": {},
     "nuid": "2d89f0e3-74e8-407f-8d1e-e676561f56e1",
     "showTitle": false,
     "title": ""
    }
   },
   "outputs": [],
   "source": [
    "df_demo.select('mfr_sndr').where(col('mfr_sndr').isNull()).count()"
   ]
  },
  {
   "cell_type": "markdown",
   "metadata": {
    "application/vnd.databricks.v1+cell": {
     "cellMetadata": {
      "byteLimit": 2048000,
      "rowLimit": 10000
     },
     "inputWidgets": {},
     "nuid": "f21a0bcd-1244-412f-81d5-687bf46847bf",
     "showTitle": false,
     "title": ""
    }
   },
   "source": [
    "Esta coluna não precisa de qualquer tratamento, estando sempre disponivel qual o fabricante. Ora por identificador, ora por verbatim."
   ]
  },
  {
   "cell_type": "markdown",
   "metadata": {
    "application/vnd.databricks.v1+cell": {
     "cellMetadata": {
      "byteLimit": 2048000,
      "rowLimit": 10000
     },
     "inputWidgets": {},
     "nuid": "1f3b8b9c-54f9-4801-b439-d93ff25df7c6",
     "showTitle": false,
     "title": ""
    }
   },
   "source": [
    "### 7. Coluna lit_ref"
   ]
  },
  {
   "cell_type": "code",
   "execution_count": 0,
   "metadata": {
    "application/vnd.databricks.v1+cell": {
     "cellMetadata": {
      "byteLimit": 2048000,
      "rowLimit": 10000
     },
     "inputWidgets": {},
     "nuid": "aa982be8-5070-4a98-8f4b-1ee46a0931c5",
     "showTitle": false,
     "title": ""
    }
   },
   "outputs": [],
   "source": [
    "df_demo.select('lit_ref').display()"
   ]
  },
  {
   "cell_type": "code",
   "execution_count": 0,
   "metadata": {
    "application/vnd.databricks.v1+cell": {
     "cellMetadata": {
      "byteLimit": 2048000,
      "rowLimit": 10000
     },
     "inputWidgets": {},
     "nuid": "5fbbfb89-bc41-4755-88f6-9e9134dac5a9",
     "showTitle": false,
     "title": ""
    }
   },
   "outputs": [],
   "source": [
    "lit_ref_perc_null=(df_demo.select('lit_ref').where(col('lit_ref').isNull()).count())/(df_demo.count())*100\n",
    "print(f'A percentagem de nulls na coluna de referencias literárias é :{lit_ref_perc_null}')"
   ]
  },
  {
   "cell_type": "markdown",
   "metadata": {
    "application/vnd.databricks.v1+cell": {
     "cellMetadata": {
      "byteLimit": 2048000,
      "rowLimit": 10000
     },
     "inputWidgets": {},
     "nuid": "fbbeae4b-4f89-4cdc-bb35-973516a161c1",
     "showTitle": false,
     "title": ""
    }
   },
   "source": [
    "Apesar da elevada percentagem de valores a Null (92.86%), não vamos fazer a eliminação da tabela, uma vez que para avaliações futuras ao dataset poderá ser util ter toda a informação disponivel. "
   ]
  },
  {
   "cell_type": "markdown",
   "metadata": {
    "application/vnd.databricks.v1+cell": {
     "cellMetadata": {
      "byteLimit": 2048000,
      "rowLimit": 10000
     },
     "inputWidgets": {},
     "nuid": "69fde19e-a0cd-4688-aec4-7a826763abf9",
     "showTitle": false,
     "title": ""
    }
   },
   "source": [
    "### 8. Colunas age"
   ]
  },
  {
   "cell_type": "markdown",
   "metadata": {
    "application/vnd.databricks.v1+cell": {
     "cellMetadata": {
      "byteLimit": 2048000,
      "rowLimit": 10000
     },
     "inputWidgets": {},
     "nuid": "dbe964b7-a12b-4f84-a1d4-f72e5ded9e63",
     "showTitle": false,
     "title": ""
    }
   },
   "source": [
    "Vamos agora as colunas relacionadas com a idade"
   ]
  },
  {
   "cell_type": "code",
   "execution_count": 0,
   "metadata": {
    "application/vnd.databricks.v1+cell": {
     "cellMetadata": {
      "byteLimit": 2048000,
      "rowLimit": 10000
     },
     "inputWidgets": {},
     "nuid": "9f3dbf4d-76a0-4a64-9feb-574ea65fb587",
     "showTitle": false,
     "title": ""
    }
   },
   "outputs": [],
   "source": [
    "# colunas com age:\n",
    "colunas_age = [x for x in df_demo.columns if x.startswith('age')]\n",
    "colunas_age"
   ]
  },
  {
   "cell_type": "code",
   "execution_count": 0,
   "metadata": {
    "application/vnd.databricks.v1+cell": {
     "cellMetadata": {
      "byteLimit": 2048000,
      "rowLimit": 10000
     },
     "inputWidgets": {},
     "nuid": "3832decf-1632-470f-9081-5d61cf7142b3",
     "showTitle": false,
     "title": ""
    }
   },
   "outputs": [],
   "source": [
    "df_demo.select(colunas_age).display()"
   ]
  },
  {
   "cell_type": "code",
   "execution_count": 0,
   "metadata": {
    "application/vnd.databricks.v1+cell": {
     "cellMetadata": {
      "byteLimit": 2048000,
      "rowLimit": 10000
     },
     "inputWidgets": {},
     "nuid": "891d53c3-3e11-4443-a1e6-2c6f1ccf1072",
     "showTitle": false,
     "title": ""
    }
   },
   "outputs": [],
   "source": [
    "df_demo.select('age_cod').distinct().display()"
   ]
  },
  {
   "cell_type": "markdown",
   "metadata": {
    "application/vnd.databricks.v1+cell": {
     "cellMetadata": {
      "byteLimit": 2048000,
      "rowLimit": 10000
     },
     "inputWidgets": {},
     "nuid": "8fc729d9-bcee-4d07-ac4a-8190a4c4b447",
     "showTitle": false,
     "title": ""
    }
   },
   "source": [
    "Vamos testar normalizar as idades em anos"
   ]
  },
  {
   "cell_type": "code",
   "execution_count": 0,
   "metadata": {
    "application/vnd.databricks.v1+cell": {
     "cellMetadata": {
      "byteLimit": 2048000,
      "rowLimit": 10000
     },
     "inputWidgets": {},
     "nuid": "4d8d1b44-8c25-4e08-a8b5-b09cd184231f",
     "showTitle": false,
     "title": ""
    }
   },
   "outputs": [],
   "source": [
    "from pyspark.sql.functions import round\n",
    "df_demo_age_normalized = df_demo.withColumn(\n",
    "    \"age_in_years\",\n",
    "      when(col(\"age_cod\") == \"MON\", round(col(\"age\") / 12, 2))\n",
    "      .when(col(\"age_cod\") == \"HR\", round(col(\"age\")/(24*365) , 2))\n",
    "      .when(col(\"age_cod\") == \"DY\", round(col(\"age\")/365 , 2))\n",
    "      .when(col(\"age_cod\") == \"DEC\", round(col(\"age\")*10 , 2))\n",
    "      .when(col(\"age_cod\") == \"WK\", round(col(\"age\")/52 , 2))\n",
    "      .when(col(\"age_cod\") == \"YR\", col(\"age\")).otherwise(None)\n",
    "    )"
   ]
  },
  {
   "cell_type": "code",
   "execution_count": 0,
   "metadata": {
    "application/vnd.databricks.v1+cell": {
     "cellMetadata": {
      "byteLimit": 2048000,
      "rowLimit": 10000
     },
     "inputWidgets": {},
     "nuid": "33c1d476-0ee4-4e0d-83b6-988fa8f49f7f",
     "showTitle": false,
     "title": ""
    }
   },
   "outputs": [],
   "source": [
    "df_demo_age_normalized.display()"
   ]
  },
  {
   "cell_type": "code",
   "execution_count": 0,
   "metadata": {
    "application/vnd.databricks.v1+cell": {
     "cellMetadata": {
      "byteLimit": 2048000,
      "rowLimit": 10000
     },
     "inputWidgets": {},
     "nuid": "1d94d54f-3194-4377-85c4-c5fc325e686f",
     "showTitle": false,
     "title": ""
    }
   },
   "outputs": [],
   "source": [
    "df_demo.select('age').where(col('age').isNotNull()).count()"
   ]
  },
  {
   "cell_type": "code",
   "execution_count": 0,
   "metadata": {
    "application/vnd.databricks.v1+cell": {
     "cellMetadata": {
      "byteLimit": 2048000,
      "rowLimit": 10000
     },
     "inputWidgets": {},
     "nuid": "f434fd56-a1d6-453f-ac8c-c1d5edbcb618",
     "showTitle": false,
     "title": ""
    }
   },
   "outputs": [],
   "source": [
    "df_demo.select('age_cod').where(col('age_cod').isNotNull()).count()"
   ]
  },
  {
   "cell_type": "code",
   "execution_count": 0,
   "metadata": {
    "application/vnd.databricks.v1+cell": {
     "cellMetadata": {
      "byteLimit": 2048000,
      "rowLimit": 10000
     },
     "inputWidgets": {},
     "nuid": "a96fdede-1f79-4294-8236-dbcd0efe458d",
     "showTitle": false,
     "title": ""
    }
   },
   "outputs": [],
   "source": [
    "df_demo_age_normalized.select('age','age_cod','age_in_years','age_grp').where(col('age').isNotNull()).where(col('age_cod').isNull()).display()"
   ]
  },
  {
   "cell_type": "markdown",
   "metadata": {
    "application/vnd.databricks.v1+cell": {
     "cellMetadata": {
      "byteLimit": 2048000,
      "rowLimit": 10000
     },
     "inputWidgets": {},
     "nuid": "98731198-a907-4704-95ed-2e1ffd99cff9",
     "showTitle": false,
     "title": ""
    }
   },
   "source": [
    "A normalização funcionou mas existem registos que não se verifica a existencia de age_cod. Vamos tentar corrigir alguns registos com o uso do age_grp, assim\n"
   ]
  },
  {
   "cell_type": "code",
   "execution_count": 0,
   "metadata": {
    "application/vnd.databricks.v1+cell": {
     "cellMetadata": {
      "byteLimit": 2048000,
      "rowLimit": 10000
     },
     "inputWidgets": {},
     "nuid": "c39d476a-4e5b-4a4d-981b-7175bc2a7d4e",
     "showTitle": false,
     "title": ""
    }
   },
   "outputs": [],
   "source": [
    "df_demo_age_normalized = df_demo_age_normalized.withColumn(\n",
    "    \"age_cod\",\n",
    "    when(\n",
    "        (col(\"age_grp\") == \"A\") & (col(\"age_cod\").isNull()) & (col(\"age\").isNotNull()) & (col(\"age\")>18) & (col(\"age\")<150),\n",
    "        \"YR\"\n",
    "    )\n",
    "    .when(\n",
    "        (col(\"age_grp\") == \"E\") & (col(\"age_cod\").isNull()) & (col(\"age\").isNotNull()) & (col(\"age\")>18) & (col(\"age\")<150),\n",
    "        \"YR\"\n",
    "    )\n",
    "    .when( col(\"age_cod\").isNotNull(), \n",
    "        col(\"age_cod\")\n",
    "\n",
    "    )  # Defina o valor padrão para outras condições\n",
    ")\n",
    "df_demo_age_normalized.select('age','age_cod','age_in_years','age_grp').where(col('age').isNotNull()).where(col('age_cod').isNull()).display()"
   ]
  },
  {
   "cell_type": "markdown",
   "metadata": {
    "application/vnd.databricks.v1+cell": {
     "cellMetadata": {
      "byteLimit": 2048000,
      "rowLimit": 10000
     },
     "inputWidgets": {},
     "nuid": "64a37c0b-6d5a-4583-9497-cf2fbcb97515",
     "showTitle": false,
     "title": ""
    }
   },
   "source": [
    "A transformção feita corrige a falta de age_cod para years nos casos possiveis (150<age<18 e age_grp==A|E).  \n",
    "Vamos aplicar as transformações no df_demo, primeiro corrigindo a falta de age_cod e depois criando a coluna age_in_years  "
   ]
  },
  {
   "cell_type": "code",
   "execution_count": 0,
   "metadata": {
    "application/vnd.databricks.v1+cell": {
     "cellMetadata": {
      "byteLimit": 2048000,
      "rowLimit": 10000
     },
     "inputWidgets": {},
     "nuid": "731fdf4c-4f7d-408a-8f9f-8b8b72f51872",
     "showTitle": false,
     "title": ""
    }
   },
   "outputs": [],
   "source": [
    "df_demo = df_demo.withColumn(\n",
    "    \"age_cod\",\n",
    "    when(\n",
    "        (col(\"age_grp\") == \"A\") & (col(\"age_cod\").isNull()) & (col(\"age\").isNotNull()) & (col(\"age\")>18) & (col(\"age\")<150),\n",
    "        \"YR\"\n",
    "    )\n",
    "    .when(\n",
    "        (col(\"age_grp\") == \"E\") & (col(\"age_cod\").isNull()) & (col(\"age\").isNotNull()) & (col(\"age\")>18) & (col(\"age\")<150),\n",
    "        \"YR\"\n",
    "    )\n",
    "    .when( col(\"age_cod\").isNotNull(), \n",
    "        col(\"age_cod\")\n",
    "\n",
    "    )  # Defina o valor padrão para outras condições\n",
    ")\n",
    "df_demo.select('age','age_cod','age_grp').where(col('age').isNotNull()).where(col('age_cod').isNull()).display()"
   ]
  },
  {
   "cell_type": "code",
   "execution_count": 0,
   "metadata": {
    "application/vnd.databricks.v1+cell": {
     "cellMetadata": {
      "byteLimit": 2048000,
      "rowLimit": 10000
     },
     "inputWidgets": {},
     "nuid": "ff68126e-2871-405e-bb1a-4d6f0ff1c337",
     "showTitle": false,
     "title": ""
    }
   },
   "outputs": [],
   "source": [
    "from pyspark.sql.functions import round\n",
    "df_demo = df_demo.withColumn(\n",
    "    \"age_in_years\",\n",
    "      when(col(\"age_cod\") == \"MON\", round(col(\"age\") / 12, 2))\n",
    "      .when(col(\"age_cod\") == \"HR\", round(col(\"age\")/(24*365) , 2))\n",
    "      .when(col(\"age_cod\") == \"DY\", round(col(\"age\")/365 , 2))\n",
    "      .when(col(\"age_cod\") == \"DEC\", round(col(\"age\")*10 , 2))\n",
    "      .when(col(\"age_cod\") == \"WK\", round(col(\"age\")/52 , 2))\n",
    "      .when(col(\"age_cod\") == \"YR\", col(\"age\")).otherwise(None)\n",
    "    )\n",
    "df_demo.select('age','age_cod','age_in_years','age_grp').display()"
   ]
  },
  {
   "cell_type": "markdown",
   "metadata": {
    "application/vnd.databricks.v1+cell": {
     "cellMetadata": {
      "byteLimit": 2048000,
      "rowLimit": 10000
     },
     "inputWidgets": {},
     "nuid": "946f667a-afb3-44e8-9221-2e579362ab39",
     "showTitle": false,
     "title": ""
    }
   },
   "source": [
    "Vamos agora tentar preencher os valores em falta da coluna age_grp usando a classificação da FDA  \n",
    "Neonates - from birth through the first 28 days of life  \n",
    "Infants - 29 days to less than 2 years  \n",
    "Children - 2 years to less than 12 years  \n",
    "Adolescents - aged 12 through 21  \n",
    "Adults - 21 to less than 65 years\n",
    "https://www.fda.gov/medical-devices/products-and-medical-procedures/pediatric-medical-devices"
   ]
  },
  {
   "cell_type": "code",
   "execution_count": 0,
   "metadata": {
    "application/vnd.databricks.v1+cell": {
     "cellMetadata": {
      "byteLimit": 2048000,
      "rowLimit": 10000
     },
     "inputWidgets": {},
     "nuid": "f8fa2285-0e37-4db2-b123-38bf104d0cac",
     "showTitle": false,
     "title": ""
    }
   },
   "outputs": [],
   "source": [
    "\n",
    "df_test = df_demo.withColumn(\"age_grp\",\n",
    "   when(col(\"age_grp\").isNotNull(),col(\"age_grp\")) \n",
    "    .when(col(\"age_in_years\") < (28.0/365), \"N\")\n",
    "    .when((col(\"age_in_years\") >= (28.0/365)) & (col(\"age_in_years\") < 2), \"I\")\n",
    "    .when((col(\"age_in_years\") >= 2) & (col(\"age_in_years\") < 12), \"C\")\n",
    "    .when((col(\"age_in_years\") >= 12) & (col(\"age_in_years\") < 22), \"T\")\n",
    "    .when((col(\"age_in_years\") >= 22) & (col(\"age_in_years\") < 65), \"A\")\n",
    "    .when(col(\"age_in_years\") >= 65 , \"E\")\n",
    "    \n",
    ")\n",
    "df_test.where(col('age_grp').isNull()).count()\n"
   ]
  },
  {
   "cell_type": "code",
   "execution_count": 0,
   "metadata": {
    "application/vnd.databricks.v1+cell": {
     "cellMetadata": {
      "byteLimit": 2048000,
      "rowLimit": 10000
     },
     "inputWidgets": {},
     "nuid": "9241413f-1da6-42be-a55e-1e28618a77a9",
     "showTitle": false,
     "title": ""
    }
   },
   "outputs": [],
   "source": [
    "df_demo.where(col('age_grp').isNull()).count()"
   ]
  },
  {
   "cell_type": "markdown",
   "metadata": {
    "application/vnd.databricks.v1+cell": {
     "cellMetadata": {
      "byteLimit": 2048000,
      "rowLimit": 10000
     },
     "inputWidgets": {},
     "nuid": "54d46e9f-1604-46c7-9103-ef800494e418",
     "showTitle": false,
     "title": ""
    }
   },
   "source": [
    "A transformação resultou menos nulls na coluna (1606931-861456=745475)  \n",
    "Vamos então aplicar a trasnformação"
   ]
  },
  {
   "cell_type": "code",
   "execution_count": 0,
   "metadata": {
    "application/vnd.databricks.v1+cell": {
     "cellMetadata": {
      "byteLimit": 2048000,
      "rowLimit": 10000
     },
     "inputWidgets": {},
     "nuid": "9ed30de4-9f88-43b1-a0c7-a0961f9f61c5",
     "showTitle": false,
     "title": ""
    }
   },
   "outputs": [],
   "source": [
    "df_demo = df_demo.withColumn(\"age_grp\",\n",
    "   when(col(\"age_grp\").isNotNull(),col(\"age_grp\")) \n",
    "    .when(col(\"age_in_years\") < (28.0/365), \"N\")\n",
    "    .when((col(\"age_in_years\") >= (28.0/365)) & (col(\"age_in_years\") < 2), \"I\")\n",
    "    .when((col(\"age_in_years\") >= 2) & (col(\"age_in_years\") < 12), \"C\")\n",
    "    .when((col(\"age_in_years\") >= 12) & (col(\"age_in_years\") < 22), \"T\")\n",
    "    .when((col(\"age_in_years\") >= 22) & (col(\"age_in_years\") < 65), \"A\")\n",
    "    .when(col(\"age_in_years\") >= 65 , \"E\")\n",
    "    \n",
    ")\n",
    "df_demo.select(colunas_age).display()"
   ]
  },
  {
   "cell_type": "code",
   "execution_count": 0,
   "metadata": {
    "application/vnd.databricks.v1+cell": {
     "cellMetadata": {
      "byteLimit": 2048000,
      "rowLimit": 10000
     },
     "inputWidgets": {},
     "nuid": "7edb2f4b-11b9-4363-920d-217d7b438e4a",
     "showTitle": false,
     "title": ""
    }
   },
   "outputs": [],
   "source": [
    "df_demo.select(colunas_age+['age_in_years']).display()"
   ]
  },
  {
   "cell_type": "markdown",
   "metadata": {
    "application/vnd.databricks.v1+cell": {
     "cellMetadata": {
      "byteLimit": 2048000,
      "rowLimit": 10000
     },
     "inputWidgets": {},
     "nuid": "d8cb1185-fc1b-444a-b9ff-9e3b1cd474d9",
     "showTitle": false,
     "title": ""
    }
   },
   "source": [
    "### 9. Coluna sex"
   ]
  },
  {
   "cell_type": "markdown",
   "metadata": {
    "application/vnd.databricks.v1+cell": {
     "cellMetadata": {
      "byteLimit": 2048000,
      "rowLimit": 10000
     },
     "inputWidgets": {},
     "nuid": "fc0b730d-d6c5-4847-b38f-2f48b4fe4583",
     "showTitle": false,
     "title": ""
    }
   },
   "source": [
    "concluido tratamento das colunas idade, vamos avançar para coluna sex"
   ]
  },
  {
   "cell_type": "code",
   "execution_count": 0,
   "metadata": {
    "application/vnd.databricks.v1+cell": {
     "cellMetadata": {
      "byteLimit": 2048000,
      "rowLimit": 10000
     },
     "inputWidgets": {},
     "nuid": "7b2eead5-1a64-48ec-8772-cb1198732fa3",
     "showTitle": false,
     "title": ""
    }
   },
   "outputs": [],
   "source": [
    "df_demo.select('sex').distinct().display()"
   ]
  },
  {
   "cell_type": "markdown",
   "metadata": {
    "application/vnd.databricks.v1+cell": {
     "cellMetadata": {
      "byteLimit": 2048000,
      "rowLimit": 10000
     },
     "inputWidgets": {},
     "nuid": "2aaae8fd-91d9-4075-8021-db9e6364284b",
     "showTitle": false,
     "title": ""
    }
   },
   "source": [
    "Verificamos a existencia de nulls, no contexto dado na documentação existe a classificação de unknown (UNK). Vamos corrigir então."
   ]
  },
  {
   "cell_type": "code",
   "execution_count": 0,
   "metadata": {
    "application/vnd.databricks.v1+cell": {
     "cellMetadata": {
      "byteLimit": 2048000,
      "rowLimit": 10000
     },
     "inputWidgets": {},
     "nuid": "4b904f48-eb81-4058-afdd-d62142e58884",
     "showTitle": false,
     "title": ""
    }
   },
   "outputs": [],
   "source": [
    "df_demo.groupBy('sex').count().display()"
   ]
  },
  {
   "cell_type": "code",
   "execution_count": 0,
   "metadata": {
    "application/vnd.databricks.v1+cell": {
     "cellMetadata": {
      "byteLimit": 2048000,
      "rowLimit": 10000
     },
     "inputWidgets": {},
     "nuid": "7688ee59-8689-4e4a-bbd8-ba23c3902611",
     "showTitle": false,
     "title": ""
    }
   },
   "outputs": [],
   "source": [
    "df_demo.fillna({'sex':'UNK'}).groupBy('sex').count().display()"
   ]
  },
  {
   "cell_type": "markdown",
   "metadata": {
    "application/vnd.databricks.v1+cell": {
     "cellMetadata": {
      "byteLimit": 2048000,
      "rowLimit": 10000
     },
     "inputWidgets": {},
     "nuid": "5357e30c-2ebd-4c8f-b74c-1bc4df68ef1f",
     "showTitle": false,
     "title": ""
    }
   },
   "source": [
    "A transformação funcionou por isso vamos aplicar"
   ]
  },
  {
   "cell_type": "code",
   "execution_count": 0,
   "metadata": {
    "application/vnd.databricks.v1+cell": {
     "cellMetadata": {
      "byteLimit": 2048000,
      "rowLimit": 10000
     },
     "inputWidgets": {},
     "nuid": "4297fd4d-cbdb-4bff-b977-eb148cd870d4",
     "showTitle": false,
     "title": ""
    }
   },
   "outputs": [],
   "source": [
    "df_demo = df_demo.fillna({'sex':'UNK'})\n",
    "df_demo.select('sex').display()"
   ]
  },
  {
   "cell_type": "markdown",
   "metadata": {
    "application/vnd.databricks.v1+cell": {
     "cellMetadata": {
      "byteLimit": 2048000,
      "rowLimit": 10000
     },
     "inputWidgets": {},
     "nuid": "0fe586b4-31e8-4ad2-a147-4d8b713ce2e5",
     "showTitle": false,
     "title": ""
    }
   },
   "source": [
    "### 10. Coluna e_sub"
   ]
  },
  {
   "cell_type": "markdown",
   "metadata": {
    "application/vnd.databricks.v1+cell": {
     "cellMetadata": {
      "byteLimit": 2048000,
      "rowLimit": 10000
     },
     "inputWidgets": {},
     "nuid": "4fc7b80f-de55-475e-a512-a647c5227131",
     "showTitle": false,
     "title": ""
    }
   },
   "source": [
    "Vamos agora tratar da coluna e_sub"
   ]
  },
  {
   "cell_type": "code",
   "execution_count": 0,
   "metadata": {
    "application/vnd.databricks.v1+cell": {
     "cellMetadata": {
      "byteLimit": 2048000,
      "rowLimit": 10000
     },
     "inputWidgets": {},
     "nuid": "27815976-28f5-47fe-9117-031b99ac402b",
     "showTitle": false,
     "title": ""
    }
   },
   "outputs": [],
   "source": [
    "df_demo.groupBy('e_sub').count().display()"
   ]
  },
  {
   "cell_type": "markdown",
   "metadata": {
    "application/vnd.databricks.v1+cell": {
     "cellMetadata": {
      "byteLimit": 2048000,
      "rowLimit": 10000
     },
     "inputWidgets": {},
     "nuid": "74f5f5ad-02f0-409f-8b0e-d9dc96ee00ad",
     "showTitle": false,
     "title": ""
    }
   },
   "source": [
    "Os valores estão uniformizados e como é uma coluna de sim ou não passará para booleano"
   ]
  },
  {
   "cell_type": "code",
   "execution_count": 0,
   "metadata": {
    "application/vnd.databricks.v1+cell": {
     "cellMetadata": {
      "byteLimit": 2048000,
      "rowLimit": 10000
     },
     "inputWidgets": {},
     "nuid": "70f8dde9-3488-4f93-851e-af2f13aff515",
     "showTitle": false,
     "title": ""
    }
   },
   "outputs": [],
   "source": [
    "df_demo.withColumn(\"e_sub\",when(col(\"e_sub\")=='Y',True).otherwise(False)).groupBy('e_sub').count().display()"
   ]
  },
  {
   "cell_type": "markdown",
   "metadata": {
    "application/vnd.databricks.v1+cell": {
     "cellMetadata": {
      "byteLimit": 2048000,
      "rowLimit": 10000
     },
     "inputWidgets": {},
     "nuid": "057dfe5d-c59b-417e-b65f-faabd5673942",
     "showTitle": false,
     "title": ""
    }
   },
   "source": [
    "Transformação bem sucedida. Vamos aplicar."
   ]
  },
  {
   "cell_type": "code",
   "execution_count": 0,
   "metadata": {
    "application/vnd.databricks.v1+cell": {
     "cellMetadata": {
      "byteLimit": 2048000,
      "rowLimit": 10000
     },
     "inputWidgets": {},
     "nuid": "2990327e-2817-4cfb-bc29-4f8c7957b9c8",
     "showTitle": false,
     "title": ""
    }
   },
   "outputs": [],
   "source": [
    "df_demo = df_demo.withColumn(\"e_sub\",when(col(\"e_sub\")=='Y',True).otherwise(False))\n",
    "df_demo.printSchema()"
   ]
  },
  {
   "cell_type": "markdown",
   "metadata": {
    "application/vnd.databricks.v1+cell": {
     "cellMetadata": {
      "byteLimit": 2048000,
      "rowLimit": 10000
     },
     "inputWidgets": {},
     "nuid": "25e78927-aa06-44d8-a124-1c719d358cf1",
     "showTitle": false,
     "title": ""
    }
   },
   "source": [
    "### 11. Colunas wt"
   ]
  },
  {
   "cell_type": "markdown",
   "metadata": {
    "application/vnd.databricks.v1+cell": {
     "cellMetadata": {
      "byteLimit": 2048000,
      "rowLimit": 10000
     },
     "inputWidgets": {},
     "nuid": "4f30e8f1-2c94-4d6b-871f-b7b8805de481",
     "showTitle": false,
     "title": ""
    }
   },
   "source": [
    "Vamos avançar para as colunas wt e wt_cod "
   ]
  },
  {
   "cell_type": "code",
   "execution_count": 0,
   "metadata": {
    "application/vnd.databricks.v1+cell": {
     "cellMetadata": {
      "byteLimit": 2048000,
      "rowLimit": 10000
     },
     "inputWidgets": {},
     "nuid": "cc957abb-c4cd-4072-afb9-d3856e04f6f8",
     "showTitle": false,
     "title": ""
    }
   },
   "outputs": [],
   "source": [
    "df_demo.groupBy('wt_cod').count().display()"
   ]
  },
  {
   "cell_type": "code",
   "execution_count": 0,
   "metadata": {
    "application/vnd.databricks.v1+cell": {
     "cellMetadata": {
      "byteLimit": 2048000,
      "rowLimit": 10000
     },
     "inputWidgets": {},
     "nuid": "dc6dc255-c45a-46a2-9449-c40a760d2cb8",
     "showTitle": false,
     "title": ""
    }
   },
   "outputs": [],
   "source": [
    "df_demo.where(col('wt').isNotNull()).groupBy('wt_cod').count().display()"
   ]
  },
  {
   "cell_type": "code",
   "execution_count": 0,
   "metadata": {
    "application/vnd.databricks.v1+cell": {
     "cellMetadata": {
      "byteLimit": 2048000,
      "rowLimit": 10000
     },
     "inputWidgets": {},
     "nuid": "1fd1063a-1e42-41cb-bca6-99dc6acc6e0a",
     "showTitle": false,
     "title": ""
    }
   },
   "outputs": [],
   "source": [
    "df_demo.select(['wt','wt_cod']).where((col('wt').isNotNull()) & (col('wt_cod')=='UNK')).display()"
   ]
  },
  {
   "cell_type": "markdown",
   "metadata": {
    "application/vnd.databricks.v1+cell": {
     "cellMetadata": {
      "byteLimit": 2048000,
      "rowLimit": 10000
     },
     "inputWidgets": {},
     "nuid": "05ef3942-5fa7-4262-8dd8-c1825559149e",
     "showTitle": false,
     "title": ""
    }
   },
   "source": [
    "Segundo a documentação UNK não é um valor valido vamos substituir por null. Por outro lado vamos conseguir normalizar praticamente todos o pesos disponíveis porque apenas 2 são UNK nas unidades."
   ]
  },
  {
   "cell_type": "code",
   "execution_count": 0,
   "metadata": {
    "application/vnd.databricks.v1+cell": {
     "cellMetadata": {
      "byteLimit": 2048000,
      "rowLimit": 10000
     },
     "inputWidgets": {},
     "nuid": "2e4a9989-41d1-4164-96bf-720964008622",
     "showTitle": false,
     "title": ""
    }
   },
   "outputs": [],
   "source": [
    "df_demo.withColumn(\"wt_cod\", when(col(\"wt_cod\") == \"UNK\", None).otherwise(col(\"wt_cod\"))).groupBy('wt_cod').count().display()"
   ]
  },
  {
   "cell_type": "markdown",
   "metadata": {
    "application/vnd.databricks.v1+cell": {
     "cellMetadata": {
      "byteLimit": 2048000,
      "rowLimit": 10000
     },
     "inputWidgets": {},
     "nuid": "80998af7-25d1-4227-b63f-328b8ff4abf4",
     "showTitle": false,
     "title": ""
    }
   },
   "source": [
    "Vamos aplicar a trasformação."
   ]
  },
  {
   "cell_type": "code",
   "execution_count": 0,
   "metadata": {
    "application/vnd.databricks.v1+cell": {
     "cellMetadata": {
      "byteLimit": 2048000,
      "rowLimit": 10000
     },
     "inputWidgets": {},
     "nuid": "36c8fee7-2d68-4e94-8b75-d97c22eda576",
     "showTitle": false,
     "title": ""
    }
   },
   "outputs": [],
   "source": [
    "df_demo = df_demo.withColumn(\"wt_cod\", when(col(\"wt_cod\") == \"UNK\", None).otherwise(col(\"wt_cod\")))"
   ]
  },
  {
   "cell_type": "markdown",
   "metadata": {
    "application/vnd.databricks.v1+cell": {
     "cellMetadata": {
      "byteLimit": 2048000,
      "rowLimit": 10000
     },
     "inputWidgets": {},
     "nuid": "2e175444-6c3c-4130-b9cf-9d00c57b85b5",
     "showTitle": false,
     "title": ""
    }
   },
   "source": [
    "Vamos agora normalizar os pesos em kgs"
   ]
  },
  {
   "cell_type": "code",
   "execution_count": 0,
   "metadata": {
    "application/vnd.databricks.v1+cell": {
     "cellMetadata": {
      "byteLimit": 2048000,
      "rowLimit": 10000
     },
     "inputWidgets": {},
     "nuid": "06e1e893-a5ff-4938-a518-35484eda6f54",
     "showTitle": false,
     "title": ""
    }
   },
   "outputs": [],
   "source": [
    "from pyspark.sql.functions import round\n",
    "df_demo.withColumn(\n",
    "    \"wt_in_kg\",\n",
    "      when(col(\"wt_cod\") == \"KG\", round(col(\"wt\"), 3))\n",
    "      .when(col(\"wt_cod\") == \"LBS\", round(col(\"wt\")/2.2046 , 3))\n",
    "      .when(col(\"wt_cod\") == \"GMS\", round(col(\"wt\")/1000 , 3)).otherwise(None)\n",
    "    ).select(['wt','wt_cod','wt_in_kg']).where(col('wt_cod') =='LBS').display()"
   ]
  },
  {
   "cell_type": "markdown",
   "metadata": {
    "application/vnd.databricks.v1+cell": {
     "cellMetadata": {
      "byteLimit": 2048000,
      "rowLimit": 10000
     },
     "inputWidgets": {},
     "nuid": "26e46da5-6b4e-4526-a972-ad0c7684e1f4",
     "showTitle": false,
     "title": ""
    }
   },
   "source": [
    "Verifica-se uma boa conversão. vamos aplicar."
   ]
  },
  {
   "cell_type": "code",
   "execution_count": 0,
   "metadata": {
    "application/vnd.databricks.v1+cell": {
     "cellMetadata": {
      "byteLimit": 2048000,
      "rowLimit": 10000
     },
     "inputWidgets": {},
     "nuid": "568ac0d5-8e4a-49f8-aa0b-04b1c93d2168",
     "showTitle": false,
     "title": ""
    }
   },
   "outputs": [],
   "source": [
    "df_demo = df_demo.withColumn(\n",
    "    \"wt_in_kg\",\n",
    "      when(col(\"wt_cod\") == \"KG\", round(col(\"wt\"), 3))\n",
    "      .when(col(\"wt_cod\") == \"LBS\", round(col(\"wt\")/2.2046 , 3))\n",
    "      .when(col(\"wt_cod\") == \"GMS\", round(col(\"wt\")/1000 , 3)).otherwise(None)\n",
    "    )"
   ]
  },
  {
   "cell_type": "markdown",
   "metadata": {
    "application/vnd.databricks.v1+cell": {
     "cellMetadata": {
      "byteLimit": 2048000,
      "rowLimit": 10000
     },
     "inputWidgets": {},
     "nuid": "8381a8f4-88ff-4de5-9cbd-28ce3e5ae99e",
     "showTitle": false,
     "title": ""
    }
   },
   "source": [
    "### 12. Coluna to_mfr"
   ]
  },
  {
   "cell_type": "markdown",
   "metadata": {
    "application/vnd.databricks.v1+cell": {
     "cellMetadata": {
      "byteLimit": 2048000,
      "rowLimit": 10000
     },
     "inputWidgets": {},
     "nuid": "86876b0e-2af5-46ec-a865-5916b12cf7e1",
     "showTitle": false,
     "title": ""
    }
   },
   "source": [
    "avançamos agora para a coluna to_mfr"
   ]
  },
  {
   "cell_type": "code",
   "execution_count": 0,
   "metadata": {
    "application/vnd.databricks.v1+cell": {
     "cellMetadata": {
      "byteLimit": 2048000,
      "rowLimit": 10000
     },
     "inputWidgets": {},
     "nuid": "e234b008-83b3-497d-a805-d7f66184ca75",
     "showTitle": false,
     "title": ""
    }
   },
   "outputs": [],
   "source": [
    "df_demo.groupBy('to_mfr').count().display()"
   ]
  },
  {
   "cell_type": "markdown",
   "metadata": {
    "application/vnd.databricks.v1+cell": {
     "cellMetadata": {
      "byteLimit": 2048000,
      "rowLimit": 10000
     },
     "inputWidgets": {},
     "nuid": "7affa485-044a-4fa7-9c54-d660a1d7f9f5",
     "showTitle": false,
     "title": ""
    }
   },
   "source": [
    "Segundo a documentação UNK não é o valor valido por isso vamos substituir por null e transformar a coluna em booleano uma vez que é outro campo sim ou não"
   ]
  },
  {
   "cell_type": "code",
   "execution_count": 0,
   "metadata": {
    "application/vnd.databricks.v1+cell": {
     "cellMetadata": {
      "byteLimit": 2048000,
      "rowLimit": 10000
     },
     "inputWidgets": {},
     "nuid": "4471d451-dda2-466b-a6a5-e5e644aa4cdd",
     "showTitle": false,
     "title": ""
    }
   },
   "outputs": [],
   "source": [
    "df_demo.withColumn(\"to_mfr\", when(col(\"to_mfr\") == \"UNK\", None).otherwise(col(\"to_mfr\"))).groupBy('to_mfr').count().display()"
   ]
  },
  {
   "cell_type": "code",
   "execution_count": 0,
   "metadata": {
    "application/vnd.databricks.v1+cell": {
     "cellMetadata": {
      "byteLimit": 2048000,
      "rowLimit": 10000
     },
     "inputWidgets": {},
     "nuid": "b97bfa38-5d70-4359-952d-534fab7490be",
     "showTitle": false,
     "title": ""
    }
   },
   "outputs": [],
   "source": [
    "df_demo.withColumn(\"to_mfr\",when(col(\"to_mfr\")=='Y',True).when(col(\"to_mfr\")=='N',False).otherwise(None)).groupBy('to_mfr').count().display()"
   ]
  },
  {
   "cell_type": "markdown",
   "metadata": {
    "application/vnd.databricks.v1+cell": {
     "cellMetadata": {
      "byteLimit": 2048000,
      "rowLimit": 10000
     },
     "inputWidgets": {},
     "nuid": "38dacc46-c96e-4677-82bd-5194c4a40463",
     "showTitle": false,
     "title": ""
    }
   },
   "source": [
    "Vamos agora aplicar a ultima que transforma tudo como queremos"
   ]
  },
  {
   "cell_type": "code",
   "execution_count": 0,
   "metadata": {
    "application/vnd.databricks.v1+cell": {
     "cellMetadata": {
      "byteLimit": 2048000,
      "rowLimit": 10000
     },
     "inputWidgets": {},
     "nuid": "22a26551-7c72-4613-8dd6-d03cf2803218",
     "showTitle": false,
     "title": ""
    }
   },
   "outputs": [],
   "source": [
    "df_demo = df_demo.withColumn(\"to_mfr\",when(col(\"to_mfr\")=='Y',True).when(col(\"to_mfr\")=='N',False).otherwise(None))"
   ]
  },
  {
   "cell_type": "markdown",
   "metadata": {
    "application/vnd.databricks.v1+cell": {
     "cellMetadata": {
      "byteLimit": 2048000,
      "rowLimit": 10000
     },
     "inputWidgets": {},
     "nuid": "58d6ece5-52c3-4ee2-ab41-c104fb8678fd",
     "showTitle": false,
     "title": ""
    }
   },
   "source": [
    "### 13. Coluna occp_cod"
   ]
  },
  {
   "cell_type": "markdown",
   "metadata": {
    "application/vnd.databricks.v1+cell": {
     "cellMetadata": {
      "byteLimit": 2048000,
      "rowLimit": 10000
     },
     "inputWidgets": {},
     "nuid": "88ddcad3-e021-4211-a521-68c891ea1dea",
     "showTitle": false,
     "title": ""
    }
   },
   "source": [
    "Vamos agora tratar a coluna occp_cod"
   ]
  },
  {
   "cell_type": "code",
   "execution_count": 0,
   "metadata": {
    "application/vnd.databricks.v1+cell": {
     "cellMetadata": {
      "byteLimit": 2048000,
      "rowLimit": 10000
     },
     "inputWidgets": {},
     "nuid": "2fd71a74-84f3-47ef-9413-74cec5420601",
     "showTitle": false,
     "title": ""
    }
   },
   "outputs": [],
   "source": [
    "df_demo.groupBy('occp_cod').count().display()"
   ]
  },
  {
   "cell_type": "markdown",
   "metadata": {
    "application/vnd.databricks.v1+cell": {
     "cellMetadata": {
      "byteLimit": 2048000,
      "rowLimit": 10000
     },
     "inputWidgets": {},
     "nuid": "3c4b2ff1-e898-49de-8896-792b79c03eaf",
     "showTitle": false,
     "title": ""
    }
   },
   "source": [
    "Mais uma vez UNK não é um valor presente na documentação por isso será substituido por null"
   ]
  },
  {
   "cell_type": "code",
   "execution_count": 0,
   "metadata": {
    "application/vnd.databricks.v1+cell": {
     "cellMetadata": {
      "byteLimit": 2048000,
      "rowLimit": 10000
     },
     "inputWidgets": {},
     "nuid": "bc3d7ad2-eefe-4c3e-b5b8-cea3d48bab31",
     "showTitle": false,
     "title": ""
    }
   },
   "outputs": [],
   "source": [
    "df_demo.withColumn(\"occp_cod\", when(col(\"occp_cod\") == \"UNK\", None).otherwise(col(\"occp_cod\"))).groupBy('occp_cod').count().display()"
   ]
  },
  {
   "cell_type": "markdown",
   "metadata": {
    "application/vnd.databricks.v1+cell": {
     "cellMetadata": {
      "byteLimit": 2048000,
      "rowLimit": 10000
     },
     "inputWidgets": {},
     "nuid": "3c719497-80cf-4a54-87ec-0f42fc0cfd6d",
     "showTitle": false,
     "title": ""
    }
   },
   "source": [
    "Após validação vamos aplicar"
   ]
  },
  {
   "cell_type": "code",
   "execution_count": 0,
   "metadata": {
    "application/vnd.databricks.v1+cell": {
     "cellMetadata": {
      "byteLimit": 2048000,
      "rowLimit": 10000
     },
     "inputWidgets": {},
     "nuid": "f312d99e-6109-4840-a1e8-00afdf4d170a",
     "showTitle": false,
     "title": ""
    }
   },
   "outputs": [],
   "source": [
    "df_demo = df_demo.withColumn(\"occp_cod\", when(col(\"occp_cod\") == \"UNK\", None).otherwise(col(\"occp_cod\")))"
   ]
  },
  {
   "cell_type": "markdown",
   "metadata": {
    "application/vnd.databricks.v1+cell": {
     "cellMetadata": {
      "byteLimit": 2048000,
      "rowLimit": 10000
     },
     "inputWidgets": {},
     "nuid": "e13217a0-d3e8-41a1-9063-b315dd0764ef",
     "showTitle": false,
     "title": ""
    }
   },
   "source": [
    "Vamos agora criar uma coluna occp_text para ser mais facil a leitura"
   ]
  },
  {
   "cell_type": "code",
   "execution_count": 0,
   "metadata": {
    "application/vnd.databricks.v1+cell": {
     "cellMetadata": {
      "byteLimit": 2048000,
      "rowLimit": 10000
     },
     "inputWidgets": {},
     "nuid": "b536fbf7-62c2-4977-bd05-c786c5347864",
     "showTitle": false,
     "title": ""
    }
   },
   "outputs": [],
   "source": [
    "# Criar DataFrame de mapeamento de códigos para descrição das fontes\n",
    "mapping_data = [\n",
    "    (\"MD\", \"Physician\"),\n",
    "    (\"PH\", \"Pharmacist\"),\n",
    "    (\"OT\", \"Other health-professional\"),\n",
    "    (\"LW\", \"Lawyer\"),\n",
    "    (\"CN\", \"Consumer\")\n",
    "]\n",
    "mapping_columns = [\"occp_cod\", \"occp_txt\"]\n",
    "df_mapping = spark.createDataFrame(mapping_data, mapping_columns)\n",
    "\n",
    "# Join entre df_rept_cod e o DataFrame de mapeamento\n",
    "df_demo_test = df_demo.join(df_mapping, on=\"occp_cod\", how=\"left\")\n",
    "df_demo_test.select(['occp_cod','occp_txt']).distinct().display()\n"
   ]
  },
  {
   "cell_type": "markdown",
   "metadata": {
    "application/vnd.databricks.v1+cell": {
     "cellMetadata": {
      "byteLimit": 2048000,
      "rowLimit": 10000
     },
     "inputWidgets": {},
     "nuid": "ab4b48e8-c2c9-4e58-9e84-4dd8d4e9a42e",
     "showTitle": false,
     "title": ""
    }
   },
   "source": [
    "Criação da coluna resulta. vamos criar então para o df_demo"
   ]
  },
  {
   "cell_type": "code",
   "execution_count": 0,
   "metadata": {
    "application/vnd.databricks.v1+cell": {
     "cellMetadata": {
      "byteLimit": 2048000,
      "rowLimit": 10000
     },
     "inputWidgets": {},
     "nuid": "c06400c1-0043-4ad2-a3fd-894dfe1316b0",
     "showTitle": false,
     "title": ""
    }
   },
   "outputs": [],
   "source": [
    "mapping_data = [\n",
    "    (\"MD\", \"Physician\"),\n",
    "    (\"PH\", \"Pharmacist\"),\n",
    "    (\"OT\", \"Other health-professional\"),\n",
    "    (\"LW\", \"Lawyer\"),\n",
    "    (\"CN\", \"Consumer\")\n",
    "]\n",
    "mapping_columns = [\"occp_cod\", \"occp_txt\"]\n",
    "df_mapping = spark.createDataFrame(mapping_data, mapping_columns)\n",
    "\n",
    "# Join entre df_rept_cod e o DataFrame de mapeamento\n",
    "df_demo = df_demo.join(df_mapping, on=\"occp_cod\", how=\"left\")"
   ]
  },
  {
   "cell_type": "markdown",
   "metadata": {
    "application/vnd.databricks.v1+cell": {
     "cellMetadata": {
      "byteLimit": 2048000,
      "rowLimit": 10000
     },
     "inputWidgets": {},
     "nuid": "15eac792-297d-4067-bb64-8d0392f65912",
     "showTitle": false,
     "title": ""
    }
   },
   "source": [
    "### 14. Colunas country"
   ]
  },
  {
   "cell_type": "markdown",
   "metadata": {
    "application/vnd.databricks.v1+cell": {
     "cellMetadata": {
      "byteLimit": 2048000,
      "rowLimit": 10000
     },
     "inputWidgets": {},
     "nuid": "d4575238-4215-4f1e-b6ca-700621cca065",
     "showTitle": false,
     "title": ""
    }
   },
   "source": [
    "Vamos agora analisar as colunas relativas aos países\n"
   ]
  },
  {
   "cell_type": "code",
   "execution_count": 0,
   "metadata": {
    "application/vnd.databricks.v1+cell": {
     "cellMetadata": {
      "byteLimit": 2048000,
      "rowLimit": 10000
     },
     "inputWidgets": {},
     "nuid": "85d765d7-aa6c-4460-a543-0bc5de249bad",
     "showTitle": false,
     "title": ""
    }
   },
   "outputs": [],
   "source": [
    "df_demo.groupBy('reporter_country').count().display()\n",
    "df_demo.groupBy('occr_country').count().display()"
   ]
  },
  {
   "cell_type": "code",
   "execution_count": 0,
   "metadata": {
    "application/vnd.databricks.v1+cell": {
     "cellMetadata": {
      "byteLimit": 2048000,
      "rowLimit": 10000
     },
     "inputWidgets": {},
     "nuid": "6002c16f-1bfb-4af6-8df4-a96688d7253f",
     "showTitle": false,
     "title": ""
    }
   },
   "outputs": [],
   "source": [
    "df_demo.limit(1000).display()\n"
   ]
  },
  {
   "cell_type": "code",
   "execution_count": 0,
   "metadata": {
    "application/vnd.databricks.v1+cell": {
     "cellMetadata": {
      "byteLimit": 2048000,
      "rowLimit": 10000
     },
     "inputWidgets": {},
     "nuid": "042856f8-f045-4c10-b15d-a675656b26b8",
     "showTitle": false,
     "title": ""
    }
   },
   "outputs": [],
   "source": [
    "df_countries = spark.read.csv(\"dbfs:/FileStore/NCIt_GENC_Terminology.txt\", header=True, inferSchema=True, sep='\\t')\n",
    "df_countries.display()"
   ]
  },
  {
   "cell_type": "code",
   "execution_count": 0,
   "metadata": {
    "application/vnd.databricks.v1+cell": {
     "cellMetadata": {
      "byteLimit": 2048000,
      "rowLimit": 10000
     },
     "inputWidgets": {},
     "nuid": "e202b6c0-be51-42e8-93a1-a2daf911d2ec",
     "showTitle": false,
     "title": ""
    }
   },
   "outputs": [],
   "source": [
    "df_countries.select(['GENC 2 Letter Code','GENC Name (FDA Standard)']).dropna().display()"
   ]
  },
  {
   "cell_type": "code",
   "execution_count": 0,
   "metadata": {
    "application/vnd.databricks.v1+cell": {
     "cellMetadata": {
      "byteLimit": 2048000,
      "rowLimit": 10000
     },
     "inputWidgets": {},
     "nuid": "3c5b5717-ee2c-4eb2-a4a7-dfafdb09b11f",
     "showTitle": false,
     "title": ""
    }
   },
   "outputs": [],
   "source": [
    "df_countries = df_countries.select(['GENC 2 Letter Code','GENC Name (FDA Standard)']).dropna().withColumnsRenamed({'GENC 2 Letter Code':'reporter_country','GENC Name (FDA Standard)':'reporter_country_text'})\n"
   ]
  },
  {
   "cell_type": "code",
   "execution_count": 0,
   "metadata": {
    "application/vnd.databricks.v1+cell": {
     "cellMetadata": {
      "byteLimit": 2048000,
      "rowLimit": 10000
     },
     "inputWidgets": {},
     "nuid": "0698eda1-bdd2-4b1f-9f61-8a334715dc95",
     "showTitle": false,
     "title": ""
    }
   },
   "outputs": [],
   "source": [
    "df_countries.display()"
   ]
  },
  {
   "cell_type": "code",
   "execution_count": 0,
   "metadata": {
    "application/vnd.databricks.v1+cell": {
     "cellMetadata": {
      "byteLimit": 2048000,
      "rowLimit": 10000
     },
     "inputWidgets": {},
     "nuid": "11b4316f-9aad-4f54-b4ab-adf595b25afc",
     "showTitle": false,
     "title": ""
    }
   },
   "outputs": [],
   "source": [
    "df_demo_test = df_demo.join(df_countries, on=\"reporter_country\", how=\"left\")"
   ]
  },
  {
   "cell_type": "code",
   "execution_count": 0,
   "metadata": {
    "application/vnd.databricks.v1+cell": {
     "cellMetadata": {
      "byteLimit": 2048000,
      "rowLimit": 10000
     },
     "inputWidgets": {},
     "nuid": "da67b813-4d68-4e38-9199-4054140290b6",
     "showTitle": false,
     "title": ""
    }
   },
   "outputs": [],
   "source": [
    "df_demo_test.select(['reporter_country','reporter_country_text']).distinct().limit(1000).display()"
   ]
  },
  {
   "cell_type": "markdown",
   "metadata": {
    "application/vnd.databricks.v1+cell": {
     "cellMetadata": {
      "byteLimit": 2048000,
      "rowLimit": 10000
     },
     "inputWidgets": {},
     "nuid": "753a8780-dcac-434d-b722-2521033e4a0f",
     "showTitle": false,
     "title": ""
    }
   },
   "source": [
    "os nulls e UNKs desaparecem por isso temos de adicionar no df_countries. Segundo a documentação os nulls devem ser 'Country not specified', por isso vamos substituir no df_demo os nulls e UNKs por 'Country not specified' e adicionar esse valor ao df_countries."
   ]
  },
  {
   "cell_type": "code",
   "execution_count": 0,
   "metadata": {
    "application/vnd.databricks.v1+cell": {
     "cellMetadata": {
      "byteLimit": 2048000,
      "rowLimit": 10000
     },
     "inputWidgets": {},
     "nuid": "44d5922a-f758-43f0-a6fb-74b1b575104c",
     "showTitle": false,
     "title": ""
    }
   },
   "outputs": [],
   "source": [
    "df_demo.withColumn(\"reporter_country\", when(length(col(\"reporter_country\")) != 2, 'Country not specified').otherwise(col(\"reporter_country\"))).fillna('Country not specified').select([\"reporter_country\"]).distinct().display()"
   ]
  },
  {
   "cell_type": "markdown",
   "metadata": {
    "application/vnd.databricks.v1+cell": {
     "cellMetadata": {
      "byteLimit": 2048000,
      "rowLimit": 10000
     },
     "inputWidgets": {},
     "nuid": "781ae7e0-104c-4409-8444-ad58e155551e",
     "showTitle": false,
     "title": ""
    }
   },
   "source": [
    "Funciona, vamos aplicar nas duas colunas de countries a substituição"
   ]
  },
  {
   "cell_type": "code",
   "execution_count": 0,
   "metadata": {
    "application/vnd.databricks.v1+cell": {
     "cellMetadata": {
      "byteLimit": 2048000,
      "rowLimit": 10000
     },
     "inputWidgets": {},
     "nuid": "08ac8a17-81ac-4145-9d19-a46bee3df304",
     "showTitle": false,
     "title": ""
    }
   },
   "outputs": [],
   "source": [
    "df_demo = df_demo.withColumn(\"reporter_country\", when(length(col(\"reporter_country\")) != 2, 'Country not specified').otherwise(col(\"reporter_country\"))).fillna({'reporter_country': 'Country not specified'})\n",
    "df_demo = df_demo.withColumn(\"occr_country\", when(length(col(\"occr_country\")) != 2, 'Country not specified').otherwise(col(\"occr_country\"))).fillna({'occr_country': 'Country not specified'})\n",
    "\n",
    "df_demo.groupBy('reporter_country').count().display()\n",
    "df_demo.groupBy('occr_country').count().display()"
   ]
  },
  {
   "cell_type": "markdown",
   "metadata": {
    "application/vnd.databricks.v1+cell": {
     "cellMetadata": {
      "byteLimit": 2048000,
      "rowLimit": 10000
     },
     "inputWidgets": {},
     "nuid": "676ef3b3-ba7b-4d88-ac21-ff5ec4429bef",
     "showTitle": false,
     "title": ""
    }
   },
   "source": [
    "agora para criar as colunas de texto ainda precisamos de adicionar a linha 'Country not specified' ao df_countries"
   ]
  },
  {
   "cell_type": "code",
   "execution_count": 0,
   "metadata": {
    "application/vnd.databricks.v1+cell": {
     "cellMetadata": {
      "byteLimit": 2048000,
      "rowLimit": 10000
     },
     "inputWidgets": {},
     "nuid": "89078c22-3100-48c6-a6ff-83cd29fb8e5d",
     "showTitle": false,
     "title": ""
    }
   },
   "outputs": [],
   "source": [
    "new_rows = [('Country not specified', 'Country not specified')]\n",
    "new_df = spark.createDataFrame(new_rows, ['reporter_country','reporter_country_text'])\n",
    "df_countries = df_countries.union(new_df)"
   ]
  },
  {
   "cell_type": "code",
   "execution_count": 0,
   "metadata": {
    "application/vnd.databricks.v1+cell": {
     "cellMetadata": {
      "byteLimit": 2048000,
      "rowLimit": 10000
     },
     "inputWidgets": {},
     "nuid": "6adb0bf6-b8d8-42a5-b2f6-ae08a8f21572",
     "showTitle": false,
     "title": ""
    }
   },
   "outputs": [],
   "source": [
    "df_countries.display()"
   ]
  },
  {
   "cell_type": "markdown",
   "metadata": {
    "application/vnd.databricks.v1+cell": {
     "cellMetadata": {
      "byteLimit": 2048000,
      "rowLimit": 10000
     },
     "inputWidgets": {},
     "nuid": "989da1a8-8227-454f-8b30-8b91b33c50b7",
     "showTitle": false,
     "title": ""
    }
   },
   "source": [
    "resumo de como criar o df_countries para criar a coluna reporter_country_text. Para fazer na occr_country é necessário mudar os nomes das colunas"
   ]
  },
  {
   "cell_type": "code",
   "execution_count": 0,
   "metadata": {
    "application/vnd.databricks.v1+cell": {
     "cellMetadata": {
      "byteLimit": 2048000,
      "rowLimit": 10000
     },
     "inputWidgets": {},
     "nuid": "3e73876c-821a-4beb-80f9-f3b49d4d46d6",
     "showTitle": false,
     "title": ""
    }
   },
   "outputs": [],
   "source": [
    "df_countries = spark.read.csv(\"dbfs:/FileStore/NCIt_GENC_Terminology.txt\", header=True, inferSchema=True, sep='\\t').select(['GENC 2 Letter Code','GENC Name (FDA Standard)']).dropna().withColumnsRenamed({'GENC 2 Letter Code':'reporter_country','GENC Name (FDA Standard)':'reporter_country_text'})\n",
    "new_rows = [('Country not specified', 'Country not specified')]\n",
    "new_df = spark.createDataFrame(new_rows, ['reporter_country','reporter_country_text'])\n",
    "df_countries = df_countries.union(new_df)\n",
    "df_countries.display()"
   ]
  },
  {
   "cell_type": "code",
   "execution_count": 0,
   "metadata": {
    "application/vnd.databricks.v1+cell": {
     "cellMetadata": {
      "byteLimit": 2048000,
      "rowLimit": 10000
     },
     "inputWidgets": {},
     "nuid": "ceacd3c3-3a54-4368-bb2b-90ddaf1d0209",
     "showTitle": false,
     "title": ""
    }
   },
   "outputs": [],
   "source": [
    "# teste com reporter country\n",
    "df_demo.join(df_countries, on=\"reporter_country\", how=\"left\").select([\"reporter_country\",\"reporter_country_text\"]).distinct().display()"
   ]
  },
  {
   "cell_type": "markdown",
   "metadata": {
    "application/vnd.databricks.v1+cell": {
     "cellMetadata": {
      "byteLimit": 2048000,
      "rowLimit": 10000
     },
     "inputWidgets": {},
     "nuid": "0fdb522c-0ada-4124-bc83-2bc415473697",
     "showTitle": false,
     "title": ""
    }
   },
   "source": [
    "Vamos aplicar então"
   ]
  },
  {
   "cell_type": "code",
   "execution_count": 0,
   "metadata": {
    "application/vnd.databricks.v1+cell": {
     "cellMetadata": {
      "byteLimit": 2048000,
      "rowLimit": 10000
     },
     "inputWidgets": {},
     "nuid": "e7cf0082-a565-40f1-aebd-e2141b2b1789",
     "showTitle": false,
     "title": ""
    }
   },
   "outputs": [],
   "source": [
    "df_demo = df_demo.join(df_countries, on=\"reporter_country\", how=\"left\")"
   ]
  },
  {
   "cell_type": "markdown",
   "metadata": {
    "application/vnd.databricks.v1+cell": {
     "cellMetadata": {
      "byteLimit": 2048000,
      "rowLimit": 10000
     },
     "inputWidgets": {},
     "nuid": "34ceb238-61fc-4196-b36f-2e8a75012edd",
     "showTitle": false,
     "title": ""
    }
   },
   "source": [
    "Avançando para a occr_country"
   ]
  },
  {
   "cell_type": "code",
   "execution_count": 0,
   "metadata": {
    "application/vnd.databricks.v1+cell": {
     "cellMetadata": {
      "byteLimit": 2048000,
      "rowLimit": 10000
     },
     "inputWidgets": {},
     "nuid": "edc1d00c-fa4a-4548-9a9f-5d2e1dcc6d62",
     "showTitle": false,
     "title": ""
    }
   },
   "outputs": [],
   "source": [
    "df_demo.join(df_countries.withColumnsRenamed({'reporter_country':'occr_country','reporter_country_text':'occr_country_text'}), on=\"occr_country\", how=\"left\").select(['occr_country','occr_country_text']).distinct().display()"
   ]
  },
  {
   "cell_type": "markdown",
   "metadata": {
    "application/vnd.databricks.v1+cell": {
     "cellMetadata": {
      "byteLimit": 2048000,
      "rowLimit": 10000
     },
     "inputWidgets": {},
     "nuid": "8496d1e7-a0bc-4a3d-8728-1bbd9e28cfe6",
     "showTitle": false,
     "title": ""
    }
   },
   "source": [
    "Funciona. Vamos aplicar"
   ]
  },
  {
   "cell_type": "code",
   "execution_count": 0,
   "metadata": {
    "application/vnd.databricks.v1+cell": {
     "cellMetadata": {
      "byteLimit": 2048000,
      "rowLimit": 10000
     },
     "inputWidgets": {},
     "nuid": "a4bb516a-c82d-4ced-a017-3199996528c1",
     "showTitle": false,
     "title": ""
    }
   },
   "outputs": [],
   "source": [
    "df_demo = df_demo.join(df_countries.withColumnsRenamed({'reporter_country':'occr_country','reporter_country_text':'occr_country_text'}), on=\"occr_country\", how=\"left\")"
   ]
  },
  {
   "cell_type": "markdown",
   "metadata": {
    "application/vnd.databricks.v1+cell": {
     "cellMetadata": {
      "byteLimit": 2048000,
      "rowLimit": 10000
     },
     "inputWidgets": {},
     "nuid": "d2b1f6dc-f035-40ee-bd8e-04d3ec692244",
     "showTitle": false,
     "title": ""
    }
   },
   "source": [
    "Transformações concluidas"
   ]
  },
  {
   "cell_type": "code",
   "execution_count": 0,
   "metadata": {
    "application/vnd.databricks.v1+cell": {
     "cellMetadata": {
      "byteLimit": 2048000,
      "rowLimit": 10000
     },
     "inputWidgets": {},
     "nuid": "0e8388ef-4c9c-4288-bed6-d3ea7831fb71",
     "showTitle": false,
     "title": ""
    }
   },
   "outputs": [],
   "source": [
    "df_demo.display(1000)"
   ]
  },
  {
   "cell_type": "markdown",
   "metadata": {
    "application/vnd.databricks.v1+cell": {
     "cellMetadata": {
      "byteLimit": 2048000,
      "rowLimit": 10000
     },
     "inputWidgets": {},
     "nuid": "cc24c077-9e86-4f46-bea8-9e50062a2bc8",
     "showTitle": false,
     "title": ""
    }
   },
   "source": [
    "Vamos agora então fazer o schema\n"
   ]
  },
  {
   "cell_type": "markdown",
   "metadata": {
    "application/vnd.databricks.v1+cell": {
     "cellMetadata": {
      "byteLimit": 2048000,
      "rowLimit": 10000
     },
     "inputWidgets": {},
     "nuid": "f03a41f4-bc77-415c-b221-c3428e774bd3",
     "showTitle": false,
     "title": ""
    }
   },
   "source": [
    "## 3. Elaboração do Schema de Leitura"
   ]
  },
  {
   "cell_type": "code",
   "execution_count": 0,
   "metadata": {
    "application/vnd.databricks.v1+cell": {
     "cellMetadata": {
      "byteLimit": 2048000,
      "rowLimit": 10000
     },
     "inputWidgets": {},
     "nuid": "9ad55164-e71c-40c7-b574-643b888bda4c",
     "showTitle": false,
     "title": ""
    }
   },
   "outputs": [],
   "source": [
    "from pyspark.sql.types import *\n",
    "schema_demo = StructType ([\n",
    "  StructField('primaryid',LongType(),False,{'description':'Unique number for identifying a FAERS report'}),\n",
    "  StructField('caseid',LongType(),False,{'description':'Number for identifying a FAERS case.'}),\n",
    "  StructField('caseversion',IntegerType(),False,{'description':'Safety Report Version Number'}),\n",
    "  StructField('i_f_code',StringType(),False,{'description':'Code for initial or follow-up status of report, as reported by manufacturer.'}),\n",
    "  StructField('event_dt',IntegerType(),True,{'description':'Date the adverse event occurred or began'}),\n",
    "  StructField('mfr_dt',IntegerType(),True,{'description':'Date manufacturer first received initial information'}),\n",
    "  StructField('init_fda_dt',IntegerType(),True,{'description':'Date FDA received first version (Initial) of Case'}),\n",
    "  StructField('fda_dt',IntegerType(),True,{'description':'Date FDA received Case'}),\n",
    "  StructField('rept_cod',StringType(),False,{'description':'Code for the type of report submitted'}), \n",
    "  StructField('auth_num',StringType(),True,{'description':'Regulatory Authority’s case report number'}),\n",
    "  StructField('mfr_num',StringType(),True,{'description':'Manufacturer’s unique report identifier'}),\n",
    "  StructField('mfr_sndr',StringType(),False,{'description':'Coded name of manufacturer sending report'}),\n",
    "  StructField('lit_ref',StringType(),True,{'description':'Literature Reference information'}),\n",
    "  StructField('age',IntegerType(),True,{'description':'Numeric value of patient’s age at event.'}),\n",
    "  StructField('age_cod',StringType(),True,{'description':'Unit abbreviation for patient’s age'}),\n",
    "  StructField('age_grp',StringType(),True,{'description':'Patient Age Group code'}),\n",
    "  StructField('sex',StringType(),True,{'description':'Code for patient’s sex'}),\n",
    "  StructField('e_sub',StringType(),False,{'description':'Whether this report was submitted under the electronic submissions procedure for manufacturers'}),\n",
    "  StructField('wt',DoubleType(),True,{'description':'Numeric value of patient’s weight.'}),\n",
    "  StructField('wt_cod',StringType(),True,{'description':'Unit abbreviation for patient’s weight'}),\n",
    "  StructField('rept_dt',IntegerType(),True,{'description':'Date report was sent'}),\n",
    "  StructField('to_mfr',StringType(),True,{'description':'Whether voluntary reporter also notified manufacturer'}),\n",
    "  StructField('occp_cod',StringType(),True,{'description':'Abbreviation for the reporter’s type of occupation in the latest version of a case.'}),\n",
    "  StructField('reporter_country',StringType(),True, {'description': \"Reporter Country Code\"}),\n",
    "  StructField('occr_country',StringType(),True,{'description':'The country where the event occurred.'}),\n",
    "  StructField('CORRUPT_DATA',StringType(),True)\n",
    "  ]\n",
    ")\n",
    "df_demo = spark.read.format('parquet').schema(schema_demo).load('dbfs:/FileStore/FAERS-grupo-4/demo_raw',mode=\"PERMISSIVE\",columnNameOfCorruptRecord=\"CORRUPT_DATA\")\n",
    "df_demo.display()\n",
    "df_demo.select('CORRUPT_DATA').distinct().display()\n",
    "df_demo.printSchema()\n",
    "fields = df_demo.schema.fields\n",
    "[\"column_name= %s type= %s metadata= %s\" % (t.name, t.dataType, t.metadata) for t in fields]"
   ]
  },
  {
   "cell_type": "markdown",
   "metadata": {
    "application/vnd.databricks.v1+cell": {
     "cellMetadata": {
      "byteLimit": 2048000,
      "rowLimit": 10000
     },
     "inputWidgets": {},
     "nuid": "4e5be52a-237d-4064-8b0b-ab91e308bfeb",
     "showTitle": false,
     "title": ""
    }
   },
   "source": [
    "# 4. Conclusões"
   ]
  },
  {
   "cell_type": "markdown",
   "metadata": {
    "application/vnd.databricks.v1+cell": {
     "cellMetadata": {
      "byteLimit": 2048000,
      "rowLimit": 10000
     },
     "inputWidgets": {},
     "nuid": "4765c24b-2a3a-4e97-bd72-996c6cff7697",
     "showTitle": false,
     "title": ""
    }
   },
   "source": [
    "Transformações a fazer no pipeline:   \n",
    "- load do schema inicial com metadados   \n",
    "- i_f_code para bool.  \n",
    "- aplcar transformação para data de todas as colunas '_dt' através da função convert_date.  \n",
    "- Fazer mapeamento da coluna 'rept_cod' para 'rept_typ_txt'   \n",
    "- corrgir nulls na coluna age_cod  \n",
    "- Normalizar 'age' em 'years'  \n",
    "- corrigir nulls na coluna age_grp  \n",
    "- Fazer fill dos nulls do sex por UNK  \n",
    "- fazer conversão para booleano da coluna e_sub  \n",
    "- fazer a substituição de UNK por  null na coluna wt_cod  \n",
    "- fazer a conversão da coluna to_mfr para booleano substituindo UNK por nulls  \n",
    "- fazer a substituição de UNK por  null na coluna occp_cod  \n",
    "- criar a coluna occp_txt  \n",
    "- substituir UNKs e nulls por Country not specified  \n",
    "- criar df_countries  \n",
    "- Criar coluna reporter_country_text  \n",
    "- Alterar titulos df_countries para occr_country e criar occr_country_text\n"
   ]
  }
 ],
 "metadata": {
  "application/vnd.databricks.v1+notebook": {
   "dashboards": [],
   "environmentMetadata": null,
   "language": "python",
   "notebookMetadata": {
    "pythonIndentUnit": 4
   },
   "notebookName": "Exploratory_Data_Analysis_Demographic",
   "widgets": {}
  }
 },
 "nbformat": 4,
 "nbformat_minor": 0
}
