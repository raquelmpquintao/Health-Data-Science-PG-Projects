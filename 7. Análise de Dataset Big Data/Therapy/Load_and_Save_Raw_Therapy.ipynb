{
 "cells": [
  {
   "cell_type": "markdown",
   "metadata": {
    "application/vnd.databricks.v1+cell": {
     "cellMetadata": {
      "byteLimit": 2048000,
      "rowLimit": 10000
     },
     "inputWidgets": {},
     "nuid": "7fbefc14-ba6f-4701-98f7-65e7a11899bc",
     "showTitle": false,
     "title": ""
    }
   },
   "source": [
    "# Notebook 1: Load_and_Save_Raw_Therapy\n",
    "\n",
    "## Objetivo\n",
    "Carregar os dados de todos os 5 trimestres da tabela `Therapy` e salvar em formato Parquet.\n",
    "\n",
    "## Passos\n",
    "\n",
    "1. **Carregar dados de todos os trimestres**\n",
    "    - Vamos carregar os dados de `Therapy` para os trimestres 2022Q4, 2023Q1, 2023Q2, 2023Q3 e 2023Q4. \n",
    "    - Spark vai inferir automaticamente o header e o schema, mas somente no próximo notebook será definido manualmente. \n",
    "    \n",
    "2. **Criar DataFrames**\n",
    "    - Cada trimestre será carregado em um DataFrame separado.\n",
    "    \n",
    "3. **Concatenar DataFrames**\n",
    "    - Todos os DataFrames serão concatenados num único DataFrame.\n",
    "    \n",
    "4. **Salvar em formato Parquet**\n",
    "    - O DataFrame concatenado será salvo em formato Parquet para uso eficiente em análises futuras.\n",
    "\n"
   ]
  },
  {
   "cell_type": "code",
   "execution_count": 0,
   "metadata": {
    "application/vnd.databricks.v1+cell": {
     "cellMetadata": {
      "byteLimit": 2048000,
      "rowLimit": 10000
     },
     "inputWidgets": {},
     "nuid": "37a6ad38-2f16-47cc-b608-19adabdc38e3",
     "showTitle": false,
     "title": ""
    }
   },
   "outputs": [],
   "source": [
    "trimestres = ['2022Q4', '2023q1', '2023q2', '2023Q3', '2023Q4']\n",
    "dfs_therapy = []\n",
    "\n"
   ]
  },
  {
   "cell_type": "code",
   "execution_count": 0,
   "metadata": {
    "application/vnd.databricks.v1+cell": {
     "cellMetadata": {
      "byteLimit": 2048000,
      "rowLimit": 10000
     },
     "inputWidgets": {},
     "nuid": "4841f26d-f603-4ae3-a98b-62c0a62f5f0b",
     "showTitle": false,
     "title": ""
    }
   },
   "outputs": [
    {
     "output_type": "stream",
     "name": "stdout",
     "output_type": "stream",
     "text": [
      "Arquivo carregado com sucesso: /FileStore/faers-downloaded/faers_ascii_2022Q4/ASCII/THER22Q4.txt\nArquivo carregado com sucesso: /FileStore/faers-downloaded/faers_ascii_2023q1/ASCII/THER23Q1.txt\nArquivo carregado com sucesso: /FileStore/faers-downloaded/faers_ascii_2023q2/ASCII/THER23Q2.txt\nArquivo carregado com sucesso: /FileStore/faers-downloaded/faers_ascii_2023Q3/ASCII/THER23Q3.txt\nArquivo carregado com sucesso: /FileStore/faers-downloaded/faers_ascii_2023Q4/ASCII/THER23Q4.txt\n"
     ]
    }
   ],
   "source": [
    "for trimestre in trimestres:\n",
    "    ano = trimestre[:4]\n",
    "    quarter = trimestre[-1]\n",
    "    path = f'/FileStore/faers-downloaded/faers_ascii_{trimestre}/ASCII/THER{ano[-2:]}Q{quarter}.txt'\n",
    "    try:\n",
    "        df = spark.read.csv(path, sep='$', header=True, inferSchema=True)\n",
    "        dfs_therapy.append(df)\n",
    "        print(f\"Arquivo carregado com sucesso: {path}\")\n",
    "    except Exception as e:\n",
    "        print(f\"Erro ao carregar {path}: {str(e)}\")\n",
    "\n"
   ]
  },
  {
   "cell_type": "code",
   "execution_count": 0,
   "metadata": {
    "application/vnd.databricks.v1+cell": {
     "cellMetadata": {
      "byteLimit": 2048000,
      "rowLimit": 10000
     },
     "inputWidgets": {},
     "nuid": "eb79ce2b-8a22-45c4-9272-2ebcdc20de22",
     "showTitle": false,
     "title": ""
    }
   },
   "outputs": [
    {
     "output_type": "stream",
     "name": "stdout",
     "output_type": "stream",
     "text": [
      "Todos os dataframes foram unidos com sucesso.\nNúmero total de linhas: 3314417\n"
     ]
    }
   ],
   "source": [
    "#unir dataframes \n",
    "if dfs_therapy:\n",
    "    df_therapy_all = dfs_therapy[0]\n",
    "    for df in dfs_therapy[1:]:\n",
    "        df_therapy_all = df_therapy_all.unionAll(df)\n",
    "    print(\"Todos os dataframes foram unidos com sucesso.\")\n",
    "    print(f\"Número total de linhas: {df_therapy_all.count()}\")\n",
    "else:\n",
    "    print(\"Nenhum arquivo foi carregado com sucesso.\")"
   ]
  },
  {
   "cell_type": "code",
   "execution_count": 0,
   "metadata": {
    "application/vnd.databricks.v1+cell": {
     "cellMetadata": {
      "byteLimit": 2048000,
      "rowLimit": 10000
     },
     "inputWidgets": {},
     "nuid": "bc46e04f-db20-45be-bc4e-f2c06ba4ae74",
     "showTitle": false,
     "title": ""
    }
   },
   "outputs": [
    {
     "output_type": "display_data",
     "data": {
      "text/html": [
       "<style scoped>\n",
       "  .table-result-container {\n",
       "    max-height: 300px;\n",
       "    overflow: auto;\n",
       "  }\n",
       "  table, th, td {\n",
       "    border: 1px solid black;\n",
       "    border-collapse: collapse;\n",
       "  }\n",
       "  th, td {\n",
       "    padding: 5px;\n",
       "  }\n",
       "  th {\n",
       "    text-align: left;\n",
       "  }\n",
       "</style><div class='table-result-container'><table class='table-result'><thead style='background-color: white'><tr><th>primaryid</th><th>caseid</th><th>dsg_drug_seq</th><th>start_dt</th><th>end_dt</th><th>dur</th><th>dur_cod</th></tr></thead><tbody><tr><td>100115733</td><td>10011573</td><td>1</td><td>20120407</td><td>20120409</td><td>63</td><td>DAY</td></tr><tr><td>1002130537</td><td>10021305</td><td>1</td><td>20131219</td><td>20131219</td><td>1</td><td>DAY</td></tr><tr><td>1002130537</td><td>10021305</td><td>4</td><td>20140114</td><td>null</td><td>null</td><td>null</td></tr><tr><td>1002130537</td><td>10021305</td><td>5</td><td>20191119</td><td>null</td><td>null</td><td>null</td></tr><tr><td>100234223</td><td>10023422</td><td>1</td><td>200905</td><td>2012</td><td>3</td><td>YR</td></tr></tbody></table></div>"
      ]
     },
     "metadata": {
      "application/vnd.databricks.v1+output": {
       "addedWidgets": {},
       "aggData": [],
       "aggError": "",
       "aggOverflow": false,
       "aggSchema": [],
       "aggSeriesLimitReached": false,
       "aggType": "",
       "arguments": {},
       "columnCustomDisplayInfos": {},
       "data": [
        [
         100115733,
         10011573,
         1,
         20120407,
         20120409,
         63,
         "DAY"
        ],
        [
         1002130537,
         10021305,
         1,
         20131219,
         20131219,
         1,
         "DAY"
        ],
        [
         1002130537,
         10021305,
         4,
         20140114,
         null,
         null,
         null
        ],
        [
         1002130537,
         10021305,
         5,
         20191119,
         null,
         null,
         null
        ],
        [
         100234223,
         10023422,
         1,
         200905,
         2012,
         3,
         "YR"
        ]
       ],
       "datasetInfos": [],
       "dbfsResultPath": null,
       "isJsonSchema": true,
       "metadata": {},
       "overflow": false,
       "plotOptions": {
        "customPlotOptions": {},
        "displayType": "table",
        "pivotAggregation": null,
        "pivotColumns": null,
        "xColumns": null,
        "yColumns": null
       },
       "removedWidgets": [],
       "schema": [
        {
         "metadata": "{}",
         "name": "primaryid",
         "type": "\"long\""
        },
        {
         "metadata": "{}",
         "name": "caseid",
         "type": "\"integer\""
        },
        {
         "metadata": "{}",
         "name": "dsg_drug_seq",
         "type": "\"integer\""
        },
        {
         "metadata": "{}",
         "name": "start_dt",
         "type": "\"integer\""
        },
        {
         "metadata": "{}",
         "name": "end_dt",
         "type": "\"integer\""
        },
        {
         "metadata": "{}",
         "name": "dur",
         "type": "\"integer\""
        },
        {
         "metadata": "{}",
         "name": "dur_cod",
         "type": "\"string\""
        }
       ],
       "type": "table"
      }
     },
     "output_type": "display_data"
    }
   ],
   "source": [
    "# Mostrar as primeiras linhas e o schema\n",
    "df_therapy_all.limit(5).display()"
   ]
  },
  {
   "cell_type": "code",
   "execution_count": 0,
   "metadata": {
    "application/vnd.databricks.v1+cell": {
     "cellMetadata": {
      "byteLimit": 2048000,
      "rowLimit": 10000
     },
     "inputWidgets": {},
     "nuid": "3c10bbe8-3f93-4e77-b1c5-54cd4944218d",
     "showTitle": false,
     "title": ""
    }
   },
   "outputs": [
    {
     "output_type": "stream",
     "name": "stdout",
     "output_type": "stream",
     "text": [
      "root\n |-- primaryid: long (nullable = true)\n |-- caseid: integer (nullable = true)\n |-- dsg_drug_seq: integer (nullable = true)\n |-- start_dt: integer (nullable = true)\n |-- end_dt: integer (nullable = true)\n |-- dur: integer (nullable = true)\n |-- dur_cod: string (nullable = true)\n\n"
     ]
    }
   ],
   "source": [
    "#mostrar schema\n",
    "df_therapy_all.printSchema()"
   ]
  },
  {
   "cell_type": "code",
   "execution_count": 0,
   "metadata": {
    "application/vnd.databricks.v1+cell": {
     "cellMetadata": {
      "byteLimit": 2048000,
      "rowLimit": 10000
     },
     "inputWidgets": {},
     "nuid": "a6b9849c-724b-4618-aed0-fd9407a160d1",
     "showTitle": false,
     "title": ""
    }
   },
   "outputs": [],
   "source": [
    "# modo overwrite \n",
    "df_therapy_all.write.mode('overwrite').parquet(\"dbfs:/FileStore/FAERS-grupo-4/therapy_raw\")"
   ]
  },
  {
   "cell_type": "code",
   "execution_count": 0,
   "metadata": {
    "application/vnd.databricks.v1+cell": {
     "cellMetadata": {
      "byteLimit": 2048000,
      "rowLimit": 10000
     },
     "inputWidgets": {},
     "nuid": "c026c53c-5a95-4f8b-a64b-0d04c881b5fe",
     "showTitle": false,
     "title": ""
    }
   },
   "outputs": [
    {
     "output_type": "stream",
     "name": "stdout",
     "output_type": "stream",
     "text": [
      "Dados de todos os quarters carregados e salvos em formato Parquet.\n"
     ]
    }
   ],
   "source": [
    "# Conclusão\n",
    "print(\"Dados de todos os quarters carregados e salvos em formato Parquet.\")"
   ]
  }
 ],
 "metadata": {
  "application/vnd.databricks.v1+notebook": {
   "dashboards": [],
   "environmentMetadata": null,
   "language": "python",
   "notebookMetadata": {
    "pythonIndentUnit": 4
   },
   "notebookName": "Load_and_Save_Raw_Therapy",
   "widgets": {}
  }
 },
 "nbformat": 4,
 "nbformat_minor": 0
}
