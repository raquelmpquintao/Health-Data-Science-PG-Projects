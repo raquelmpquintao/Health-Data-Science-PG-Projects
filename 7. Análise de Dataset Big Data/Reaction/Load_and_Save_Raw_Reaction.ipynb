{
 "cells": [
  {
   "cell_type": "markdown",
   "metadata": {
    "application/vnd.databricks.v1+cell": {
     "cellMetadata": {
      "byteLimit": 2048000,
      "rowLimit": 10000
     },
     "inputWidgets": {},
     "nuid": "7fbefc14-ba6f-4701-98f7-65e7a11899bc",
     "showTitle": false,
     "title": ""
    }
   },
   "source": [
    "# Notebook 1: Load_and_Save_Raw_Reaction\n",
    "\n",
    "## Objetivo\n",
    "Carregar os dados de todos os 5 trimestres da tabela `Reaction` e salvar em formato Parquet.\n",
    "\n",
    "## Passos\n",
    "\n",
    "1. **Carregar dados de todos os trimestres**\n",
    "    - Vamos carregar os dados de `Reaction` para os trimestres 2022Q4, 2023Q1, 2023Q2, 2023Q3 e 2023Q4. \n",
    "    - Spark vai inferir automaticamente o header e o schema, mas somente no próximo notebook será definido manualmente. \n",
    "    \n",
    "2. **Criar DataFrames**\n",
    "    - Cada trimestre será carregado num DataFrame separado.\n",
    "    \n",
    "3. **Concatenar DataFrames**\n",
    "    - Todos os DataFrames serão concatenados num único DataFrame.\n",
    "    \n",
    "4. **Salvar em formato Parquet**\n",
    "    - O DataFrame concatenado será salvo em formato Parquet para uso eficiente em análises futuras. (parquet raw)\n",
    "\n"
   ]
  },
  {
   "cell_type": "markdown",
   "metadata": {
    "application/vnd.databricks.v1+cell": {
     "cellMetadata": {
      "byteLimit": 2048000,
      "rowLimit": 10000
     },
     "inputWidgets": {},
     "nuid": "dfcdb3e4-1901-48d1-81b8-11e8d2ff2005",
     "showTitle": false,
     "title": ""
    }
   },
   "source": []
  },
  {
   "cell_type": "markdown",
   "metadata": {
    "application/vnd.databricks.v1+cell": {
     "cellMetadata": {
      "byteLimit": 2048000,
      "rowLimit": 10000
     },
     "inputWidgets": {},
     "nuid": "e27c19da-ae59-4504-87cc-a4ca0abc6f4c",
     "showTitle": false,
     "title": ""
    }
   },
   "source": [
    "Importação de funções auxiliares"
   ]
  },
  {
   "cell_type": "code",
   "execution_count": 0,
   "metadata": {
    "application/vnd.databricks.v1+cell": {
     "cellMetadata": {
      "byteLimit": 2048000,
      "rowLimit": 10000
     },
     "inputWidgets": {},
     "nuid": "fa590572-2772-404d-856b-2d756bee23b0",
     "showTitle": false,
     "title": ""
    }
   },
   "outputs": [],
   "source": [
    "%run \"../Funcoes_auxiliares\" "
   ]
  },
  {
   "cell_type": "code",
   "execution_count": 0,
   "metadata": {
    "application/vnd.databricks.v1+cell": {
     "cellMetadata": {
      "byteLimit": 2048000,
      "rowLimit": 10000
     },
     "inputWidgets": {},
     "nuid": "37a6ad38-2f16-47cc-b608-19adabdc38e3",
     "showTitle": false,
     "title": ""
    }
   },
   "outputs": [],
   "source": [
    "trimestres = ['2022Q4', '2023q1', '2023q2', '2023Q3', '2023Q4']\n",
    "tabela = 'REAC'\n"
   ]
  },
  {
   "cell_type": "code",
   "execution_count": 0,
   "metadata": {
    "application/vnd.databricks.v1+cell": {
     "cellMetadata": {
      "byteLimit": 2048000,
      "rowLimit": 10000
     },
     "inputWidgets": {},
     "nuid": "3955fef4-03a2-4394-ad77-7c951f06e353",
     "showTitle": false,
     "title": ""
    }
   },
   "outputs": [
    {
     "output_type": "stream",
     "name": "stdout",
     "output_type": "stream",
     "text": [
      "Arquivo carregado com sucesso: /FileStore/faers-downloaded/faers_ascii_2022Q4/ASCII/REAC22Q4.txt\nArquivo carregado com sucesso: /FileStore/faers-downloaded/faers_ascii_2023q1/ASCII/REAC23Q1.txt\nArquivo carregado com sucesso: /FileStore/faers-downloaded/faers_ascii_2023q2/ASCII/REAC23Q2.txt\nArquivo carregado com sucesso: /FileStore/faers-downloaded/faers_ascii_2023Q3/ASCII/REAC23Q3.txt\nArquivo carregado com sucesso: /FileStore/faers-downloaded/faers_ascii_2023Q4/ASCII/REAC23Q4.txt\nTodos os dataframes foram unidos com sucesso.\nNúmero total de linhas: 7461401\n"
     ]
    }
   ],
   "source": [
    "df_reac=obter_tabela(tabela,trimestres)"
   ]
  },
  {
   "cell_type": "code",
   "execution_count": 0,
   "metadata": {
    "application/vnd.databricks.v1+cell": {
     "cellMetadata": {
      "byteLimit": 2048000,
      "rowLimit": 10000
     },
     "inputWidgets": {},
     "nuid": "a6b9849c-724b-4618-aed0-fd9407a160d1",
     "showTitle": false,
     "title": ""
    }
   },
   "outputs": [],
   "source": [
    "\n",
    "# modo overwrite \n",
    "df_reac.write.mode('overwrite').parquet(\"dbfs:/FileStore/FAERS-grupo-4/reac_raw\")\n",
    "\n",
    "\n"
   ]
  },
  {
   "cell_type": "code",
   "execution_count": 0,
   "metadata": {
    "application/vnd.databricks.v1+cell": {
     "cellMetadata": {
      "byteLimit": 2048000,
      "rowLimit": 10000
     },
     "inputWidgets": {},
     "nuid": "c026c53c-5a95-4f8b-a64b-0d04c881b5fe",
     "showTitle": false,
     "title": ""
    }
   },
   "outputs": [
    {
     "output_type": "stream",
     "name": "stdout",
     "output_type": "stream",
     "text": [
      "Dados de todos os quarters carregados e salvos em formato Parquet para a tabela REAC.\n"
     ]
    }
   ],
   "source": [
    "# Conclusão\n",
    "print(\"Dados de todos os quarters carregados e salvos em formato Parquet \"+\"para a tabela \"+tabela+\".\")"
   ]
  }
 ],
 "metadata": {
  "application/vnd.databricks.v1+notebook": {
   "dashboards": [],
   "environmentMetadata": null,
   "language": "python",
   "notebookMetadata": {
    "pythonIndentUnit": 4
   },
   "notebookName": "Load_and_Save_Raw_Reaction",
   "widgets": {}
  }
 },
 "nbformat": 4,
 "nbformat_minor": 0
}
