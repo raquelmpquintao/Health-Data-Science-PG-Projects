{
 "cells": [
  {
   "cell_type": "markdown",
   "metadata": {
    "application/vnd.databricks.v1+cell": {
     "cellMetadata": {
      "byteLimit": 2048000,
      "rowLimit": 10000
     },
     "inputWidgets": {},
     "nuid": "290351a8-f45d-410f-a79c-ea3668e9efe7",
     "showTitle": false,
     "title": ""
    }
   },
   "source": [
    "# Notebook 3: Funções de Transformação e Limpeza de Dados\n",
    "\n",
    "## Introdução\n",
    "Neste notebook, iremos implementar as transformações e limpar os dados da tabela 'Reaction' do conjunto de dados FAERS, com base na análise exploratória realizada no notebook anterior (Exploratory_Data_Analysis_Reaction). \n",
    "\n",
    "## Estrutura do notebook\n",
    "- Importação de Bibliotecas\n",
    "- Carregamento dos Dados (Parquet Raw) usando o Schema definido \n",
    "- Aplicar apenas as Transformações necessárias\n",
    "- Salvar **Parquet Final** com os Dados Limpos\n"
   ]
  },
  {
   "cell_type": "code",
   "execution_count": 0,
   "metadata": {
    "application/vnd.databricks.v1+cell": {
     "cellMetadata": {
      "byteLimit": 2048000,
      "rowLimit": 10000
     },
     "inputWidgets": {},
     "nuid": "e2f90a46-ea2f-435e-9741-a2f0019cc3ee",
     "showTitle": false,
     "title": ""
    }
   },
   "outputs": [],
   "source": [
    "# Importar bibliotecas necessárias\n",
    "from pyspark.sql import SparkSession\n",
    "from pyspark.sql.types import StructType, StructField, StringType, IntegerType, BooleanType, LongType"
   ]
  },
  {
   "cell_type": "code",
   "execution_count": 0,
   "metadata": {
    "application/vnd.databricks.v1+cell": {
     "cellMetadata": {
      "byteLimit": 2048000,
      "rowLimit": 10000
     },
     "inputWidgets": {},
     "nuid": "e303ce9e-1f42-4b2c-b8ae-7979aa3f62d8",
     "showTitle": false,
     "title": ""
    }
   },
   "outputs": [],
   "source": [
    "%run \"../Funcoes_auxiliares\" "
   ]
  },
  {
   "cell_type": "code",
   "execution_count": 0,
   "metadata": {
    "application/vnd.databricks.v1+cell": {
     "cellMetadata": {
      "byteLimit": 2048000,
      "rowLimit": 10000
     },
     "inputWidgets": {},
     "nuid": "c2f35ec4-be5c-44f9-8958-142975c96f92",
     "showTitle": false,
     "title": ""
    }
   },
   "outputs": [],
   "source": [
    "# Carregar dados do Parquet raw\n",
    "schema_reac = StructType([\n",
    "    StructField(\"primaryid\", LongType(), False,{'description': \"Unique number for identifying a FAERS report.\"}),\n",
    "    StructField(\"caseid\", IntegerType(), False,{'description': \"Number for identifying a FAERS case.\"}),\n",
    "    StructField(\"pt\", StringType(), False,{'description': \"'Preferred Term'-level medical terminology describing the event, using the Medical Dictionary for Regulatory Activities (MedDRA).\"}),\n",
    "    StructField(\"drug_rec_act\", StringType(), True, {'description': \"Drug Recur Action data - populated with reaction/event the event reappears upon readministration of the drug.\"})\n",
    "])\n",
    "df_reac = spark.read.format('parquet').schema(schema_reac).load('dbfs:/FileStore/FAERS-grupo-4/reac_raw',mode=\"PERMISSIVE\")"
   ]
  },
  {
   "cell_type": "code",
   "execution_count": 0,
   "metadata": {
    "application/vnd.databricks.v1+cell": {
     "cellMetadata": {
      "byteLimit": 2048000,
      "rowLimit": 10000
     },
     "inputWidgets": {},
     "nuid": "033b2207-8e4a-41a9-87a5-ccf3b9d9613f",
     "showTitle": false,
     "title": ""
    }
   },
   "outputs": [],
   "source": [
    "#Transformar a coluna 'drug_rec_act' em Boleano\n",
    "df_reac = df_reac.withColumn('drug_rec_act_bool', df_reac['drug_rec_act'].isNotNull())\n",
    "#Eliminar a coluna original\n",
    "df_reac=df_reac.drop('drug_rec_act')\n",
    "#Mudar nome das colunas\n",
    "df_reac=df_reac.withColumnsRenamed({'pt':'Event','drug_rec_act_bool':'Recur_Event'})"
   ]
  },
  {
   "cell_type": "code",
   "execution_count": 0,
   "metadata": {
    "application/vnd.databricks.v1+cell": {
     "cellMetadata": {
      "byteLimit": 2048000,
      "rowLimit": 10000
     },
     "inputWidgets": {},
     "nuid": "ecf74f6a-c2c6-43ea-8b06-47ead11c2639",
     "showTitle": false,
     "title": ""
    }
   },
   "outputs": [],
   "source": [
    "#Restaurar metadados\n",
    "df_reac = restore_metadata(schema_reac,df_reac)"
   ]
  },
  {
   "cell_type": "code",
   "execution_count": 0,
   "metadata": {
    "application/vnd.databricks.v1+cell": {
     "cellMetadata": {
      "byteLimit": 2048000,
      "rowLimit": 10000
     },
     "inputWidgets": {},
     "nuid": "1d537ebe-52f3-4169-9a0e-6733397e00f5",
     "showTitle": false,
     "title": ""
    }
   },
   "outputs": [],
   "source": [
    "# salvar parquet final\n",
    "df_reac.write.mode('overwrite').parquet(\"dbfs:/FileStore/FAERS-grupo-4/reac_final\")"
   ]
  }
 ],
 "metadata": {
  "application/vnd.databricks.v1+notebook": {
   "dashboards": [],
   "environmentMetadata": null,
   "language": "python",
   "notebookMetadata": {
    "pythonIndentUnit": 4
   },
   "notebookName": "Process_and_Save_Final_Reaction",
   "widgets": {}
  }
 },
 "nbformat": 4,
 "nbformat_minor": 0
}
